{
 "cells": [
  {
   "attachments": {},
   "cell_type": "markdown",
   "metadata": {},
   "source": [
    "# Tarea Sesión 2\n",
    "\n",
    "Se tiene un conjunto de datos sobre las ventas mensuales de productos en una tienda. Cada fila representa un producto y tiene las siguientes columnas: ```Producto```, ```Enero```, ```Febrero```, ```Marzo```. Sobre este archivo de datos, realice lo siguiente:\n",
    "1. Crea un DataFrame a partir del archivo ```ventas.csv```.\n",
    "2. Muestra las primeras y últimas 7 filas del DataFrame creado.\n",
    "3. Calcula el promedio de ventas para cada mes.\n",
    "4. Encuentra el producto con la venta máxima en el mes de enero.\n",
    "5. Ordena el DataFrame por la columna ```Marzo``` en orden descendente.\n",
    "6. Guarda el DataFrame ordenado en un nuevo archivo CSV llamado ```ventas_ordenadas.csv```.\n",
    "7. Filtra el DataFrame para mostrar solo los productos con ventas superiores a 50 en el mes de febrero.\n",
    "8. Agrega una nueva columna al DataFrame llamada ```Venta Total``` que contenga la suma de las ventas de todos los meses para cada producto.\n",
    "9. Calcula la venta total de todos los productos en el primer trimestre (enero, febrero, marzo).\n",
    "10. Agrupa el DataFrame por mes y calcula la suma de ventas para cada mes."
   ]
  },
  {
   "attachments": {},
   "cell_type": "markdown",
   "metadata": {},
   "source": [
    "## 1.- Crea un DataFrame a partir del archivo CSV \"ventas.csv\""
   ]
  },
  {
   "cell_type": "code",
   "execution_count": 1,
   "metadata": {},
   "outputs": [
    {
     "name": "stdout",
     "output_type": "stream",
     "text": [
      "Requirement already satisfied: pandas in /Users/lazaro.bustio/Downloads/06.- Diplomado (Módulo 4) - Otoño/Código/.venv/lib/python3.8/site-packages (2.0.3)\n",
      "Requirement already satisfied: python-dateutil>=2.8.2 in /Users/lazaro.bustio/Downloads/06.- Diplomado (Módulo 4) - Otoño/Código/.venv/lib/python3.8/site-packages (from pandas) (2.8.2)\n",
      "Requirement already satisfied: pytz>=2020.1 in /Users/lazaro.bustio/Downloads/06.- Diplomado (Módulo 4) - Otoño/Código/.venv/lib/python3.8/site-packages (from pandas) (2023.3.post1)\n",
      "Requirement already satisfied: tzdata>=2022.1 in /Users/lazaro.bustio/Downloads/06.- Diplomado (Módulo 4) - Otoño/Código/.venv/lib/python3.8/site-packages (from pandas) (2023.3)\n",
      "Requirement already satisfied: numpy>=1.20.3 in /Users/lazaro.bustio/Downloads/06.- Diplomado (Módulo 4) - Otoño/Código/.venv/lib/python3.8/site-packages (from pandas) (1.24.4)\n",
      "Requirement already satisfied: six>=1.5 in /Users/lazaro.bustio/Downloads/06.- Diplomado (Módulo 4) - Otoño/Código/.venv/lib/python3.8/site-packages (from python-dateutil>=2.8.2->pandas) (1.16.0)\n",
      "Note: you may need to restart the kernel to use updated packages.\n"
     ]
    }
   ],
   "source": [
    "%pip install pandas"
   ]
  },
  {
   "cell_type": "code",
   "execution_count": 2,
   "metadata": {},
   "outputs": [
    {
     "name": "stdout",
     "output_type": "stream",
     "text": [
      "                   Producto    Enero  Febrero    Marzo\n",
      "0                 iPhone 13  1149.56  1099.87   999.21\n",
      "1  Samsung Galaxy S21 Ultra  1199.99  1249.32  1149.45\n",
      "2             PlayStation 5   499.43   499.76   499.98\n",
      "3               AirPods Pro   249.77   249.32   249.99\n",
      "4      Nintendo Switch OLED   349.45   349.87   349.67\n"
     ]
    }
   ],
   "source": [
    "import pandas as pd\n",
    "\n",
    "# Cargar el archivo CSV en un DataFrame\n",
    "df = pd.read_csv(\"ventas.csv\")\n",
    "\n",
    "# Muestra las primeras 5 filas del DataFrame\n",
    "print(df.head())"
   ]
  },
  {
   "attachments": {},
   "cell_type": "markdown",
   "metadata": {},
   "source": [
    "## 2.- Muestra las primeras 5 filas del DataFrame"
   ]
  },
  {
   "cell_type": "code",
   "execution_count": 3,
   "metadata": {},
   "outputs": [
    {
     "name": "stdout",
     "output_type": "stream",
     "text": [
      "                   Producto    Enero  Febrero    Marzo\n",
      "0                 iPhone 13  1149.56  1099.87   999.21\n",
      "1  Samsung Galaxy S21 Ultra  1199.99  1249.32  1149.45\n",
      "2             PlayStation 5   499.43   499.76   499.98\n",
      "3               AirPods Pro   249.77   249.32   249.99\n",
      "4      Nintendo Switch OLED   349.45   349.87   349.67\n"
     ]
    }
   ],
   "source": [
    "# Muestra las primeras 5 filas del DataFrame\n",
    "print(df.head())"
   ]
  },
  {
   "attachments": {},
   "cell_type": "markdown",
   "metadata": {},
   "source": [
    "## 3.- Calcula el promedio de ventas para cada mes"
   ]
  },
  {
   "cell_type": "code",
   "execution_count": 5,
   "metadata": {},
   "outputs": [
    {
     "name": "stdout",
     "output_type": "stream",
     "text": [
      "Enero      839.838478\n",
      "Febrero    839.893261\n",
      "Marzo      835.532609\n",
      "dtype: float64\n"
     ]
    }
   ],
   "source": [
    "# Calcula el promedio de ventas para cada mes\n",
    "promedio_ventas = df[[\"Enero\", \"Febrero\", \"Marzo\"]].mean()\n",
    "print(promedio_ventas)"
   ]
  },
  {
   "attachments": {},
   "cell_type": "markdown",
   "metadata": {},
   "source": [
    "## 4.- Encuentra el producto con la venta máxima en el mes de enero"
   ]
  },
  {
   "cell_type": "code",
   "execution_count": 6,
   "metadata": {},
   "outputs": [
    {
     "name": "stdout",
     "output_type": "stream",
     "text": [
      "Producto con la venta máxima en enero: Sony BRAVIA XR A90J\n"
     ]
    }
   ],
   "source": [
    "# Encuentra el producto con la venta máxima en enero\n",
    "producto_max_enero = df.loc[df['Enero'].idxmax(), 'Producto']\n",
    "print(\"Producto con la venta máxima en enero:\", producto_max_enero)"
   ]
  },
  {
   "attachments": {},
   "cell_type": "markdown",
   "metadata": {},
   "source": [
    "## 5.- Ordena el DataFrame por la columna \"Marzo\" en orden descendente"
   ]
  },
  {
   "cell_type": "code",
   "execution_count": 7,
   "metadata": {},
   "outputs": [
    {
     "name": "stdout",
     "output_type": "stream",
     "text": [
      "                      Producto    Enero  Febrero    Marzo\n",
      "24         Sony BRAVIA XR A90J  3299.45  3299.56  3299.32\n",
      "11                Canon EOS R6  2499.32  2499.56  2499.76\n",
      "10                 DJI Mavic 3  2299.76  2299.45  2299.87\n",
      "25                  LG C1 OLED  2299.56  2299.87  2299.76\n",
      "21   Lenovo ThinkPad X1 Carbon  1999.45  1999.76  1999.87\n",
      "17                  LG OLED TV  1999.76  1999.45  1999.87\n",
      "18           Apple MacBook Pro  1999.87  1999.56  1999.32\n",
      "20                 Dell XPS 15  1899.56  1899.32  1899.45\n",
      "23      Samsung Galaxy Z Fold3  1799.76  1799.87  1799.45\n",
      "16          Samsung QLED 4K TV  1499.45  1499.76  1499.56\n",
      "19             HP Spectre x360  1349.32  1349.45  1349.76\n",
      "13  Microsoft Surface Laptop 4  1299.56  1299.99  1299.87\n",
      "1     Samsung Galaxy S21 Ultra  1199.99  1249.32  1149.45\n",
      "12                    iPad Pro  1099.87  1099.45  1099.56\n",
      "0                    iPhone 13  1149.56  1099.87   999.21\n",
      "22          Google Pixel 6 Pro   899.32   899.76   899.56\n",
      "31           iRobot Roomba i7+   799.32   799.56   799.76\n",
      "37          Garmin Fenix 6 Pro   699.56   699.87   699.32\n",
      "35               Vitamix A3500   599.76   599.99   599.45\n",
      "7           GoPro HERO10 Black   499.67   499.87   499.99\n",
      "2                PlayStation 5   499.43   499.76   499.98\n",
      "15               Xbox Series X   499.99   499.67   499.87\n",
      "5         Apple Watch Series 7   399.45   399.87   399.99\n",
      "14      Sony PlayStation 4 Pro   399.32   399.45   399.76\n",
      "27                  Sonos Move   399.87   399.99   399.45\n",
      "39     Breville Smart Oven Air   399.87   399.99   399.45\n",
      "33      KitchenAid Stand Mixer   379.45   379.56   379.76\n",
      "38           GoPro HERO9 Black   349.45   349.56   349.76\n",
      "4         Nintendo Switch OLED   349.45   349.87   349.67\n",
      "9              Sony WH-1000XM4   349.87   349.99   349.45\n",
      "6      Bose QuietComfort 35 II   329.56   329.76   329.32\n",
      "26     Bose SoundLink Revolve+   299.45   299.76   299.32\n",
      "44   Bose QuietComfort Earbuds   279.56   279.87   279.99\n",
      "3                  AirPods Pro   249.77   249.32   249.99\n",
      "28         Amazon Echo Show 10   249.99   249.67   249.87\n",
      "40          Ninja Foodi Deluxe   249.32   249.87   249.45\n",
      "30    Nest Learning Thermostat   249.76   249.32   249.45\n",
      "36              Fitbit Versa 3   229.45   229.56   229.87\n",
      "32       Instant Pot Duo Crisp   199.87   199.45   199.99\n",
      "43              Sony WH-CH710N   199.45   199.76   199.87\n",
      "42                JBL Charge 5   179.76   179.99   179.45\n",
      "8              Fitbit Charge 5   179.76   179.32   179.45\n",
      "41              Keurig K-Elite   169.87   169.45   169.99\n",
      "45           Beats Studio Buds   149.99   149.67   149.87\n",
      "29          Apple HomePod Mini    99.67    99.45    99.87\n",
      "34      Cuisinart Coffee Maker    99.32    99.87    99.45\n"
     ]
    }
   ],
   "source": [
    "# Ordena el DataFrame por la columna \"Marzo\" en orden descendente\n",
    "df_ordenado = df.sort_values(by='Marzo', ascending=False)\n",
    "print(df_ordenado)"
   ]
  },
  {
   "attachments": {},
   "cell_type": "markdown",
   "metadata": {},
   "source": [
    "## 6.- Guarda el DataFrame ordenado en un nuevo archivo CSV llamado \"ventas_ordenadas.csv\""
   ]
  },
  {
   "cell_type": "code",
   "execution_count": 8,
   "metadata": {},
   "outputs": [
    {
     "name": "stdout",
     "output_type": "stream",
     "text": [
      "DataFrame ordenado guardado en ventas_ordenadas.csv\n"
     ]
    }
   ],
   "source": [
    "# Guarda el DataFrame ordenado en un nuevo archivo CSV\n",
    "df_ordenado.to_csv(\"ventas_ordenadas.csv\", index=False)\n",
    "print(\"DataFrame ordenado guardado en ventas_ordenadas.csv\")"
   ]
  },
  {
   "attachments": {},
   "cell_type": "markdown",
   "metadata": {},
   "source": [
    "## 7.- Filtra el DataFrame para mostrar solo los productos con ventas superiores a 50 en el mes de febrero"
   ]
  },
  {
   "cell_type": "code",
   "execution_count": 9,
   "metadata": {},
   "outputs": [
    {
     "name": "stdout",
     "output_type": "stream",
     "text": [
      "                      Producto    Enero  Febrero    Marzo\n",
      "0                    iPhone 13  1149.56  1099.87   999.21\n",
      "1     Samsung Galaxy S21 Ultra  1199.99  1249.32  1149.45\n",
      "2                PlayStation 5   499.43   499.76   499.98\n",
      "3                  AirPods Pro   249.77   249.32   249.99\n",
      "4         Nintendo Switch OLED   349.45   349.87   349.67\n",
      "5         Apple Watch Series 7   399.45   399.87   399.99\n",
      "6      Bose QuietComfort 35 II   329.56   329.76   329.32\n",
      "7           GoPro HERO10 Black   499.67   499.87   499.99\n",
      "8              Fitbit Charge 5   179.76   179.32   179.45\n",
      "9              Sony WH-1000XM4   349.87   349.99   349.45\n",
      "10                 DJI Mavic 3  2299.76  2299.45  2299.87\n",
      "11                Canon EOS R6  2499.32  2499.56  2499.76\n",
      "12                    iPad Pro  1099.87  1099.45  1099.56\n",
      "13  Microsoft Surface Laptop 4  1299.56  1299.99  1299.87\n",
      "14      Sony PlayStation 4 Pro   399.32   399.45   399.76\n",
      "15               Xbox Series X   499.99   499.67   499.87\n",
      "16          Samsung QLED 4K TV  1499.45  1499.76  1499.56\n",
      "17                  LG OLED TV  1999.76  1999.45  1999.87\n",
      "18           Apple MacBook Pro  1999.87  1999.56  1999.32\n",
      "19             HP Spectre x360  1349.32  1349.45  1349.76\n",
      "20                 Dell XPS 15  1899.56  1899.32  1899.45\n",
      "21   Lenovo ThinkPad X1 Carbon  1999.45  1999.76  1999.87\n",
      "22          Google Pixel 6 Pro   899.32   899.76   899.56\n",
      "23      Samsung Galaxy Z Fold3  1799.76  1799.87  1799.45\n",
      "24         Sony BRAVIA XR A90J  3299.45  3299.56  3299.32\n",
      "25                  LG C1 OLED  2299.56  2299.87  2299.76\n",
      "26     Bose SoundLink Revolve+   299.45   299.76   299.32\n",
      "27                  Sonos Move   399.87   399.99   399.45\n",
      "28         Amazon Echo Show 10   249.99   249.67   249.87\n",
      "29          Apple HomePod Mini    99.67    99.45    99.87\n",
      "30    Nest Learning Thermostat   249.76   249.32   249.45\n",
      "31           iRobot Roomba i7+   799.32   799.56   799.76\n",
      "32       Instant Pot Duo Crisp   199.87   199.45   199.99\n",
      "33      KitchenAid Stand Mixer   379.45   379.56   379.76\n",
      "34      Cuisinart Coffee Maker    99.32    99.87    99.45\n",
      "35               Vitamix A3500   599.76   599.99   599.45\n",
      "36              Fitbit Versa 3   229.45   229.56   229.87\n",
      "37          Garmin Fenix 6 Pro   699.56   699.87   699.32\n",
      "38           GoPro HERO9 Black   349.45   349.56   349.76\n",
      "39     Breville Smart Oven Air   399.87   399.99   399.45\n",
      "40          Ninja Foodi Deluxe   249.32   249.87   249.45\n",
      "41              Keurig K-Elite   169.87   169.45   169.99\n",
      "42                JBL Charge 5   179.76   179.99   179.45\n",
      "43              Sony WH-CH710N   199.45   199.76   199.87\n",
      "44   Bose QuietComfort Earbuds   279.56   279.87   279.99\n",
      "45           Beats Studio Buds   149.99   149.67   149.87\n"
     ]
    }
   ],
   "source": [
    "# Filtra el DataFrame para mostrar solo los productos con ventas superiores a 50 en febrero\n",
    "productos_ventas_superiores_50 = df[df['Febrero'] > 50]\n",
    "print(productos_ventas_superiores_50)"
   ]
  },
  {
   "attachments": {},
   "cell_type": "markdown",
   "metadata": {},
   "source": [
    "## 8.- Agrega una nueva columna al DataFrame llamada \"Venta Total\" que contenga la suma de las ventas de todos los meses para cada producto"
   ]
  },
  {
   "cell_type": "code",
   "execution_count": 10,
   "metadata": {},
   "outputs": [
    {
     "name": "stdout",
     "output_type": "stream",
     "text": [
      "                      Producto    Enero  Febrero    Marzo  Venta Total\n",
      "0                    iPhone 13  1149.56  1099.87   999.21      3248.64\n",
      "1     Samsung Galaxy S21 Ultra  1199.99  1249.32  1149.45      3598.76\n",
      "2                PlayStation 5   499.43   499.76   499.98      1499.17\n",
      "3                  AirPods Pro   249.77   249.32   249.99       749.08\n",
      "4         Nintendo Switch OLED   349.45   349.87   349.67      1048.99\n",
      "5         Apple Watch Series 7   399.45   399.87   399.99      1199.31\n",
      "6      Bose QuietComfort 35 II   329.56   329.76   329.32       988.64\n",
      "7           GoPro HERO10 Black   499.67   499.87   499.99      1499.53\n",
      "8              Fitbit Charge 5   179.76   179.32   179.45       538.53\n",
      "9              Sony WH-1000XM4   349.87   349.99   349.45      1049.31\n",
      "10                 DJI Mavic 3  2299.76  2299.45  2299.87      6899.08\n",
      "11                Canon EOS R6  2499.32  2499.56  2499.76      7498.64\n",
      "12                    iPad Pro  1099.87  1099.45  1099.56      3298.88\n",
      "13  Microsoft Surface Laptop 4  1299.56  1299.99  1299.87      3899.42\n",
      "14      Sony PlayStation 4 Pro   399.32   399.45   399.76      1198.53\n",
      "15               Xbox Series X   499.99   499.67   499.87      1499.53\n",
      "16          Samsung QLED 4K TV  1499.45  1499.76  1499.56      4498.77\n",
      "17                  LG OLED TV  1999.76  1999.45  1999.87      5999.08\n",
      "18           Apple MacBook Pro  1999.87  1999.56  1999.32      5998.75\n",
      "19             HP Spectre x360  1349.32  1349.45  1349.76      4048.53\n",
      "20                 Dell XPS 15  1899.56  1899.32  1899.45      5698.33\n",
      "21   Lenovo ThinkPad X1 Carbon  1999.45  1999.76  1999.87      5999.08\n",
      "22          Google Pixel 6 Pro   899.32   899.76   899.56      2698.64\n",
      "23      Samsung Galaxy Z Fold3  1799.76  1799.87  1799.45      5399.08\n",
      "24         Sony BRAVIA XR A90J  3299.45  3299.56  3299.32      9898.33\n",
      "25                  LG C1 OLED  2299.56  2299.87  2299.76      6899.19\n",
      "26     Bose SoundLink Revolve+   299.45   299.76   299.32       898.53\n",
      "27                  Sonos Move   399.87   399.99   399.45      1199.31\n",
      "28         Amazon Echo Show 10   249.99   249.67   249.87       749.53\n",
      "29          Apple HomePod Mini    99.67    99.45    99.87       298.99\n",
      "30    Nest Learning Thermostat   249.76   249.32   249.45       748.53\n",
      "31           iRobot Roomba i7+   799.32   799.56   799.76      2398.64\n",
      "32       Instant Pot Duo Crisp   199.87   199.45   199.99       599.31\n",
      "33      KitchenAid Stand Mixer   379.45   379.56   379.76      1138.77\n",
      "34      Cuisinart Coffee Maker    99.32    99.87    99.45       298.64\n",
      "35               Vitamix A3500   599.76   599.99   599.45      1799.20\n",
      "36              Fitbit Versa 3   229.45   229.56   229.87       688.88\n",
      "37          Garmin Fenix 6 Pro   699.56   699.87   699.32      2098.75\n",
      "38           GoPro HERO9 Black   349.45   349.56   349.76      1048.77\n",
      "39     Breville Smart Oven Air   399.87   399.99   399.45      1199.31\n",
      "40          Ninja Foodi Deluxe   249.32   249.87   249.45       748.64\n",
      "41              Keurig K-Elite   169.87   169.45   169.99       509.31\n",
      "42                JBL Charge 5   179.76   179.99   179.45       539.20\n",
      "43              Sony WH-CH710N   199.45   199.76   199.87       599.08\n",
      "44   Bose QuietComfort Earbuds   279.56   279.87   279.99       839.42\n",
      "45           Beats Studio Buds   149.99   149.67   149.87       449.53\n"
     ]
    }
   ],
   "source": [
    "# Agrega una nueva columna \"Venta Total\" con la suma de las ventas de todos los meses para cada producto\n",
    "df['Venta Total'] = df[['Enero', 'Febrero', 'Marzo']].sum(axis=1)\n",
    "print(df)"
   ]
  },
  {
   "attachments": {},
   "cell_type": "markdown",
   "metadata": {},
   "source": [
    "## 9.- Calcula la venta total de todos los productos en el primer trimestre (enero, febrero, marzo)"
   ]
  },
  {
   "cell_type": "code",
   "execution_count": 11,
   "metadata": {},
   "outputs": [
    {
     "name": "stdout",
     "output_type": "stream",
     "text": [
      "Venta total del primer trimestre: 115702.15999999997\n"
     ]
    }
   ],
   "source": [
    "# Calcula la venta total de todos los productos en el primer trimestre\n",
    "venta_total_trimestre = df[['Enero', 'Febrero', 'Marzo']].sum().sum()\n",
    "print(\"Venta total del primer trimestre:\", venta_total_trimestre)"
   ]
  },
  {
   "attachments": {},
   "cell_type": "markdown",
   "metadata": {},
   "source": [
    "## 10.- Agrupa el DataFrame por mes y calcula la suma de ventas para cada mes"
   ]
  },
  {
   "cell_type": "code",
   "execution_count": 13,
   "metadata": {},
   "outputs": [
    {
     "name": "stdout",
     "output_type": "stream",
     "text": [
      "                                                  Producto  Venta Total\n",
      "Enero   Febrero Marzo                                                  \n",
      "99.32   99.87   99.45               Cuisinart Coffee Maker       298.64\n",
      "99.67   99.45   99.87                   Apple HomePod Mini       298.99\n",
      "149.99  149.67  149.87                   Beats Studio Buds       449.53\n",
      "169.87  169.45  169.99                      Keurig K-Elite       509.31\n",
      "179.76  179.32  179.45                     Fitbit Charge 5       538.53\n",
      "        179.99  179.45                        JBL Charge 5       539.20\n",
      "199.45  199.76  199.87                      Sony WH-CH710N       599.08\n",
      "199.87  199.45  199.99               Instant Pot Duo Crisp       599.31\n",
      "229.45  229.56  229.87                      Fitbit Versa 3       688.88\n",
      "249.32  249.87  249.45                  Ninja Foodi Deluxe       748.64\n",
      "249.76  249.32  249.45            Nest Learning Thermostat       748.53\n",
      "249.77  249.32  249.99                         AirPods Pro       749.08\n",
      "249.99  249.67  249.87                 Amazon Echo Show 10       749.53\n",
      "279.56  279.87  279.99           Bose QuietComfort Earbuds       839.42\n",
      "299.45  299.76  299.32             Bose SoundLink Revolve+       898.53\n",
      "329.56  329.76  329.32             Bose QuietComfort 35 II       988.64\n",
      "349.45  349.56  349.76                   GoPro HERO9 Black      1048.77\n",
      "        349.87  349.67                Nintendo Switch OLED      1048.99\n",
      "349.87  349.99  349.45                     Sony WH-1000XM4      1049.31\n",
      "379.45  379.56  379.76              KitchenAid Stand Mixer      1138.77\n",
      "399.32  399.45  399.76              Sony PlayStation 4 Pro      1198.53\n",
      "399.45  399.87  399.99                Apple Watch Series 7      1199.31\n",
      "399.87  399.99  399.45   Sonos MoveBreville Smart Oven Air      2398.62\n",
      "499.43  499.76  499.98                       PlayStation 5      1499.17\n",
      "499.67  499.87  499.99                  GoPro HERO10 Black      1499.53\n",
      "499.99  499.67  499.87                       Xbox Series X      1499.53\n",
      "599.76  599.99  599.45                       Vitamix A3500      1799.20\n",
      "699.56  699.87  699.32                  Garmin Fenix 6 Pro      2098.75\n",
      "799.32  799.56  799.76                   iRobot Roomba i7+      2398.64\n",
      "899.32  899.76  899.56                  Google Pixel 6 Pro      2698.64\n",
      "1099.87 1099.45 1099.56                           iPad Pro      3298.88\n",
      "1149.56 1099.87 999.21                           iPhone 13      3248.64\n",
      "1199.99 1249.32 1149.45           Samsung Galaxy S21 Ultra      3598.76\n",
      "1299.56 1299.99 1299.87         Microsoft Surface Laptop 4      3899.42\n",
      "1349.32 1349.45 1349.76                    HP Spectre x360      4048.53\n",
      "1499.45 1499.76 1499.56                 Samsung QLED 4K TV      4498.77\n",
      "1799.76 1799.87 1799.45             Samsung Galaxy Z Fold3      5399.08\n",
      "1899.56 1899.32 1899.45                        Dell XPS 15      5698.33\n",
      "1999.45 1999.76 1999.87          Lenovo ThinkPad X1 Carbon      5999.08\n",
      "1999.76 1999.45 1999.87                         LG OLED TV      5999.08\n",
      "1999.87 1999.56 1999.32                  Apple MacBook Pro      5998.75\n",
      "2299.56 2299.87 2299.76                         LG C1 OLED      6899.19\n",
      "2299.76 2299.45 2299.87                        DJI Mavic 3      6899.08\n",
      "2499.32 2499.56 2499.76                       Canon EOS R6      7498.64\n",
      "3299.45 3299.56 3299.32                Sony BRAVIA XR A90J      9898.33\n"
     ]
    }
   ],
   "source": [
    "# Agrupa el DataFrame por mes y calcula la suma de ventas para cada mes\n",
    "ventas_por_mes = df.groupby([\"Enero\", \"Febrero\", \"Marzo\"]).sum()\n",
    "print(ventas_por_mes)"
   ]
  }
 ],
 "metadata": {
  "kernelspec": {
   "display_name": ".venv",
   "language": "python",
   "name": "python3"
  },
  "language_info": {
   "codemirror_mode": {
    "name": "ipython",
    "version": 3
   },
   "file_extension": ".py",
   "mimetype": "text/x-python",
   "name": "python",
   "nbconvert_exporter": "python",
   "pygments_lexer": "ipython3",
   "version": "3.8.18"
  },
  "orig_nbformat": 4
 },
 "nbformat": 4,
 "nbformat_minor": 2
}
