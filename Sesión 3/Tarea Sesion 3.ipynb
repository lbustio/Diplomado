{
  "cells": [
    {
      "cell_type": "markdown",
      "metadata": {
        "id": "R4HfbFGltEiB"
      },
      "source": [
        "# Tarea Sesión 3"
      ]
    },
    {
      "cell_type": "markdown",
      "metadata": {
        "id": "jqtf3PR5tLqP"
      },
      "source": [
        "Los datos del mundo real están sucios. De hecho, alrededor del 80% del tiempo de un científico de datos se dedica a recopilar, limpiar y preparar los datos. Estos pasos tediosos (pero necesarios) hacen que los datos sean adecuados para cualquier modelo que queramos construir y aseguran la alta calidad de los datos.\n",
        "\n",
        "La limpieza y la preparación de los datos puede ser complicada a veces, por lo que en este artículo me gustaría facilitar estos procesos mostrando algunas técnicas, métodos y funciones utilizadas para limpiar y preparar los datos. Para ello, se utilizará un conjunto de datos de Netflix disponible en Kaggle (https://www.kaggle.com/datasets/shivamb/netflix-shows) que contiene información sobre todos los títulos de Netflix. Se usa este conjuntos de datos de películas porque se utilizan con frecuencia en los tutoriales para muchos proyectos de ciencia de datos, como el análisis de sentimientos y la construcción de un sistema de recomendación.\n",
        "\n",
        "Aunque el conjunto de datos de Kaggle puede parecer bien organizado, no está listo para ser utilizado, por lo que se deben identificar los datos que faltan, los valores atípicos, los datos inconsistentes y se hará la normalización del texto."
      ]
    },
    {
      "cell_type": "markdown",
      "metadata": {
        "id": "F96F4aB-tvLV"
      },
      "source": [
        "## Obtener los datos"
      ]
    },
    {
      "cell_type": "markdown",
      "metadata": {
        "id": "VOP6cWD6t4vf"
      },
      "source": [
        "Antes de adquirir los datos se deben indicar las librerías que serán utilizadas en este ejercicio. Es recomendable tener una sección para importar librerías. Esto es generalmente preferido que tener las librerías importadas por todo el código fuente."
      ]
    },
    {
      "cell_type": "code",
      "execution_count": 2,
      "metadata": {
        "id": "17ve_VOduJbA"
      },
      "outputs": [],
      "source": [
        "import pandas as pd\n",
        "import matplotlib.pyplot as plt\n",
        "import seaborn as sns\n",
        "import io as io"
      ]
    },
    {
      "cell_type": "markdown",
      "metadata": {
        "id": "hdw-xd_kuNmn"
      },
      "source": [
        "Luego de importar las librerías entonces se pueden cargar los datos desde el archivo:"
      ]
    },
    {
      "cell_type": "code",
      "execution_count": 3,
      "metadata": {
        "colab": {
          "base_uri": "https://localhost:8080/",
          "height": 74,
          "resources": {
            "http://localhost:8080/nbextensions/google.colab/files.js": {
              "data": "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",
              "headers": [
                [
                  "content-type",
                  "application/javascript"
                ]
              ],
              "ok": true,
              "status": 200,
              "status_text": ""
            }
          }
        },
        "id": "3upci_PtuUp-",
        "outputId": "0e01e77f-c28e-438c-9cf5-ec44132a47d8"
      },
      "outputs": [],
      "source": [
        "df_netflix = pd.read_csv(\"netflix_titles.csv\")"
      ]
    },
    {
      "cell_type": "markdown",
      "metadata": {
        "id": "twxjjXTLvCcB"
      },
      "source": [
        "Se verifica si los datos fueron cargados de manera correcta"
      ]
    },
    {
      "cell_type": "code",
      "execution_count": 4,
      "metadata": {
        "colab": {
          "base_uri": "https://localhost:8080/"
        },
        "id": "CBGKPf44vFXj",
        "outputId": "f9f6b4ec-52f0-4560-ea0d-ad55acf51c3c"
      },
      "outputs": [
        {
          "name": "stdout",
          "output_type": "stream",
          "text": [
            "netflix_titles.csv:(8807, 12)\n"
          ]
        }
      ],
      "source": [
        "print(\"netflix_titles.csv:\" + str(df_netflix.shape))"
      ]
    },
    {
      "cell_type": "code",
      "execution_count": null,
      "metadata": {
        "colab": {
          "base_uri": "https://localhost:8080/",
          "height": 476
        },
        "id": "Kw-QZjhVvVts",
        "outputId": "c53d87a2-36c8-48b1-f874-d4bf4e4817de"
      },
      "outputs": [
        {
          "data": {
            "text/html": [
              "\n",
              "  <div id=\"df-6bc8d6b2-3ff4-4abe-97fa-6fce84bd2516\">\n",
              "    <div class=\"colab-df-container\">\n",
              "      <div>\n",
              "<style scoped>\n",
              "    .dataframe tbody tr th:only-of-type {\n",
              "        vertical-align: middle;\n",
              "    }\n",
              "\n",
              "    .dataframe tbody tr th {\n",
              "        vertical-align: top;\n",
              "    }\n",
              "\n",
              "    .dataframe thead th {\n",
              "        text-align: right;\n",
              "    }\n",
              "</style>\n",
              "<table border=\"1\" class=\"dataframe\">\n",
              "  <thead>\n",
              "    <tr style=\"text-align: right;\">\n",
              "      <th></th>\n",
              "      <th>show_id</th>\n",
              "      <th>type</th>\n",
              "      <th>title</th>\n",
              "      <th>director</th>\n",
              "      <th>cast</th>\n",
              "      <th>country</th>\n",
              "      <th>date_added</th>\n",
              "      <th>release_year</th>\n",
              "      <th>rating</th>\n",
              "      <th>duration</th>\n",
              "      <th>listed_in</th>\n",
              "      <th>description</th>\n",
              "    </tr>\n",
              "  </thead>\n",
              "  <tbody>\n",
              "    <tr>\n",
              "      <th>0</th>\n",
              "      <td>s1</td>\n",
              "      <td>Movie</td>\n",
              "      <td>Dick Johnson Is Dead</td>\n",
              "      <td>Kirsten Johnson</td>\n",
              "      <td>NaN</td>\n",
              "      <td>United States</td>\n",
              "      <td>September 25, 2021</td>\n",
              "      <td>2020</td>\n",
              "      <td>PG-13</td>\n",
              "      <td>90 min</td>\n",
              "      <td>Documentaries</td>\n",
              "      <td>As her father nears the end of his life, filmm...</td>\n",
              "    </tr>\n",
              "    <tr>\n",
              "      <th>1</th>\n",
              "      <td>s2</td>\n",
              "      <td>TV Show</td>\n",
              "      <td>Blood &amp; Water</td>\n",
              "      <td>NaN</td>\n",
              "      <td>Ama Qamata, Khosi Ngema, Gail Mabalane, Thaban...</td>\n",
              "      <td>South Africa</td>\n",
              "      <td>September 24, 2021</td>\n",
              "      <td>2021</td>\n",
              "      <td>TV-MA</td>\n",
              "      <td>2 Seasons</td>\n",
              "      <td>International TV Shows, TV Dramas, TV Mysteries</td>\n",
              "      <td>After crossing paths at a party, a Cape Town t...</td>\n",
              "    </tr>\n",
              "    <tr>\n",
              "      <th>2</th>\n",
              "      <td>s3</td>\n",
              "      <td>TV Show</td>\n",
              "      <td>Ganglands</td>\n",
              "      <td>Julien Leclercq</td>\n",
              "      <td>Sami Bouajila, Tracy Gotoas, Samuel Jouy, Nabi...</td>\n",
              "      <td>NaN</td>\n",
              "      <td>September 24, 2021</td>\n",
              "      <td>2021</td>\n",
              "      <td>TV-MA</td>\n",
              "      <td>1 Season</td>\n",
              "      <td>Crime TV Shows, International TV Shows, TV Act...</td>\n",
              "      <td>To protect his family from a powerful drug lor...</td>\n",
              "    </tr>\n",
              "    <tr>\n",
              "      <th>3</th>\n",
              "      <td>s4</td>\n",
              "      <td>TV Show</td>\n",
              "      <td>Jailbirds New Orleans</td>\n",
              "      <td>NaN</td>\n",
              "      <td>NaN</td>\n",
              "      <td>NaN</td>\n",
              "      <td>September 24, 2021</td>\n",
              "      <td>2021</td>\n",
              "      <td>TV-MA</td>\n",
              "      <td>1 Season</td>\n",
              "      <td>Docuseries, Reality TV</td>\n",
              "      <td>Feuds, flirtations and toilet talk go down amo...</td>\n",
              "    </tr>\n",
              "    <tr>\n",
              "      <th>4</th>\n",
              "      <td>s5</td>\n",
              "      <td>TV Show</td>\n",
              "      <td>Kota Factory</td>\n",
              "      <td>NaN</td>\n",
              "      <td>Mayur More, Jitendra Kumar, Ranjan Raj, Alam K...</td>\n",
              "      <td>India</td>\n",
              "      <td>September 24, 2021</td>\n",
              "      <td>2021</td>\n",
              "      <td>TV-MA</td>\n",
              "      <td>2 Seasons</td>\n",
              "      <td>International TV Shows, Romantic TV Shows, TV ...</td>\n",
              "      <td>In a city of coaching centers known to train I...</td>\n",
              "    </tr>\n",
              "  </tbody>\n",
              "</table>\n",
              "</div>\n",
              "      <button class=\"colab-df-convert\" onclick=\"convertToInteractive('df-6bc8d6b2-3ff4-4abe-97fa-6fce84bd2516')\"\n",
              "              title=\"Convert this dataframe to an interactive table.\"\n",
              "              style=\"display:none;\">\n",
              "        \n",
              "  <svg xmlns=\"http://www.w3.org/2000/svg\" height=\"24px\"viewBox=\"0 0 24 24\"\n",
              "       width=\"24px\">\n",
              "    <path d=\"M0 0h24v24H0V0z\" fill=\"none\"/>\n",
              "    <path d=\"M18.56 5.44l.94 2.06.94-2.06 2.06-.94-2.06-.94-.94-2.06-.94 2.06-2.06.94zm-11 1L8.5 8.5l.94-2.06 2.06-.94-2.06-.94L8.5 2.5l-.94 2.06-2.06.94zm10 10l.94 2.06.94-2.06 2.06-.94-2.06-.94-.94-2.06-.94 2.06-2.06.94z\"/><path d=\"M17.41 7.96l-1.37-1.37c-.4-.4-.92-.59-1.43-.59-.52 0-1.04.2-1.43.59L10.3 9.45l-7.72 7.72c-.78.78-.78 2.05 0 2.83L4 21.41c.39.39.9.59 1.41.59.51 0 1.02-.2 1.41-.59l7.78-7.78 2.81-2.81c.8-.78.8-2.07 0-2.86zM5.41 20L4 18.59l7.72-7.72 1.47 1.35L5.41 20z\"/>\n",
              "  </svg>\n",
              "      </button>\n",
              "      \n",
              "  <style>\n",
              "    .colab-df-container {\n",
              "      display:flex;\n",
              "      flex-wrap:wrap;\n",
              "      gap: 12px;\n",
              "    }\n",
              "\n",
              "    .colab-df-convert {\n",
              "      background-color: #E8F0FE;\n",
              "      border: none;\n",
              "      border-radius: 50%;\n",
              "      cursor: pointer;\n",
              "      display: none;\n",
              "      fill: #1967D2;\n",
              "      height: 32px;\n",
              "      padding: 0 0 0 0;\n",
              "      width: 32px;\n",
              "    }\n",
              "\n",
              "    .colab-df-convert:hover {\n",
              "      background-color: #E2EBFA;\n",
              "      box-shadow: 0px 1px 2px rgba(60, 64, 67, 0.3), 0px 1px 3px 1px rgba(60, 64, 67, 0.15);\n",
              "      fill: #174EA6;\n",
              "    }\n",
              "\n",
              "    [theme=dark] .colab-df-convert {\n",
              "      background-color: #3B4455;\n",
              "      fill: #D2E3FC;\n",
              "    }\n",
              "\n",
              "    [theme=dark] .colab-df-convert:hover {\n",
              "      background-color: #434B5C;\n",
              "      box-shadow: 0px 1px 3px 1px rgba(0, 0, 0, 0.15);\n",
              "      filter: drop-shadow(0px 1px 2px rgba(0, 0, 0, 0.3));\n",
              "      fill: #FFFFFF;\n",
              "    }\n",
              "  </style>\n",
              "\n",
              "      <script>\n",
              "        const buttonEl =\n",
              "          document.querySelector('#df-6bc8d6b2-3ff4-4abe-97fa-6fce84bd2516 button.colab-df-convert');\n",
              "        buttonEl.style.display =\n",
              "          google.colab.kernel.accessAllowed ? 'block' : 'none';\n",
              "\n",
              "        async function convertToInteractive(key) {\n",
              "          const element = document.querySelector('#df-6bc8d6b2-3ff4-4abe-97fa-6fce84bd2516');\n",
              "          const dataTable =\n",
              "            await google.colab.kernel.invokeFunction('convertToInteractive',\n",
              "                                                     [key], {});\n",
              "          if (!dataTable) return;\n",
              "\n",
              "          const docLinkHtml = 'Like what you see? Visit the ' +\n",
              "            '<a target=\"_blank\" href=https://colab.research.google.com/notebooks/data_table.ipynb>data table notebook</a>'\n",
              "            + ' to learn more about interactive tables.';\n",
              "          element.innerHTML = '';\n",
              "          dataTable['output_type'] = 'display_data';\n",
              "          await google.colab.output.renderOutput(dataTable, element);\n",
              "          const docLink = document.createElement('div');\n",
              "          docLink.innerHTML = docLinkHtml;\n",
              "          element.appendChild(docLink);\n",
              "        }\n",
              "      </script>\n",
              "    </div>\n",
              "  </div>\n",
              "  "
            ],
            "text/plain": [
              "  show_id     type                  title         director  \\\n",
              "0      s1    Movie   Dick Johnson Is Dead  Kirsten Johnson   \n",
              "1      s2  TV Show          Blood & Water              NaN   \n",
              "2      s3  TV Show              Ganglands  Julien Leclercq   \n",
              "3      s4  TV Show  Jailbirds New Orleans              NaN   \n",
              "4      s5  TV Show           Kota Factory              NaN   \n",
              "\n",
              "                                                cast        country  \\\n",
              "0                                                NaN  United States   \n",
              "1  Ama Qamata, Khosi Ngema, Gail Mabalane, Thaban...   South Africa   \n",
              "2  Sami Bouajila, Tracy Gotoas, Samuel Jouy, Nabi...            NaN   \n",
              "3                                                NaN            NaN   \n",
              "4  Mayur More, Jitendra Kumar, Ranjan Raj, Alam K...          India   \n",
              "\n",
              "           date_added  release_year rating   duration  \\\n",
              "0  September 25, 2021          2020  PG-13     90 min   \n",
              "1  September 24, 2021          2021  TV-MA  2 Seasons   \n",
              "2  September 24, 2021          2021  TV-MA   1 Season   \n",
              "3  September 24, 2021          2021  TV-MA   1 Season   \n",
              "4  September 24, 2021          2021  TV-MA  2 Seasons   \n",
              "\n",
              "                                           listed_in  \\\n",
              "0                                      Documentaries   \n",
              "1    International TV Shows, TV Dramas, TV Mysteries   \n",
              "2  Crime TV Shows, International TV Shows, TV Act...   \n",
              "3                             Docuseries, Reality TV   \n",
              "4  International TV Shows, Romantic TV Shows, TV ...   \n",
              "\n",
              "                                         description  \n",
              "0  As her father nears the end of his life, filmm...  \n",
              "1  After crossing paths at a party, a Cape Town t...  \n",
              "2  To protect his family from a powerful drug lor...  \n",
              "3  Feuds, flirtations and toilet talk go down amo...  \n",
              "4  In a city of coaching centers known to train I...  "
            ]
          },
          "execution_count": 4,
          "metadata": {},
          "output_type": "execute_result"
        }
      ],
      "source": [
        "df_netflix.head(5)"
      ]
    },
    {
      "cell_type": "code",
      "execution_count": null,
      "metadata": {
        "colab": {
          "base_uri": "https://localhost:8080/",
          "height": 511
        },
        "id": "YCNhi4f4vX-A",
        "outputId": "7075ac78-38a7-4ea6-8dbf-6737ad0d3070"
      },
      "outputs": [
        {
          "data": {
            "text/html": [
              "\n",
              "  <div id=\"df-d65cc56f-2c59-4e39-acfe-710d01f30d99\">\n",
              "    <div class=\"colab-df-container\">\n",
              "      <div>\n",
              "<style scoped>\n",
              "    .dataframe tbody tr th:only-of-type {\n",
              "        vertical-align: middle;\n",
              "    }\n",
              "\n",
              "    .dataframe tbody tr th {\n",
              "        vertical-align: top;\n",
              "    }\n",
              "\n",
              "    .dataframe thead th {\n",
              "        text-align: right;\n",
              "    }\n",
              "</style>\n",
              "<table border=\"1\" class=\"dataframe\">\n",
              "  <thead>\n",
              "    <tr style=\"text-align: right;\">\n",
              "      <th></th>\n",
              "      <th>show_id</th>\n",
              "      <th>type</th>\n",
              "      <th>title</th>\n",
              "      <th>director</th>\n",
              "      <th>cast</th>\n",
              "      <th>country</th>\n",
              "      <th>date_added</th>\n",
              "      <th>release_year</th>\n",
              "      <th>rating</th>\n",
              "      <th>duration</th>\n",
              "      <th>listed_in</th>\n",
              "      <th>description</th>\n",
              "    </tr>\n",
              "  </thead>\n",
              "  <tbody>\n",
              "    <tr>\n",
              "      <th>8802</th>\n",
              "      <td>s8803</td>\n",
              "      <td>Movie</td>\n",
              "      <td>Zodiac</td>\n",
              "      <td>David Fincher</td>\n",
              "      <td>Mark Ruffalo, Jake Gyllenhaal, Robert Downey J...</td>\n",
              "      <td>United States</td>\n",
              "      <td>November 20, 2019</td>\n",
              "      <td>2007</td>\n",
              "      <td>R</td>\n",
              "      <td>158 min</td>\n",
              "      <td>Cult Movies, Dramas, Thrillers</td>\n",
              "      <td>A political cartoonist, a crime reporter and a...</td>\n",
              "    </tr>\n",
              "    <tr>\n",
              "      <th>8803</th>\n",
              "      <td>s8804</td>\n",
              "      <td>TV Show</td>\n",
              "      <td>Zombie Dumb</td>\n",
              "      <td>NaN</td>\n",
              "      <td>NaN</td>\n",
              "      <td>NaN</td>\n",
              "      <td>July 1, 2019</td>\n",
              "      <td>2018</td>\n",
              "      <td>TV-Y7</td>\n",
              "      <td>2 Seasons</td>\n",
              "      <td>Kids' TV, Korean TV Shows, TV Comedies</td>\n",
              "      <td>While living alone in a spooky town, a young g...</td>\n",
              "    </tr>\n",
              "    <tr>\n",
              "      <th>8804</th>\n",
              "      <td>s8805</td>\n",
              "      <td>Movie</td>\n",
              "      <td>Zombieland</td>\n",
              "      <td>Ruben Fleischer</td>\n",
              "      <td>Jesse Eisenberg, Woody Harrelson, Emma Stone, ...</td>\n",
              "      <td>United States</td>\n",
              "      <td>November 1, 2019</td>\n",
              "      <td>2009</td>\n",
              "      <td>R</td>\n",
              "      <td>88 min</td>\n",
              "      <td>Comedies, Horror Movies</td>\n",
              "      <td>Looking to survive in a world taken over by zo...</td>\n",
              "    </tr>\n",
              "    <tr>\n",
              "      <th>8805</th>\n",
              "      <td>s8806</td>\n",
              "      <td>Movie</td>\n",
              "      <td>Zoom</td>\n",
              "      <td>Peter Hewitt</td>\n",
              "      <td>Tim Allen, Courteney Cox, Chevy Chase, Kate Ma...</td>\n",
              "      <td>United States</td>\n",
              "      <td>January 11, 2020</td>\n",
              "      <td>2006</td>\n",
              "      <td>PG</td>\n",
              "      <td>88 min</td>\n",
              "      <td>Children &amp; Family Movies, Comedies</td>\n",
              "      <td>Dragged from civilian life, a former superhero...</td>\n",
              "    </tr>\n",
              "    <tr>\n",
              "      <th>8806</th>\n",
              "      <td>s8807</td>\n",
              "      <td>Movie</td>\n",
              "      <td>Zubaan</td>\n",
              "      <td>Mozez Singh</td>\n",
              "      <td>Vicky Kaushal, Sarah-Jane Dias, Raaghav Chanan...</td>\n",
              "      <td>India</td>\n",
              "      <td>March 2, 2019</td>\n",
              "      <td>2015</td>\n",
              "      <td>TV-14</td>\n",
              "      <td>111 min</td>\n",
              "      <td>Dramas, International Movies, Music &amp; Musicals</td>\n",
              "      <td>A scrappy but poor boy worms his way into a ty...</td>\n",
              "    </tr>\n",
              "  </tbody>\n",
              "</table>\n",
              "</div>\n",
              "      <button class=\"colab-df-convert\" onclick=\"convertToInteractive('df-d65cc56f-2c59-4e39-acfe-710d01f30d99')\"\n",
              "              title=\"Convert this dataframe to an interactive table.\"\n",
              "              style=\"display:none;\">\n",
              "        \n",
              "  <svg xmlns=\"http://www.w3.org/2000/svg\" height=\"24px\"viewBox=\"0 0 24 24\"\n",
              "       width=\"24px\">\n",
              "    <path d=\"M0 0h24v24H0V0z\" fill=\"none\"/>\n",
              "    <path d=\"M18.56 5.44l.94 2.06.94-2.06 2.06-.94-2.06-.94-.94-2.06-.94 2.06-2.06.94zm-11 1L8.5 8.5l.94-2.06 2.06-.94-2.06-.94L8.5 2.5l-.94 2.06-2.06.94zm10 10l.94 2.06.94-2.06 2.06-.94-2.06-.94-.94-2.06-.94 2.06-2.06.94z\"/><path d=\"M17.41 7.96l-1.37-1.37c-.4-.4-.92-.59-1.43-.59-.52 0-1.04.2-1.43.59L10.3 9.45l-7.72 7.72c-.78.78-.78 2.05 0 2.83L4 21.41c.39.39.9.59 1.41.59.51 0 1.02-.2 1.41-.59l7.78-7.78 2.81-2.81c.8-.78.8-2.07 0-2.86zM5.41 20L4 18.59l7.72-7.72 1.47 1.35L5.41 20z\"/>\n",
              "  </svg>\n",
              "      </button>\n",
              "      \n",
              "  <style>\n",
              "    .colab-df-container {\n",
              "      display:flex;\n",
              "      flex-wrap:wrap;\n",
              "      gap: 12px;\n",
              "    }\n",
              "\n",
              "    .colab-df-convert {\n",
              "      background-color: #E8F0FE;\n",
              "      border: none;\n",
              "      border-radius: 50%;\n",
              "      cursor: pointer;\n",
              "      display: none;\n",
              "      fill: #1967D2;\n",
              "      height: 32px;\n",
              "      padding: 0 0 0 0;\n",
              "      width: 32px;\n",
              "    }\n",
              "\n",
              "    .colab-df-convert:hover {\n",
              "      background-color: #E2EBFA;\n",
              "      box-shadow: 0px 1px 2px rgba(60, 64, 67, 0.3), 0px 1px 3px 1px rgba(60, 64, 67, 0.15);\n",
              "      fill: #174EA6;\n",
              "    }\n",
              "\n",
              "    [theme=dark] .colab-df-convert {\n",
              "      background-color: #3B4455;\n",
              "      fill: #D2E3FC;\n",
              "    }\n",
              "\n",
              "    [theme=dark] .colab-df-convert:hover {\n",
              "      background-color: #434B5C;\n",
              "      box-shadow: 0px 1px 3px 1px rgba(0, 0, 0, 0.15);\n",
              "      filter: drop-shadow(0px 1px 2px rgba(0, 0, 0, 0.3));\n",
              "      fill: #FFFFFF;\n",
              "    }\n",
              "  </style>\n",
              "\n",
              "      <script>\n",
              "        const buttonEl =\n",
              "          document.querySelector('#df-d65cc56f-2c59-4e39-acfe-710d01f30d99 button.colab-df-convert');\n",
              "        buttonEl.style.display =\n",
              "          google.colab.kernel.accessAllowed ? 'block' : 'none';\n",
              "\n",
              "        async function convertToInteractive(key) {\n",
              "          const element = document.querySelector('#df-d65cc56f-2c59-4e39-acfe-710d01f30d99');\n",
              "          const dataTable =\n",
              "            await google.colab.kernel.invokeFunction('convertToInteractive',\n",
              "                                                     [key], {});\n",
              "          if (!dataTable) return;\n",
              "\n",
              "          const docLinkHtml = 'Like what you see? Visit the ' +\n",
              "            '<a target=\"_blank\" href=https://colab.research.google.com/notebooks/data_table.ipynb>data table notebook</a>'\n",
              "            + ' to learn more about interactive tables.';\n",
              "          element.innerHTML = '';\n",
              "          dataTable['output_type'] = 'display_data';\n",
              "          await google.colab.output.renderOutput(dataTable, element);\n",
              "          const docLink = document.createElement('div');\n",
              "          docLink.innerHTML = docLinkHtml;\n",
              "          element.appendChild(docLink);\n",
              "        }\n",
              "      </script>\n",
              "    </div>\n",
              "  </div>\n",
              "  "
            ],
            "text/plain": [
              "     show_id     type        title         director  \\\n",
              "8802   s8803    Movie       Zodiac    David Fincher   \n",
              "8803   s8804  TV Show  Zombie Dumb              NaN   \n",
              "8804   s8805    Movie   Zombieland  Ruben Fleischer   \n",
              "8805   s8806    Movie         Zoom     Peter Hewitt   \n",
              "8806   s8807    Movie       Zubaan      Mozez Singh   \n",
              "\n",
              "                                                   cast        country  \\\n",
              "8802  Mark Ruffalo, Jake Gyllenhaal, Robert Downey J...  United States   \n",
              "8803                                                NaN            NaN   \n",
              "8804  Jesse Eisenberg, Woody Harrelson, Emma Stone, ...  United States   \n",
              "8805  Tim Allen, Courteney Cox, Chevy Chase, Kate Ma...  United States   \n",
              "8806  Vicky Kaushal, Sarah-Jane Dias, Raaghav Chanan...          India   \n",
              "\n",
              "             date_added  release_year rating   duration  \\\n",
              "8802  November 20, 2019          2007      R    158 min   \n",
              "8803       July 1, 2019          2018  TV-Y7  2 Seasons   \n",
              "8804   November 1, 2019          2009      R     88 min   \n",
              "8805   January 11, 2020          2006     PG     88 min   \n",
              "8806      March 2, 2019          2015  TV-14    111 min   \n",
              "\n",
              "                                           listed_in  \\\n",
              "8802                  Cult Movies, Dramas, Thrillers   \n",
              "8803          Kids' TV, Korean TV Shows, TV Comedies   \n",
              "8804                         Comedies, Horror Movies   \n",
              "8805              Children & Family Movies, Comedies   \n",
              "8806  Dramas, International Movies, Music & Musicals   \n",
              "\n",
              "                                            description  \n",
              "8802  A political cartoonist, a crime reporter and a...  \n",
              "8803  While living alone in a spooky town, a young g...  \n",
              "8804  Looking to survive in a world taken over by zo...  \n",
              "8805  Dragged from civilian life, a former superhero...  \n",
              "8806  A scrappy but poor boy worms his way into a ty...  "
            ]
          },
          "execution_count": 5,
          "metadata": {},
          "output_type": "execute_result"
        }
      ],
      "source": [
        "df_netflix.tail(5)"
      ]
    },
    {
      "cell_type": "markdown",
      "metadata": {
        "id": "mnlrvu-bvc2F"
      },
      "source": [
        "## Vista preliminar de los datos"
      ]
    },
    {
      "cell_type": "markdown",
      "metadata": {
        "id": "_UTObQJ9vmEH"
      },
      "source": [
        "Lo primero que hay que hacer una vez que se ha descargado un conjunto de datos es comprobar el tipo de datos de cada columna (los valores de una columna pueden contener dígitos, pero pueden no ser de tipo datetime o int)."
      ]
    },
    {
      "cell_type": "code",
      "execution_count": null,
      "metadata": {
        "colab": {
          "base_uri": "https://localhost:8080/"
        },
        "id": "ktVKeopavqfh",
        "outputId": "20b208c5-7dbf-4e3b-aa7a-af3d3fcb78df"
      },
      "outputs": [
        {
          "data": {
            "text/plain": [
              "show_id         object\n",
              "type            object\n",
              "title           object\n",
              "director        object\n",
              "cast            object\n",
              "country         object\n",
              "date_added      object\n",
              "release_year     int64\n",
              "rating          object\n",
              "duration        object\n",
              "listed_in       object\n",
              "description     object\n",
              "dtype: object"
            ]
          },
          "execution_count": 6,
          "metadata": {},
          "output_type": "execute_result"
        }
      ],
      "source": [
        "df_netflix.dtypes"
      ]
    },
    {
      "cell_type": "markdown",
      "metadata": {
        "id": "XJdzjRUuv7vP"
      },
      "source": [
        "Identificar los tipos de datos de las columnas ayuda a determinar si las columnas son variables numéricas o categóricas, lo que es importante saber antes de limpiar los datos."
      ]
    },
    {
      "cell_type": "markdown",
      "metadata": {
        "id": "DedxJeq3wKJ7"
      },
      "source": [
        "## Manipular los valores faltantes"
      ]
    },
    {
      "cell_type": "markdown",
      "metadata": {
        "id": "KRmGxBG5wWh0"
      },
      "source": [
        "Los datos que faltan a veces se producen cuando la obtención de datos se hizo de forma incorrecta, se cometieron errores en la introducción de datos o no se almacenaron los valores de los datos. Es una situación muy común por lo que hay que saber cómo lidiar con ella."
      ]
    },
    {
      "cell_type": "code",
      "execution_count": null,
      "metadata": {
        "colab": {
          "base_uri": "https://localhost:8080/"
        },
        "id": "RJjZOhlKwo9-",
        "outputId": "294a504c-27a0-4b3f-b8f5-09fa02c62c65"
      },
      "outputs": [
        {
          "data": {
            "text/plain": [
              "show_id            0\n",
              "type               0\n",
              "title              0\n",
              "director        2634\n",
              "cast             825\n",
              "country          831\n",
              "date_added        10\n",
              "release_year       0\n",
              "rating             4\n",
              "duration           3\n",
              "listed_in          0\n",
              "description        0\n",
              "dtype: int64"
            ]
          },
          "execution_count": 7,
          "metadata": {},
          "output_type": "execute_result"
        }
      ],
      "source": [
        "df_netflix.isnull().sum()"
      ]
    },
    {
      "cell_type": "markdown",
      "metadata": {
        "id": "TRcmfLeKwywb"
      },
      "source": [
        "Del resultado anterior se puede ver que hay valores \"NaN\" en varias columnas. Se pueden organizar los datos para tener una mejor visualización:"
      ]
    },
    {
      "cell_type": "code",
      "execution_count": null,
      "metadata": {
        "colab": {
          "base_uri": "https://localhost:8080/"
        },
        "id": "Atpv1yAixGXQ",
        "outputId": "88779e00-f9f9-468f-a2b1-3e2c47486d52"
      },
      "outputs": [
        {
          "data": {
            "text/plain": [
              "director        2634\n",
              "country          831\n",
              "cast             825\n",
              "date_added        10\n",
              "rating             4\n",
              "duration           3\n",
              "show_id            0\n",
              "type               0\n",
              "title              0\n",
              "release_year       0\n",
              "listed_in          0\n",
              "description        0\n",
              "dtype: int64"
            ]
          },
          "execution_count": 8,
          "metadata": {},
          "output_type": "execute_result"
        }
      ],
      "source": [
        "df_netflix.isnull().sum().sort_values(ascending=False)"
      ]
    },
    {
      "cell_type": "markdown",
      "metadata": {
        "id": "RACsoCKlxRm0"
      },
      "source": [
        "Sería conveniente mostrar qué porciento de los datos son valores faltantes. Esto da una mejor idea del nivel de contaminación que pueden tener los datos."
      ]
    },
    {
      "cell_type": "code",
      "execution_count": null,
      "metadata": {
        "colab": {
          "base_uri": "https://localhost:8080/"
        },
        "id": "AZUTo241xa-q",
        "outputId": "ecda9af4-64aa-4e03-b8ab-1256f00cd1a0"
      },
      "outputs": [
        {
          "name": "stdout",
          "output_type": "stream",
          "text": [
            "show_id: 0.0%\n",
            "type: 0.0%\n",
            "title: 0.0%\n",
            "director: 29.91%\n",
            "cast: 9.37%\n",
            "country: 9.44%\n",
            "date_added: 0.11%\n",
            "release_year: 0.0%\n",
            "rating: 0.05%\n",
            "duration: 0.03%\n",
            "listed_in: 0.0%\n",
            "description: 0.0%\n"
          ]
        }
      ],
      "source": [
        "for column in df_netflix.columns:\n",
        "    percentage = df_netflix[column].isnull().mean()\n",
        "    print(f\"{column}: {round(percentage*100, 2)}%\")"
      ]
    },
    {
      "cell_type": "markdown",
      "metadata": {
        "id": "dsg7xcMJyKG7"
      },
      "source": [
        "Del resultado anterior se puede apreciar que los valores faltantes están presentes en varias columnas y que son considerables. Por lo tanto, hay que manejarlos para eliminarlos."
      ]
    },
    {
      "cell_type": "markdown",
      "metadata": {
        "id": "3n1Uzxp4yT6d"
      },
      "source": [
        "### Resolución de valores faltantes"
      ]
    },
    {
      "cell_type": "markdown",
      "metadata": {
        "id": "VMTtviRZyenB"
      },
      "source": [
        "Hay diferentes maneras de tratar los datos que faltan. El enfoque correcto para tratar los datos que faltan estará muy influenciado por los datos y los objetivos de su proyecto.\n",
        "\n",
        "- **Eliminación de filas o columnas:** La principal solución al problema de los datos faltantes es tratar de obtenerlos de otras fuentes, inferirlos o imputarlos. Esto no siempre es posible, por lo que en caso de que los valores faltantes sean demasiados se puede considerar eliminar la fila/columna en cuestión. Se debe tener en cuenta que eso implica eliminar datos, lo cual no siempre es beneficioso. En este caso se puede ver que la columna \"director\" faltan 2634 datos, para un 31.58% de los datos. En caso de que no se puedan completar los valores faltantes, o imputar o inferir, se debe eliminar la columna (_df_netflix.drop(\"director\", axis=1)_).  En muchos casos solo es necesario encontrar las filas que contienen los valores faltantes y eliminar dichas filas:"
      ]
    },
    {
      "cell_type": "code",
      "execution_count": null,
      "metadata": {
        "id": "73KtqdC3zgVO"
      },
      "outputs": [],
      "source": [
        "no_director = df_netflix[df_netflix[\"director\"].isnull()].index\n",
        "df_netflix_clear = df_netflix.drop(no_director, axis=0) \n",
        "# axis=indica la dimension que se quiere filtrar. \n",
        "# En una matriz, la dimension 0 corresponde a las \n",
        "# filas mientras que la dimension 1 corresponde a \n",
        "# las columnas.\n",
        "\n",
        "# se empleará la variable df_netflix_clear para almacenar una \n",
        "# version de los datos limpios, y dejar los datos originales \n",
        "# intactos por si es necesario volver a ellos."
      ]
    },
    {
      "cell_type": "markdown",
      "metadata": {
        "id": "SV3586MG1GCR"
      },
      "source": [
        "- **Sustituir por la media, la mediana o la moda:** Otro enfoque habitual es utilizar la media, la mediana o la moda para sustituir los valores vacíos. La media y la mediana se utilizan para reemplazar los datos numéricos, mientras que la moda reemplaza los datos categóricos. Se debe determinar la validez de este enfoque, porque aunque se completen los valores faltantes, se introducen valores sintéticos en los datos, lo que puede afectar negativamente los análisis. De los datos se puede ver que la columna de \"rating\" contiene un 0.05% de datos perdidos. Se puede completar fácilmente esa pequeña porción de datos con la moda, ya que la calificación es un valor categórico."
      ]
    },
    {
      "cell_type": "code",
      "execution_count": null,
      "metadata": {
        "id": "AEoD221s1ziC"
      },
      "outputs": [],
      "source": [
        "mode = \"\".join(df_netflix_clear[\"rating\"].mode())\n",
        "df_netflix_clear[\"rating\"].fillna(mode, inplace=True)"
      ]
    },
    {
      "cell_type": "markdown",
      "metadata": {
        "id": "5cb9dxFE1_el"
      },
      "source": [
        "- **Sustituirlo por un número arbitrario:** Si los datos son numéricos, también se puede establecer un número arbitrario para evitar que se elimine alguna fila sin afectar a los resultados de nuestro modelo. Al igual que el caso anterior, incluir valores arbitrarios (cero, por ejemplo, puede ser contraproducente). En el ejemplo, la columna \"duration\" puede completarse con un valor de 90 minutos."
      ]
    },
    {
      "cell_type": "code",
      "execution_count": null,
      "metadata": {
        "id": "npNr0Qbw2rlA"
      },
      "outputs": [],
      "source": [
        "df_netflix_clear[\"duration\"].fillna(90, inplace=True)"
      ]
    },
    {
      "cell_type": "markdown",
      "metadata": {
        "id": "C2Zf-_hT4GhT"
      },
      "source": [
        "Para este dataset es complicado imputar los valores faltantes, por lo que se eliminarán todas las filas restantes con valores faltantes."
      ]
    },
    {
      "cell_type": "code",
      "execution_count": null,
      "metadata": {
        "id": "B3TS1SBB4Zth"
      },
      "outputs": [],
      "source": [
        "no_cast = df_netflix_clear[df_netflix_clear[\"cast\"].isnull()].index\n",
        "df_netflix_clear = df_netflix_clear.drop(no_cast, axis=0) "
      ]
    },
    {
      "cell_type": "code",
      "execution_count": null,
      "metadata": {
        "id": "hBifMS2G465m"
      },
      "outputs": [],
      "source": [
        "no_country = df_netflix_clear[df_netflix_clear[\"country\"].isnull()].index\n",
        "df_netflix_clear = df_netflix_clear.drop(no_country, axis=0) "
      ]
    },
    {
      "cell_type": "markdown",
      "metadata": {
        "id": "3_aQvEEh37q0"
      },
      "source": [
        "Seguidamente, cuando todos los valores faltantes sean tratados, se debe mostrar un resumen de los datos para ver su estado actual."
      ]
    },
    {
      "cell_type": "code",
      "execution_count": null,
      "metadata": {
        "colab": {
          "base_uri": "https://localhost:8080/"
        },
        "id": "3Edr17Zz4CFH",
        "outputId": "4d3d63aa-f183-49b6-d673-02cbdfda81a7"
      },
      "outputs": [
        {
          "data": {
            "text/plain": [
              "show_id         0\n",
              "type            0\n",
              "title           0\n",
              "director        0\n",
              "cast            0\n",
              "country         0\n",
              "date_added      0\n",
              "release_year    0\n",
              "rating          0\n",
              "duration        0\n",
              "listed_in       0\n",
              "description     0\n",
              "dtype: int64"
            ]
          },
          "execution_count": 15,
          "metadata": {},
          "output_type": "execute_result"
        }
      ],
      "source": [
        "df_netflix_clear.isnull().sum().sort_values(ascending=False)"
      ]
    },
    {
      "cell_type": "markdown",
      "metadata": {
        "id": "lDmpNXJW5CLu"
      },
      "source": [
        "También se deben mostrar las dimensiones de los datos sin valores faltantes"
      ]
    },
    {
      "cell_type": "code",
      "execution_count": null,
      "metadata": {
        "colab": {
          "base_uri": "https://localhost:8080/"
        },
        "id": "9kN9HGdN5GI1",
        "outputId": "a82393cd-9b31-4954-b07f-86a50b3de539"
      },
      "outputs": [
        {
          "name": "stdout",
          "output_type": "stream",
          "text": [
            "df_netflix_clear:(5336, 12)\n",
            "df_netflix:(8807, 12)\n"
          ]
        }
      ],
      "source": [
        "print(\"df_netflix_clear:\" + str(df_netflix_clear.shape))\n",
        "print(\"df_netflix:\" + str(df_netflix.shape))"
      ]
    },
    {
      "cell_type": "markdown",
      "metadata": {
        "id": "N-UDsPYL5N33"
      },
      "source": [
        "Se puede apreciar que ha ocurrido una reducción importante de los datos. la conveniencia de este tratamiento se debe evaluar según la naturaleza de los datos y las características del fenómeno que se está analizando."
      ]
    },
    {
      "cell_type": "markdown",
      "metadata": {
        "id": "g3EYwxPI5tJa"
      },
      "source": [
        "## Valores atípicos"
      ]
    },
    {
      "cell_type": "markdown",
      "metadata": {
        "id": "yUFfY1275v_e"
      },
      "source": [
        "Un valor atípico es aquel dato que difiere significativamente de otras observaciones. Un conjunto de datos puede contener valores atípicos reales o valores atípicos obtenidos tras una mala recogida de datos o causados por errores de introducción de datos.\n",
        "\n",
        "- **Uso de histogramas para identificar valores atípicos en datos numéricos:** Para este ejemplo se usará la columna \"duration\" como referencia que servirá para identificar valores atípicos en el catálogo de Netflix. La columna \"duration\" no se considera un valor numérico (por ejemplo, 90) en el dataset porque está mezclada con cadenas (por ejemplo, 90 min). Además, la duración de los programas de televisión se expresa en temporadas (por ejemplo, 2 temporadas), por lo que debemos filtrarla. Para este ejemplo se tomarán en cuenta solamente las filas que sean películas (type=Movie) y se obtendrán los valores numéricos de la columna \"duration\"."
      ]
    },
    {
      "cell_type": "code",
      "execution_count": null,
      "metadata": {
        "colab": {
          "base_uri": "https://localhost:8080/",
          "height": 1000
        },
        "id": "vVERE2HN62D5",
        "outputId": "1718bcc4-cb3d-4e05-f31a-0f9dc051e2f7"
      },
      "outputs": [
        {
          "data": {
            "text/html": [
              "\n",
              "  <div id=\"df-8ae0d019-af28-4c2d-9539-06f263ad3525\">\n",
              "    <div class=\"colab-df-container\">\n",
              "      <div>\n",
              "<style scoped>\n",
              "    .dataframe tbody tr th:only-of-type {\n",
              "        vertical-align: middle;\n",
              "    }\n",
              "\n",
              "    .dataframe tbody tr th {\n",
              "        vertical-align: top;\n",
              "    }\n",
              "\n",
              "    .dataframe thead th {\n",
              "        text-align: right;\n",
              "    }\n",
              "</style>\n",
              "<table border=\"1\" class=\"dataframe\">\n",
              "  <thead>\n",
              "    <tr style=\"text-align: right;\">\n",
              "      <th></th>\n",
              "      <th>show_id</th>\n",
              "      <th>type</th>\n",
              "      <th>title</th>\n",
              "      <th>director</th>\n",
              "      <th>cast</th>\n",
              "      <th>country</th>\n",
              "      <th>date_added</th>\n",
              "      <th>release_year</th>\n",
              "      <th>rating</th>\n",
              "      <th>duration</th>\n",
              "      <th>listed_in</th>\n",
              "      <th>description</th>\n",
              "      <th>minute</th>\n",
              "    </tr>\n",
              "  </thead>\n",
              "  <tbody>\n",
              "    <tr>\n",
              "      <th>7</th>\n",
              "      <td>s8</td>\n",
              "      <td>Movie</td>\n",
              "      <td>Sankofa</td>\n",
              "      <td>Haile Gerima</td>\n",
              "      <td>Kofi Ghanaba, Oyafunmike Ogunlano, Alexandra D...</td>\n",
              "      <td>United States, Ghana, Burkina Faso, United Kin...</td>\n",
              "      <td>September 24, 2021</td>\n",
              "      <td>1993</td>\n",
              "      <td>TV-MA</td>\n",
              "      <td>125 min</td>\n",
              "      <td>Dramas, Independent Movies, International Movies</td>\n",
              "      <td>On a photo shoot in Ghana, an American model s...</td>\n",
              "      <td>125</td>\n",
              "    </tr>\n",
              "    <tr>\n",
              "      <th>9</th>\n",
              "      <td>s10</td>\n",
              "      <td>Movie</td>\n",
              "      <td>The Starling</td>\n",
              "      <td>Theodore Melfi</td>\n",
              "      <td>Melissa McCarthy, Chris O'Dowd, Kevin Kline, T...</td>\n",
              "      <td>United States</td>\n",
              "      <td>September 24, 2021</td>\n",
              "      <td>2021</td>\n",
              "      <td>PG-13</td>\n",
              "      <td>104 min</td>\n",
              "      <td>Comedies, Dramas</td>\n",
              "      <td>A woman adjusting to life after a loss contend...</td>\n",
              "      <td>104</td>\n",
              "    </tr>\n",
              "    <tr>\n",
              "      <th>12</th>\n",
              "      <td>s13</td>\n",
              "      <td>Movie</td>\n",
              "      <td>Je Suis Karl</td>\n",
              "      <td>Christian Schwochow</td>\n",
              "      <td>Luna Wedler, Jannis Niewöhner, Milan Peschel, ...</td>\n",
              "      <td>Germany, Czech Republic</td>\n",
              "      <td>September 23, 2021</td>\n",
              "      <td>2021</td>\n",
              "      <td>TV-MA</td>\n",
              "      <td>127 min</td>\n",
              "      <td>Dramas, International Movies</td>\n",
              "      <td>After most of her family is murdered in a terr...</td>\n",
              "      <td>127</td>\n",
              "    </tr>\n",
              "    <tr>\n",
              "      <th>24</th>\n",
              "      <td>s25</td>\n",
              "      <td>Movie</td>\n",
              "      <td>Jeans</td>\n",
              "      <td>S. Shankar</td>\n",
              "      <td>Prashanth, Aishwarya Rai Bachchan, Sri Lakshmi...</td>\n",
              "      <td>India</td>\n",
              "      <td>September 21, 2021</td>\n",
              "      <td>1998</td>\n",
              "      <td>TV-14</td>\n",
              "      <td>166 min</td>\n",
              "      <td>Comedies, International Movies, Romantic Movies</td>\n",
              "      <td>When the father of the man she loves insists t...</td>\n",
              "      <td>166</td>\n",
              "    </tr>\n",
              "    <tr>\n",
              "      <th>27</th>\n",
              "      <td>s28</td>\n",
              "      <td>Movie</td>\n",
              "      <td>Grown Ups</td>\n",
              "      <td>Dennis Dugan</td>\n",
              "      <td>Adam Sandler, Kevin James, Chris Rock, David S...</td>\n",
              "      <td>United States</td>\n",
              "      <td>September 20, 2021</td>\n",
              "      <td>2010</td>\n",
              "      <td>PG-13</td>\n",
              "      <td>103 min</td>\n",
              "      <td>Comedies</td>\n",
              "      <td>Mourning the loss of their beloved junior high...</td>\n",
              "      <td>103</td>\n",
              "    </tr>\n",
              "    <tr>\n",
              "      <th>...</th>\n",
              "      <td>...</td>\n",
              "      <td>...</td>\n",
              "      <td>...</td>\n",
              "      <td>...</td>\n",
              "      <td>...</td>\n",
              "      <td>...</td>\n",
              "      <td>...</td>\n",
              "      <td>...</td>\n",
              "      <td>...</td>\n",
              "      <td>...</td>\n",
              "      <td>...</td>\n",
              "      <td>...</td>\n",
              "      <td>...</td>\n",
              "    </tr>\n",
              "    <tr>\n",
              "      <th>8801</th>\n",
              "      <td>s8802</td>\n",
              "      <td>Movie</td>\n",
              "      <td>Zinzana</td>\n",
              "      <td>Majid Al Ansari</td>\n",
              "      <td>Ali Suliman, Saleh Bakri, Yasa, Ali Al-Jabri, ...</td>\n",
              "      <td>United Arab Emirates, Jordan</td>\n",
              "      <td>March 9, 2016</td>\n",
              "      <td>2015</td>\n",
              "      <td>TV-MA</td>\n",
              "      <td>96 min</td>\n",
              "      <td>Dramas, International Movies, Thrillers</td>\n",
              "      <td>Recovering alcoholic Talal wakes up inside a s...</td>\n",
              "      <td>96</td>\n",
              "    </tr>\n",
              "    <tr>\n",
              "      <th>8802</th>\n",
              "      <td>s8803</td>\n",
              "      <td>Movie</td>\n",
              "      <td>Zodiac</td>\n",
              "      <td>David Fincher</td>\n",
              "      <td>Mark Ruffalo, Jake Gyllenhaal, Robert Downey J...</td>\n",
              "      <td>United States</td>\n",
              "      <td>November 20, 2019</td>\n",
              "      <td>2007</td>\n",
              "      <td>R</td>\n",
              "      <td>158 min</td>\n",
              "      <td>Cult Movies, Dramas, Thrillers</td>\n",
              "      <td>A political cartoonist, a crime reporter and a...</td>\n",
              "      <td>158</td>\n",
              "    </tr>\n",
              "    <tr>\n",
              "      <th>8804</th>\n",
              "      <td>s8805</td>\n",
              "      <td>Movie</td>\n",
              "      <td>Zombieland</td>\n",
              "      <td>Ruben Fleischer</td>\n",
              "      <td>Jesse Eisenberg, Woody Harrelson, Emma Stone, ...</td>\n",
              "      <td>United States</td>\n",
              "      <td>November 1, 2019</td>\n",
              "      <td>2009</td>\n",
              "      <td>R</td>\n",
              "      <td>88 min</td>\n",
              "      <td>Comedies, Horror Movies</td>\n",
              "      <td>Looking to survive in a world taken over by zo...</td>\n",
              "      <td>88</td>\n",
              "    </tr>\n",
              "    <tr>\n",
              "      <th>8805</th>\n",
              "      <td>s8806</td>\n",
              "      <td>Movie</td>\n",
              "      <td>Zoom</td>\n",
              "      <td>Peter Hewitt</td>\n",
              "      <td>Tim Allen, Courteney Cox, Chevy Chase, Kate Ma...</td>\n",
              "      <td>United States</td>\n",
              "      <td>January 11, 2020</td>\n",
              "      <td>2006</td>\n",
              "      <td>PG</td>\n",
              "      <td>88 min</td>\n",
              "      <td>Children &amp; Family Movies, Comedies</td>\n",
              "      <td>Dragged from civilian life, a former superhero...</td>\n",
              "      <td>88</td>\n",
              "    </tr>\n",
              "    <tr>\n",
              "      <th>8806</th>\n",
              "      <td>s8807</td>\n",
              "      <td>Movie</td>\n",
              "      <td>Zubaan</td>\n",
              "      <td>Mozez Singh</td>\n",
              "      <td>Vicky Kaushal, Sarah-Jane Dias, Raaghav Chanan...</td>\n",
              "      <td>India</td>\n",
              "      <td>March 2, 2019</td>\n",
              "      <td>2015</td>\n",
              "      <td>TV-14</td>\n",
              "      <td>111 min</td>\n",
              "      <td>Dramas, International Movies, Music &amp; Musicals</td>\n",
              "      <td>A scrappy but poor boy worms his way into a ty...</td>\n",
              "      <td>111</td>\n",
              "    </tr>\n",
              "  </tbody>\n",
              "</table>\n",
              "<p>5189 rows × 13 columns</p>\n",
              "</div>\n",
              "      <button class=\"colab-df-convert\" onclick=\"convertToInteractive('df-8ae0d019-af28-4c2d-9539-06f263ad3525')\"\n",
              "              title=\"Convert this dataframe to an interactive table.\"\n",
              "              style=\"display:none;\">\n",
              "        \n",
              "  <svg xmlns=\"http://www.w3.org/2000/svg\" height=\"24px\"viewBox=\"0 0 24 24\"\n",
              "       width=\"24px\">\n",
              "    <path d=\"M0 0h24v24H0V0z\" fill=\"none\"/>\n",
              "    <path d=\"M18.56 5.44l.94 2.06.94-2.06 2.06-.94-2.06-.94-.94-2.06-.94 2.06-2.06.94zm-11 1L8.5 8.5l.94-2.06 2.06-.94-2.06-.94L8.5 2.5l-.94 2.06-2.06.94zm10 10l.94 2.06.94-2.06 2.06-.94-2.06-.94-.94-2.06-.94 2.06-2.06.94z\"/><path d=\"M17.41 7.96l-1.37-1.37c-.4-.4-.92-.59-1.43-.59-.52 0-1.04.2-1.43.59L10.3 9.45l-7.72 7.72c-.78.78-.78 2.05 0 2.83L4 21.41c.39.39.9.59 1.41.59.51 0 1.02-.2 1.41-.59l7.78-7.78 2.81-2.81c.8-.78.8-2.07 0-2.86zM5.41 20L4 18.59l7.72-7.72 1.47 1.35L5.41 20z\"/>\n",
              "  </svg>\n",
              "      </button>\n",
              "      \n",
              "  <style>\n",
              "    .colab-df-container {\n",
              "      display:flex;\n",
              "      flex-wrap:wrap;\n",
              "      gap: 12px;\n",
              "    }\n",
              "\n",
              "    .colab-df-convert {\n",
              "      background-color: #E8F0FE;\n",
              "      border: none;\n",
              "      border-radius: 50%;\n",
              "      cursor: pointer;\n",
              "      display: none;\n",
              "      fill: #1967D2;\n",
              "      height: 32px;\n",
              "      padding: 0 0 0 0;\n",
              "      width: 32px;\n",
              "    }\n",
              "\n",
              "    .colab-df-convert:hover {\n",
              "      background-color: #E2EBFA;\n",
              "      box-shadow: 0px 1px 2px rgba(60, 64, 67, 0.3), 0px 1px 3px 1px rgba(60, 64, 67, 0.15);\n",
              "      fill: #174EA6;\n",
              "    }\n",
              "\n",
              "    [theme=dark] .colab-df-convert {\n",
              "      background-color: #3B4455;\n",
              "      fill: #D2E3FC;\n",
              "    }\n",
              "\n",
              "    [theme=dark] .colab-df-convert:hover {\n",
              "      background-color: #434B5C;\n",
              "      box-shadow: 0px 1px 3px 1px rgba(0, 0, 0, 0.15);\n",
              "      filter: drop-shadow(0px 1px 2px rgba(0, 0, 0, 0.3));\n",
              "      fill: #FFFFFF;\n",
              "    }\n",
              "  </style>\n",
              "\n",
              "      <script>\n",
              "        const buttonEl =\n",
              "          document.querySelector('#df-8ae0d019-af28-4c2d-9539-06f263ad3525 button.colab-df-convert');\n",
              "        buttonEl.style.display =\n",
              "          google.colab.kernel.accessAllowed ? 'block' : 'none';\n",
              "\n",
              "        async function convertToInteractive(key) {\n",
              "          const element = document.querySelector('#df-8ae0d019-af28-4c2d-9539-06f263ad3525');\n",
              "          const dataTable =\n",
              "            await google.colab.kernel.invokeFunction('convertToInteractive',\n",
              "                                                     [key], {});\n",
              "          if (!dataTable) return;\n",
              "\n",
              "          const docLinkHtml = 'Like what you see? Visit the ' +\n",
              "            '<a target=\"_blank\" href=https://colab.research.google.com/notebooks/data_table.ipynb>data table notebook</a>'\n",
              "            + ' to learn more about interactive tables.';\n",
              "          element.innerHTML = '';\n",
              "          dataTable['output_type'] = 'display_data';\n",
              "          await google.colab.output.renderOutput(dataTable, element);\n",
              "          const docLink = document.createElement('div');\n",
              "          docLink.innerHTML = docLinkHtml;\n",
              "          element.appendChild(docLink);\n",
              "        }\n",
              "      </script>\n",
              "    </div>\n",
              "  </div>\n",
              "  "
            ],
            "text/plain": [
              "     show_id   type         title             director  \\\n",
              "7         s8  Movie       Sankofa         Haile Gerima   \n",
              "9        s10  Movie  The Starling       Theodore Melfi   \n",
              "12       s13  Movie  Je Suis Karl  Christian Schwochow   \n",
              "24       s25  Movie         Jeans           S. Shankar   \n",
              "27       s28  Movie     Grown Ups         Dennis Dugan   \n",
              "...      ...    ...           ...                  ...   \n",
              "8801   s8802  Movie       Zinzana      Majid Al Ansari   \n",
              "8802   s8803  Movie        Zodiac        David Fincher   \n",
              "8804   s8805  Movie    Zombieland      Ruben Fleischer   \n",
              "8805   s8806  Movie          Zoom         Peter Hewitt   \n",
              "8806   s8807  Movie        Zubaan          Mozez Singh   \n",
              "\n",
              "                                                   cast  \\\n",
              "7     Kofi Ghanaba, Oyafunmike Ogunlano, Alexandra D...   \n",
              "9     Melissa McCarthy, Chris O'Dowd, Kevin Kline, T...   \n",
              "12    Luna Wedler, Jannis Niewöhner, Milan Peschel, ...   \n",
              "24    Prashanth, Aishwarya Rai Bachchan, Sri Lakshmi...   \n",
              "27    Adam Sandler, Kevin James, Chris Rock, David S...   \n",
              "...                                                 ...   \n",
              "8801  Ali Suliman, Saleh Bakri, Yasa, Ali Al-Jabri, ...   \n",
              "8802  Mark Ruffalo, Jake Gyllenhaal, Robert Downey J...   \n",
              "8804  Jesse Eisenberg, Woody Harrelson, Emma Stone, ...   \n",
              "8805  Tim Allen, Courteney Cox, Chevy Chase, Kate Ma...   \n",
              "8806  Vicky Kaushal, Sarah-Jane Dias, Raaghav Chanan...   \n",
              "\n",
              "                                                country          date_added  \\\n",
              "7     United States, Ghana, Burkina Faso, United Kin...  September 24, 2021   \n",
              "9                                         United States  September 24, 2021   \n",
              "12                              Germany, Czech Republic  September 23, 2021   \n",
              "24                                                India  September 21, 2021   \n",
              "27                                        United States  September 20, 2021   \n",
              "...                                                 ...                 ...   \n",
              "8801                       United Arab Emirates, Jordan       March 9, 2016   \n",
              "8802                                      United States   November 20, 2019   \n",
              "8804                                      United States    November 1, 2019   \n",
              "8805                                      United States    January 11, 2020   \n",
              "8806                                              India       March 2, 2019   \n",
              "\n",
              "      release_year rating duration  \\\n",
              "7             1993  TV-MA  125 min   \n",
              "9             2021  PG-13  104 min   \n",
              "12            2021  TV-MA  127 min   \n",
              "24            1998  TV-14  166 min   \n",
              "27            2010  PG-13  103 min   \n",
              "...            ...    ...      ...   \n",
              "8801          2015  TV-MA   96 min   \n",
              "8802          2007      R  158 min   \n",
              "8804          2009      R   88 min   \n",
              "8805          2006     PG   88 min   \n",
              "8806          2015  TV-14  111 min   \n",
              "\n",
              "                                             listed_in  \\\n",
              "7     Dramas, Independent Movies, International Movies   \n",
              "9                                     Comedies, Dramas   \n",
              "12                        Dramas, International Movies   \n",
              "24     Comedies, International Movies, Romantic Movies   \n",
              "27                                            Comedies   \n",
              "...                                                ...   \n",
              "8801           Dramas, International Movies, Thrillers   \n",
              "8802                    Cult Movies, Dramas, Thrillers   \n",
              "8804                           Comedies, Horror Movies   \n",
              "8805                Children & Family Movies, Comedies   \n",
              "8806    Dramas, International Movies, Music & Musicals   \n",
              "\n",
              "                                            description minute  \n",
              "7     On a photo shoot in Ghana, an American model s...    125  \n",
              "9     A woman adjusting to life after a loss contend...    104  \n",
              "12    After most of her family is murdered in a terr...    127  \n",
              "24    When the father of the man she loves insists t...    166  \n",
              "27    Mourning the loss of their beloved junior high...    103  \n",
              "...                                                 ...    ...  \n",
              "8801  Recovering alcoholic Talal wakes up inside a s...     96  \n",
              "8802  A political cartoonist, a crime reporter and a...    158  \n",
              "8804  Looking to survive in a world taken over by zo...     88  \n",
              "8805  Dragged from civilian life, a former superhero...     88  \n",
              "8806  A scrappy but poor boy worms his way into a ty...    111  \n",
              "\n",
              "[5189 rows x 13 columns]"
            ]
          },
          "execution_count": 17,
          "metadata": {},
          "output_type": "execute_result"
        }
      ],
      "source": [
        "df_movie = df_netflix_clear[df_netflix_clear[\"type\"]==\"Movie\"]\n",
        "df_movie = df_movie.assign(minute = df_movie[\"duration\"].str.extract(r\"(\\d+)\", expand=False))\n",
        "df_movie"
      ]
    },
    {
      "cell_type": "markdown",
      "metadata": {
        "id": "KgYwBzFf79oM"
      },
      "source": [
        "Ahora los datos están listos para ser mostrados en un histograma. Se pueden emplear las librerías matplotlib, seaborn o pandas en Python. En este ejemplo se usa matplotlib."
      ]
    },
    {
      "cell_type": "code",
      "execution_count": null,
      "metadata": {
        "colab": {
          "base_uri": "https://localhost:8080/",
          "height": 297
        },
        "id": "9yMBynwg8O3w",
        "outputId": "5c49955b-acf7-4774-8937-0419eedd6cb8"
      },
      "outputs": [
        {
          "data": {
            "image/png": "[encoded data removed]",
            "text/plain": [
              "<Figure size 432x288 with 1 Axes>"
            ]
          },
          "metadata": {
            "needs_background": "light"
          },
          "output_type": "display_data"
        }
      ],
      "source": [
        "fig, ax = plt.subplots(nrows=1, ncols=1)\n",
        "plt.hist(df_movie[\"minute\"].fillna(0).astype(int))\n",
        "fig.tight_layout()"
      ]
    },
    {
      "cell_type": "markdown",
      "metadata": {
        "id": "SpGMKwwD9D3i"
      },
      "source": [
        "- **Uso de boxplots para identificar los valores atípicos en los datos numéricos:** Otra opción para identificar los valores atípicos son los boxplots. Los boxplots dejan los valores atípicos fuera de los bigotes de la caja. Como resultado, es más fácil identificar los valores mínimos y máximos sin tener en cuenta los valores atípicos."
      ]
    },
    {
      "cell_type": "code",
      "execution_count": null,
      "metadata": {
        "colab": {
          "base_uri": "https://localhost:8080/",
          "height": 297
        },
        "id": "-L_aHYga9RIv",
        "outputId": "d8812de2-bada-48d1-aa73-189bb240b246"
      },
      "outputs": [
        {
          "data": {
            "image/png": "[encoded data removed]",
            "text/plain": [
              "<Figure size 432x288 with 1 Axes>"
            ]
          },
          "metadata": {
            "needs_background": "light"
          },
          "output_type": "display_data"
        }
      ],
      "source": [
        "fig, ax = plt.subplots(nrows=1, ncols=1)\n",
        "ax = sns.boxplot(x=df_movie[\"minute\"].fillna(0).astype(int))\n",
        "fig.tight_layout()"
      ]
    },
    {
      "cell_type": "markdown",
      "metadata": {
        "id": "IMyrv-UUBech"
      },
      "source": [
        "El diagrama de caja muestra que los valores inferiores a 43' y superiores a 158' son probablemente valores atípicos."
      ]
    },
    {
      "cell_type": "markdown",
      "metadata": {
        "id": "BONT1x3e9rvV"
      },
      "source": [
        "Además, se puden identificar algunos elementos del boxplot como el cuartil inferior (Q1) y el cuartil superior (Q3):"
      ]
    },
    {
      "cell_type": "code",
      "execution_count": null,
      "metadata": {
        "colab": {
          "base_uri": "https://localhost:8080/"
        },
        "id": "GcsyvbVx9zW0",
        "outputId": "9b59c411-7095-47db-8867-d6fe13b10262"
      },
      "outputs": [
        {
          "data": {
            "text/plain": [
              "count    5189.00000\n",
              "mean      102.64444\n",
              "std        26.07064\n",
              "min         0.00000\n",
              "25%        89.00000\n",
              "50%       100.00000\n",
              "75%       117.00000\n",
              "max       253.00000\n",
              "Name: minute, dtype: float64"
            ]
          },
          "execution_count": 20,
          "metadata": {},
          "output_type": "execute_result"
        }
      ],
      "source": [
        "df_movie[\"minute\"].fillna(0).astype(int).describe()"
      ]
    },
    {
      "cell_type": "markdown",
      "metadata": {
        "id": "V8CUamwm-Fba"
      },
      "source": [
        "Además, puede mostrar fácilmente todos los elementos del boxplot e incluso hacerlo interactivo con Plotly."
      ]
    },
    {
      "cell_type": "code",
      "execution_count": null,
      "metadata": {
        "colab": {
          "base_uri": "https://localhost:8080/",
          "height": 542
        },
        "id": "bd8L7aWB-HMH",
        "outputId": "b57e30e4-ca89-408a-86ab-e82fbe7767e6"
      },
      "outputs": [
        {
          "data": {
            "text/html": [
              "<html>\n",
              "<head><meta charset=\"utf-8\" /></head>\n",
              "<body>\n",
              "    <div>            <script src=\"https://cdnjs.cloudflare.com/ajax/libs/mathjax/2.7.5/MathJax.js?config=TeX-AMS-MML_SVG\"></script><script type=\"text/javascript\">if (window.MathJax) {MathJax.Hub.Config({SVG: {font: \"STIX-Web\"}});}</script>                <script type=\"text/javascript\">window.PlotlyConfig = {MathJaxConfig: 'local'};</script>\n",
              "        <script src=\"https://cdn.plot.ly/plotly-2.8.3.min.js\"></script>                <div id=\"f7929978-aa0b-447e-a75a-d052d3918358\" class=\"plotly-graph-div\" style=\"height:525px; width:100%;\"></div>            <script type=\"text/javascript\">                                    window.PLOTLYENV=window.PLOTLYENV || {};                                    if (document.getElementById(\"f7929978-aa0b-447e-a75a-d052d3918358\")) {                    Plotly.newPlot(                        \"f7929978-aa0b-447e-a75a-d052d3918358\",                        [{\"text\":[\"125\",\"104\",\"127\",\"166\",\"103\",\"97\",\"106\",\"96\",\"124\",\"116\",\"98\",\"91\",\"115\",\"122\",\"99\",\"99\",\"88\",\"100\",\"102\",\"93\",\"96\",\"95\",\"85\",\"97\",\"95\",\"83\",\"182\",\"106\",\"147\",\"95\",\"90\",\"97\",\"128\",\"90\",\"143\",\"119\",\"114\",\"106\",\"118\",\"115\",\"95\",\"108\",\"117\",\"121\",\"142\",\"113\",\"154\",\"95\",\"108\",\"120\",\"100\",\"82\",\"124\",\"114\",\"104\",\"94\",\"94\",\"93\",\"97\",\"109\",\"88\",\"101\",\"105\",\"102\",\"101\",\"103\",\"106\",\"118\",\"86\",\"121\",\"229\",\"76\",\"95\",\"98\",\"89\",\"120\",\"110\",\"83\",\"121\",\"105\",\"94\",\"156\",\"112\",\"95\",\"114\",\"129\",\"97\",\"125\",\"107\",\"127\",\"128\",\"135\",\"124\",\"136\",\"165\",\"124\",\"136\",\"150\",\"112\",\"119\",\"133\",\"142\",\"93\",\"113\",\"116\",\"106\",\"145\",\"95\",\"108\",\"90\",\"92\",\"110\",\"91\",\"135\",\"82\",\"94\",\"121\",\"110\",\"64\",\"59\",\"101\",\"127\",\"114\",\"108\",\"98\",\"86\",\"111\",\"115\",\"102\",\"100\",\"135\",\"95\",\"97\",\"124\",\"118\",\"115\",\"115\",\"104\",\"106\",\"87\",\"88\",\"114\",\"90\",\"142\",\"90\",\"105\",\"103\",\"116\",\"113\",\"99\",\"148\",\"189\",\"97\",\"102\",\"99\",\"85\",\"112\",\"91\",\"91\",\"141\",\"130\",\"98\",\"105\",\"101\",\"105\",\"118\",\"97\",\"102\",\"114\",\"111\",\"125\",\"103\",\"94\",\"92\",\"143\",\"117\",\"165\",\"91\",\"111\",\"64\",\"68\",\"99\",\"105\",\"102\",\"91\",\"88\",\"101\",\"94\",\"105\",\"117\",\"115\",\"124\",\"131\",\"122\",\"113\",\"86\",\"95\",\"87\",\"96\",\"94\",\"104\",\"97\",\"91\",\"106\",\"90\",\"104\",\"92\",\"95\",\"105\",\"116\",\"124\",\"101\",\"95\",\"128\",\"143\",\"136\",\"136\",\"126\",\"116\",\"100\",\"115\",\"125\",\"94\",\"90\",\"95\",\"155\",\"98\",\"108\",\"96\",\"117\",\"103\",\"94\",\"93\",\"115\",\"120\",\"145\",\"126\",\"101\",\"118\",\"109\",\"89\",\"106\",\"101\",\"123\",\"106\",\"89\",\"128\",\"85\",\"89\",\"108\",\"105\",\"133\",\"129\",\"127\",\"113\",\"112\",\"130\",\"100\",\"103\",\"85\",\"124\",\"103\",\"121\",\"89\",\"92\",\"112\",\"114\",\"116\",\"98\",\"100\",\"97\",\"83\",\"101\",\"109\",\"87\",\"96\",\"84\",\"125\",\"119\",\"105\",\"111\",\"119\",\"13\",\"101\",\"96\",\"122\",\"89\",\"98\",\"119\",\"104\",\"101\",\"99\",\"84\",\"89\",\"113\",\"110\",\"102\",\"86\",\"91\",\"117\",\"99\",\"77\",\"97\",\"106\",\"97\",\"104\",\"110\",\"98\",\"74\",\"103\",\"94\",\"112\",\"49\",\"111\",\"72\",\"78\",\"101\",\"110\",\"94\",\"70\",\"118\",\"103\",\"95\",\"93\",\"101\",\"101\",\"89\",\"109\",\"104\",\"90\",\"109\",\"145\",\"88\",\"132\",\"109\",\"133\",\"85\",\"104\",\"99\",\"93\",\"98\",\"101\",\"94\",\"99\",\"108\",\"128\",\"104\",\"127\",\"136\",\"97\",\"88\",\"97\",\"97\",\"88\",\"97\",\"97\",\"118\",\"70\",\"91\",\"92\",\"94\",\"131\",\"148\",\"92\",\"88\",\"109\",\"92\",\"101\",\"140\",\"89\",\"81\",\"99\",\"107\",\"107\",\"90\",\"104\",\"100\",\"102\",\"105\",\"107\",\"99\",\"102\",\"119\",\"86\",\"122\",\"95\",\"104\",\"118\",\"98\",\"99\",\"107\",\"97\",\"112\",\"118\",\"109\",\"109\",\"88\",\"97\",\"97\",\"95\",\"91\",\"115\",\"93\",\"109\",\"96\",\"138\",\"113\",\"94\",\"89\",\"121\",\"127\",\"94\",\"89\",\"136\",\"89\",\"99\",\"93\",\"85\",\"102\",\"101\",\"128\",\"85\",\"95\",\"121\",\"116\",\"91\",\"149\",\"113\",\"127\",\"101\",\"102\",\"102\",\"107\",\"123\",\"98\",\"95\",\"101\",\"104\",\"104\",\"111\",\"102\",\"15\",\"120\",\"106\",\"116\",\"116\",\"86\",\"97\",\"132\",\"126\",\"101\",\"102\",\"147\",\"224\",\"141\",\"109\",\"162\",\"142\",\"93\",\"60\",\"119\",\"96\",\"116\",\"102\",\"123\",\"102\",\"127\",\"88\",\"106\",\"65\",\"96\",\"88\",\"143\",\"137\",\"75\",\"103\",\"130\",\"145\",\"118\",\"102\",\"132\",\"108\",\"133\",\"107\",\"32\",\"78\",\"140\",\"143\",\"88\",\"89\",\"93\",\"97\",\"94\",\"112\",\"100\",\"120\",\"91\",\"98\",\"113\",\"98\",\"91\",\"158\",\"164\",\"133\",\"103\",\"90\",\"116\",\"96\",\"121\",\"101\",\"173\",\"89\",\"181\",\"99\",\"88\",\"107\",\"114\",\"96\",\"149\",\"102\",\"83\",\"98\",\"83\",\"104\",\"111\",\"98\",\"93\",\"73\",\"141\",\"116\",\"98\",\"95\",\"93\",\"97\",\"114\",\"100\",\"105\",\"60\",\"98\",\"108\",\"90\",\"102\",\"120\",\"106\",\"115\",\"98\",\"60\",\"113\",\"101\",\"24\",\"80\",\"100\",\"139\",\"74\",\"131\",\"131\",\"118\",\"97\",\"92\",\"136\",\"97\",\"110\",\"105\",\"90\",\"107\",\"92\",\"94\",\"99\",\"97\",\"151\",\"108\",\"113\",\"81\",\"116\",\"119\",\"116\",\"112\",\"121\",\"115\",\"98\",\"181\",\"100\",\"22\",\"134\",\"94\",\"88\",\"119\",\"107\",\"112\",\"103\",\"90\",\"120\",\"97\",\"102\",\"106\",\"119\",\"58\",\"143\",\"112\",\"134\",\"123\",\"123\",\"118\",\"91\",\"97\",\"85\",\"139\",\"162\",\"92\",\"86\",\"107\",\"85\",\"83\",\"104\",\"116\",\"87\",\"91\",\"119\",\"102\",\"86\",\"102\",\"98\",\"99\",\"108\",\"114\",\"104\",\"88\",\"104\",\"123\",\"106\",\"138\",\"107\",\"133\",\"97\",\"116\",\"123\",\"89\",\"93\",\"139\",\"112\",\"101\",\"113\",\"89\",\"107\",\"123\",\"113\",\"90\",\"52\",\"127\",\"95\",\"121\",\"95\",\"133\",\"127\",\"95\",\"101\",\"123\",\"89\",\"100\",\"108\",\"94\",\"103\",\"105\",\"116\",\"92\",\"65\",\"115\",\"96\",\"32\",\"102\",\"102\",\"101\",\"71\",\"81\",\"112\",\"161\",\"129\",\"85\",\"148\",\"99\",\"101\",\"89\",\"128\",\"99\",\"126\",\"106\",\"101\",\"87\",\"111\",\"90\",\"91\",\"101\",\"96\",\"96\",\"148\",\"96\",\"98\",\"104\",\"53\",\"113\",\"102\",\"118\",\"83\",\"116\",\"116\",\"106\",\"105\",\"8\",\"110\",\"71\",\"91\",\"46\",\"109\",\"102\",\"101\",\"94\",\"110\",\"117\",\"85\",\"119\",\"115\",\"105\",\"68\",\"57\",\"28\",\"98\",\"95\",\"96\",\"66\",\"112\",\"84\",\"94\",\"98\",\"85\",\"120\",\"83\",\"94\",\"102\",\"111\",\"90\",\"110\",\"87\",\"132\",\"117\",\"50\",\"106\",\"125\",\"107\",\"91\",\"132\",\"133\",\"109\",\"107\",\"111\",\"108\",\"105\",\"119\",\"104\",\"83\",\"79\",\"115\",\"97\",\"26\",\"46\",\"106\",\"133\",\"93\",\"108\",\"96\",\"101\",\"106\",\"54\",\"118\",\"117\",\"48\",\"139\",\"115\",\"109\",\"91\",\"60\",\"102\",\"120\",\"149\",\"91\",\"99\",\"106\",\"108\",\"45\",\"93\",\"22\",\"81\",\"98\",\"100\",\"112\",\"114\",\"68\",\"103\",\"121\",\"95\",\"87\",\"115\",\"171\",\"46\",\"117\",\"84\",\"98\",\"83\",\"97\",\"99\",\"108\",\"93\",\"42\",\"64\",\"162\",\"130\",\"108\",\"129\",\"105\",\"133\",\"142\",\"128\",\"97\",\"107\",\"135\",\"84\",\"70\",\"124\",\"84\",\"95\",\"84\",\"120\",\"87\",\"75\",\"124\",\"95\",\"107\",\"123\",\"85\",\"150\",\"97\",\"88\",\"93\",\"151\",\"82\",\"148\",\"95\",\"90\",\"103\",\"87\",\"102\",\"96\",\"86\",\"136\",\"60\",\"127\",\"100\",\"87\",\"28\",\"27\",\"90\",\"102\",\"94\",\"81\",\"134\",\"114\",\"107\",\"107\",\"130\",\"87\",\"93\",\"114\",\"91\",\"116\",\"93\",\"106\",\"105\",\"93\",\"103\",\"50\",\"150\",\"100\",\"117\",\"87\",\"100\",\"86\",\"87\",\"103\",\"112\",\"120\",\"111\",\"78\",\"51\",\"123\",\"46\",\"102\",\"106\",\"112\",\"101\",\"96\",\"103\",\"94\",\"69\",\"81\",\"76\",\"108\",\"94\",\"106\",\"98\",\"93\",\"99\",\"93\",\"82\",\"107\",\"104\",\"130\",\"83\",\"99\",\"77\",\"94\",\"118\",\"87\",\"101\",\"80\",\"117\",\"47\",\"165\",\"134\",\"140\",\"150\",\"156\",\"86\",\"126\",\"100\",\"124\",\"100\",\"106\",\"104\",\"96\",\"90\",\"33\",\"81\",\"84\",\"44\",\"115\",\"94\",\"107\",\"115\",\"93\",\"107\",\"86\",\"112\",\"102\",\"91\",\"83\",\"73\",\"139\",\"101\",\"87\",\"120\",\"123\",\"95\",\"29\",\"28\",\"122\",\"59\",\"80\",\"103\",\"104\",\"146\",\"135\",\"129\",\"115\",\"143\",\"173\",\"129\",\"149\",\"98\",\"127\",\"124\",\"85\",\"102\",\"129\",\"124\",\"118\",\"111\",\"94\",\"130\",\"117\",\"137\",\"139\",\"111\",\"103\",\"120\",\"98\",\"130\",\"96\",\"61\",\"90\",\"139\",\"94\",\"92\",\"63\",\"88\",\"105\",\"140\",\"103\",\"102\",\"93\",\"133\",\"157\",\"116\",\"112\",\"96\",\"127\",\"130\",\"93\",\"138\",\"138\",\"92\",\"110\",\"102\",\"113\",\"96\",\"108\",\"94\",\"99\",\"98\",\"97\",\"135\",\"93\",\"94\",\"117\",\"63\",\"73\",\"91\",\"93\",\"101\",\"93\",\"96\",\"112\",\"72\",\"112\",\"72\",\"92\",\"109\",\"155\",\"109\",\"115\",\"97\",\"103\",\"24\",\"110\",\"97\",\"94\",\"107\",\"97\",\"103\",\"88\",\"111\",\"94\",\"33\",\"110\",\"98\",\"81\",\"104\",\"121\",\"100\",\"97\",\"75\",\"102\",\"158\",\"102\",\"203\",\"92\",\"104\",\"72\",\"113\",\"93\",\"119\",\"105\",\"113\",\"93\",\"44\",\"110\",\"90\",\"82\",\"69\",\"46\",\"94\",\"72\",\"95\",\"71\",\"64\",\"92\",\"80\",\"104\",\"25\",\"111\",\"99\",\"83\",\"150\",\"108\",\"44\",\"102\",\"137\",\"112\",\"102\",\"103\",\"136\",\"84\",\"114\",\"110\",\"103\",\"106\",\"46\",\"115\",\"140\",\"124\",\"133\",\"91\",\"30\",\"105\",\"58\",\"87\",\"95\",\"90\",\"102\",\"98\",\"104\",\"89\",\"62\",\"104\",\"101\",\"126\",\"89\",\"96\",\"91\",\"86\",\"89\",\"151\",\"116\",\"110\",\"123\",\"139\",\"95\",\"121\",\"127\",\"162\",\"128\",\"112\",\"125\",\"128\",\"120\",\"86\",\"107\",\"129\",\"135\",\"97\",\"125\",\"162\",\"136\",\"138\",\"126\",\"137\",\"114\",\"96\",\"107\",\"89\",\"94\",\"148\",\"82\",\"95\",\"120\",\"115\",\"107\",\"105\",\"134\",\"128\",\"103\",\"114\",\"102\",\"52\",\"86\",\"104\",\"76\",\"99\",\"124\",\"117\",\"107\",\"135\",\"126\",\"164\",\"166\",\"94\",\"92\",\"52\",\"112\",\"90\",\"101\",\"84\",\"112\",\"136\",\"110\",\"93\",\"90\",\"130\",\"128\",\"104\",\"131\",\"109\",\"129\",\"73\",\"104\",\"114\",\"86\",\"194\",\"76\",\"116\",\"130\",\"85\",\"108\",\"81\",\"76\",\"92\",\"85\",\"108\",\"120\",\"117\",\"100\",\"101\",\"156\",\"55\",\"96\",\"104\",\"101\",\"113\",\"126\",\"98\",\"114\",\"132\",\"92\",\"90\",\"86\",\"103\",\"114\",\"115\",\"149\",\"102\",\"105\",\"114\",\"94\",\"106\",\"116\",\"109\",\"100\",\"116\",\"111\",\"95\",\"135\",\"95\",\"92\",\"100\",\"80\",\"98\",\"104\",\"98\",\"104\",\"99\",\"68\",\"106\",\"71\",\"80\",\"116\",\"112\",\"73\",\"110\",\"135\",\"128\",\"93\",\"149\",\"54\",\"87\",\"102\",\"177\",\"98\",\"237\",\"195\",\"253\",\"157\",\"97\",\"85\",\"94\",\"80\",\"94\",\"92\",\"105\",\"120\",\"96\",\"107\",\"93\",\"101\",\"110\",\"112\",\"93\",\"109\",\"105\",\"97\",\"91\",\"88\",\"109\",\"118\",\"109\",\"131\",\"152\",\"67\",\"72\",\"83\",\"90\",\"106\",\"190\",\"129\",\"160\",\"86\",\"92\",\"114\",\"90\",\"94\",\"86\",\"89\",\"61\",\"93\",\"81\",\"120\",\"94\",\"91\",\"104\",\"76\",\"90\",\"103\",\"122\",\"97\",\"98\",\"42\",\"91\",\"94\",\"107\",\"143\",\"105\",\"116\",\"105\",\"97\",\"105\",\"109\",\"111\",\"132\",\"102\",\"107\",\"100\",\"115\",\"104\",\"110\",\"100\",\"108\",\"104\",\"116\",\"106\",\"96\",\"140\",\"107\",\"138\",\"132\",\"208\",\"105\",\"101\",\"124\",\"93\",\"110\",\"115\",\"107\",\"72\",\"107\",\"95\",\"180\",\"135\",\"94\",\"105\",\"93\",\"92\",\"144\",\"101\",\"81\",\"95\",\"119\",\"121\",\"88\",\"106\",\"119\",\"63\",\"82\",\"95\",\"93\",\"120\",\"147\",\"55\",\"107\",\"92\",\"98\",\"101\",\"112\",\"103\",\"91\",\"96\",\"104\",\"66\",\"83\",\"111\",\"90\",\"121\",\"121\",\"88\",\"107\",\"91\",\"174\",\"155\",\"87\",\"77\",\"142\",\"170\",\"165\",\"161\",\"144\",\"149\",\"135\",\"131\",\"126\",\"192\",\"209\",\"187\",\"138\",\"185\",\"143\",\"172\",\"103\",\"83\",\"107\",\"114\",\"93\",\"85\",\"131\",\"101\",\"107\",\"84\",\"104\",\"160\",\"103\",\"46\",\"112\",\"83\",\"72\",\"24\",\"104\",\"72\",\"113\",\"100\",\"99\",\"104\",\"70\",\"95\",\"109\",\"91\",\"75\",\"100\",\"95\",\"113\",\"62\",\"93\",\"135\",\"101\",\"98\",\"103\",\"106\",\"95\",\"132\",\"82\",\"71\",\"79\",\"120\",\"82\",\"115\",\"111\",\"110\",\"121\",\"108\",\"186\",\"116\",\"154\",\"105\",\"71\",\"61\",\"133\",\"98\",\"119\",\"61\",\"130\",\"87\",\"127\",\"87\",\"88\",\"158\",\"93\",\"109\",\"162\",\"98\",\"103\",\"97\",\"94\",\"101\",\"109\",\"50\",\"110\",\"92\",\"120\",\"101\",\"116\",\"117\",\"95\",\"122\",\"102\",\"96\",\"93\",\"93\",\"87\",\"95\",\"33\",\"113\",\"118\",\"171\",\"100\",\"103\",\"86\",\"102\",\"101\",\"96\",\"106\",\"88\",\"103\",\"139\",\"89\",\"104\",\"124\",\"112\",\"70\",\"106\",\"97\",\"106\",\"60\",\"148\",\"122\",\"86\",\"193\",\"92\",\"94\",\"82\",\"89\",\"176\",\"116\",\"86\",\"93\",\"85\",\"62\",\"112\",\"121\",\"133\",\"76\",\"82\",\"156\",\"90\",\"97\",\"51\",\"98\",\"61\",\"116\",\"132\",\"17\",\"91\",\"121\",\"78\",\"95\",\"86\",\"132\",\"107\",\"122\",\"95\",\"108\",\"99\",\"103\",\"66\",\"132\",\"56\",\"128\",\"119\",\"97\",\"92\",\"102\",\"90\",\"129\",\"106\",\"105\",\"78\",\"79\",\"78\",\"145\",\"71\",\"83\",\"119\",\"98\",\"102\",\"97\",\"110\",\"85\",\"90\",\"89\",\"120\",\"102\",\"73\",\"79\",\"97\",\"91\",\"96\",\"103\",\"95\",\"83\",\"117\",\"70\",\"90\",\"86\",\"86\",\"113\",\"141\",\"126\",\"63\",\"136\",\"120\",\"134\",\"185\",\"174\",\"169\",\"148\",\"135\",\"135\",\"119\",\"98\",\"135\",\"185\",\"156\",\"104\",\"139\",\"140\",\"154\",\"129\",\"99\",\"100\",\"95\",\"65\",\"143\",\"101\",\"60\",\"29\",\"92\",\"172\",\"97\",\"108\",\"137\",\"106\",\"115\",\"92\",\"93\",\"85\",\"56\",\"86\",\"127\",\"93\",\"94\",\"120\",\"135\",\"134\",\"137\",\"103\",\"133\",\"95\",\"126\",\"67\",\"135\",\"106\",\"107\",\"81\",\"107\",\"110\",\"104\",\"93\",\"94\",\"137\",\"134\",\"106\",\"209\",\"86\",\"24\",\"117\",\"121\",\"97\",\"121\",\"119\",\"93\",\"86\",\"134\",\"28\",\"131\",\"78\",\"84\",\"107\",\"101\",\"107\",\"74\",\"60\",\"143\",\"105\",\"110\",\"98\",\"74\",\"46\",\"54\",\"59\",\"100\",\"93\",\"94\",\"121\",\"78\",\"116\",\"87\",\"61\",\"98\",\"123\",\"85\",\"78\",\"103\",\"68\",\"68\",\"69\",\"81\",\"69\",\"68\",\"68\",\"86\",\"40\",\"94\",\"90\",\"112\",\"101\",\"119\",\"86\",\"92\",\"91\",\"141\",\"107\",\"89\",\"65\",\"126\",\"63\",\"20\",\"106\",\"118\",\"86\",\"94\",\"82\",\"92\",\"52\",\"108\",\"67\",\"91\",\"118\",\"87\",\"98\",\"95\",\"100\",\"101\",\"96\",\"99\",\"112\",\"127\",\"63\",\"97\",\"86\",\"62\",\"96\",\"104\",\"123\",\"100\",\"99\",\"151\",\"102\",\"106\",\"87\",\"70\",\"101\",\"109\",\"110\",\"102\",\"102\",\"24\",\"98\",\"90\",\"64\",\"79\",\"81\",\"81\",\"64\",\"90\",\"102\",\"116\",\"133\",\"108\",\"106\",\"58\",\"152\",\"87\",\"121\",\"83\",\"111\",\"171\",\"88\",\"76\",\"64\",\"94\",\"157\",\"83\",\"65\",\"105\",\"107\",\"103\",\"67\",\"125\",\"142\",\"133\",\"100\",\"128\",\"93\",\"82\",\"47\",\"95\",\"91\",\"102\",\"100\",\"98\",\"110\",\"85\",\"66\",\"92\",\"133\",\"135\",\"120\",\"118\",\"98\",\"104\",\"52\",\"117\",\"100\",\"86\",\"69\",\"119\",\"123\",\"93\",\"107\",\"46\",\"117\",\"67\",\"114\",\"67\",\"77\",\"63\",\"59\",\"102\",\"81\",\"116\",\"177\",\"130\",\"111\",\"100\",\"77\",\"93\",\"58\",\"56\",\"110\",\"98\",\"106\",\"102\",\"81\",\"98\",\"136\",\"161\",\"32\",\"105\",\"106\",\"90\",\"87\",\"65\",\"66\",\"122\",\"141\",\"176\",\"73\",\"87\",\"15\",\"55\",\"122\",\"63\",\"96\",\"113\",\"69\",\"87\",\"116\",\"116\",\"110\",\"59\",\"88\",\"91\",\"113\",\"90\",\"95\",\"98\",\"61\",\"117\",\"60\",\"142\",\"74\",\"119\",\"114\",\"125\",\"71\",\"110\",\"127\",\"118\",\"90\",\"130\",\"12\",\"62\",\"114\",\"128\",\"109\",\"109\",\"101\",\"103\",\"98\",\"123\",\"101\",\"99\",\"91\",\"137\",\"66\",\"90\",\"53\",\"87\",\"90\",\"96\",\"94\",\"108\",\"102\",\"70\",\"88\",\"100\",\"111\",\"128\",\"98\",\"104\",\"126\",\"125\",\"79\",\"110\",\"128\",\"110\",\"116\",\"119\",\"90\",\"88\",\"104\",\"140\",\"92\",\"64\",\"119\",\"91\",\"122\",\"125\",\"168\",\"102\",\"92\",\"111\",\"113\",\"54\",\"123\",\"102\",\"141\",\"111\",\"131\",\"116\",\"119\",\"146\",\"101\",\"87\",\"94\",\"133\",\"135\",\"91\",\"59\",\"91\",\"131\",\"88\",\"170\",\"92\",\"126\",\"120\",\"76\",\"60\",\"103\",\"124\",\"91\",\"88\",\"81\",\"124\",\"102\",\"132\",\"75\",\"126\",\"61\",\"126\",\"108\",\"100\",\"129\",\"108\",\"105\",\"115\",\"118\",\"130\",\"115\",\"69\",\"97\",\"61\",\"92\",\"108\",\"104\",\"65\",\"106\",\"69\",\"97\",\"80\",\"85\",\"98\",\"115\",\"117\",\"132\",\"127\",\"125\",\"128\",\"126\",\"116\",\"90\",\"111\",\"100\",\"99\",\"105\",\"128\",\"91\",\"127\",\"94\",\"124\",\"103\",\"118\",\"89\",\"103\",\"87\",\"93\",\"90\",\"114\",\"107\",\"97\",\"103\",\"125\",\"130\",\"119\",\"110\",\"120\",\"102\",\"125\",\"127\",\"121\",\"113\",\"118\",\"132\",\"61\",\"80\",\"110\",\"70\",\"117\",\"89\",\"84\",\"131\",\"139\",\"42\",\"79\",\"96\",\"114\",\"111\",\"112\",\"103\",\"104\",\"102\",\"97\",\"132\",\"120\",\"137\",\"82\",\"115\",\"130\",\"62\",\"91\",\"63\",\"74\",\"136\",\"59\",\"91\",\"93\",\"100\",\"22\",\"22\",\"113\",\"110\",\"120\",\"127\",\"74\",\"137\",\"86\",\"125\",\"114\",\"143\",\"121\",\"119\",\"150\",\"88\",\"105\",\"96\",\"96\",\"96\",\"90\",\"97\",\"88\",\"127\",\"125\",\"116\",\"102\",\"65\",\"106\",\"117\",\"136\",\"104\",\"91\",\"99\",\"91\",\"117\",\"95\",\"101\",\"102\",\"95\",\"92\",\"111\",\"115\",\"61\",\"97\",\"120\",\"148\",\"48\",\"28\",\"61\",\"56\",\"81\",\"50\",\"49\",\"71\",\"100\",\"30\",\"146\",\"127\",\"46\",\"57\",\"122\",\"109\",\"96\",\"105\",\"124\",\"78\",\"22\",\"95\",\"82\",\"89\",\"90\",\"85\",\"29\",\"137\",\"27\",\"112\",\"112\",\"153\",\"123\",\"90\",\"84\",\"79\",\"83\",\"145\",\"135\",\"68\",\"96\",\"110\",\"105\",\"98\",\"155\",\"122\",\"87\",\"98\",\"130\",\"105\",\"110\",\"81\",\"115\",\"113\",\"146\",\"118\",\"109\",\"117\",\"95\",\"124\",\"96\",\"96\",\"93\",\"30\",\"82\",\"127\",\"114\",\"119\",\"101\",\"96\",\"44\",\"104\",\"91\",\"91\",\"114\",\"91\",\"64\",\"89\",\"95\",\"94\",\"133\",\"122\",\"86\",\"111\",\"111\",\"121\",\"119\",\"115\",\"128\",\"99\",\"106\",\"122\",\"129\",\"116\",\"95\",\"122\",\"98\",\"117\",\"95\",\"146\",\"136\",\"91\",\"123\",\"144\",\"121\",\"91\",\"158\",\"157\",\"124\",\"106\",\"92\",\"80\",\"126\",\"129\",\"133\",\"109\",\"143\",\"140\",\"150\",\"128\",\"120\",\"154\",\"45\",\"132\",\"126\",\"95\",\"135\",\"139\",\"131\",\"118\",\"129\",\"131\",\"146\",\"123\",\"141\",\"93\",\"91\",\"106\",\"131\",\"104\",\"126\",\"118\",\"94\",\"126\",\"90\",\"115\",\"93\",\"74\",\"102\",\"104\",\"51\",\"86\",\"140\",\"122\",\"95\",\"121\",\"131\",\"63\",\"150\",\"159\",\"131\",\"130\",\"99\",\"106\",\"97\",\"144\",\"110\",\"57\",\"119\",\"94\",\"89\",\"124\",\"121\",\"88\",\"111\",\"81\",\"137\",\"56\",\"80\",\"94\",\"94\",\"72\",\"140\",\"91\",\"97\",\"146\",\"118\",\"128\",\"137\",\"145\",\"106\",\"137\",\"129\",\"99\",\"155\",\"142\",\"214\",\"137\",\"128\",\"151\",\"121\",\"101\",\"145\",\"147\",\"90\",\"129\",\"129\",\"136\",\"117\",\"150\",\"134\",\"100\",\"44\",\"44\",\"111\",\"147\",\"115\",\"121\",\"103\",\"73\",\"129\",\"102\",\"122\",\"155\",\"139\",\"131\",\"127\",\"156\",\"132\",\"130\",\"137\",\"156\",\"132\",\"119\",\"140\",\"126\",\"107\",\"111\",\"130\",\"126\",\"108\",\"101\",\"124\",\"114\",\"98\",\"100\",\"123\",\"106\",\"106\",\"102\",\"146\",\"96\",\"104\",\"109\",\"110\",\"110\",\"101\",\"94\",\"101\",\"141\",\"120\",\"140\",\"50\",\"31\",\"90\",\"110\",\"162\",\"139\",\"130\",\"145\",\"114\",\"100\",\"54\",\"150\",\"105\",\"124\",\"95\",\"12\",\"104\",\"143\",\"127\",\"100\",\"74\",\"104\",\"148\",\"127\",\"158\",\"124\",\"163\",\"121\",\"154\",\"127\",\"128\",\"98\",\"109\",\"168\",\"162\",\"159\",\"137\",\"133\",\"127\",\"131\",\"90\",\"88\",\"87\",\"82\",\"86\",\"100\",\"57\",\"95\",\"124\",\"72\",\"93\",\"92\",\"133\",\"105\",\"101\",\"88\",\"113\",\"71\",\"75\",\"66\",\"83\",\"110\",\"88\",\"77\",\"58\",\"69\",\"61\",\"88\",\"122\",\"60\",\"166\",\"107\",\"94\",\"87\",\"92\",\"130\",\"88\",\"128\",\"94\",\"69\",\"90\",\"101\",\"77\",\"89\",\"98\",\"66\",\"103\",\"95\",\"89\",\"119\",\"70\",\"121\",\"106\",\"106\",\"113\",\"119\",\"100\",\"110\",\"66\",\"126\",\"130\",\"110\",\"85\",\"117\",\"63\",\"94\",\"74\",\"58\",\"117\",\"89\",\"158\",\"100\",\"64\",\"92\",\"63\",\"105\",\"67\",\"91\",\"92\",\"87\",\"100\",\"113\",\"105\",\"94\",\"109\",\"99\",\"89\",\"92\",\"105\",\"130\",\"98\",\"90\",\"65\",\"92\",\"25\",\"101\",\"90\",\"96\",\"115\",\"92\",\"93\",\"95\",\"117\",\"66\",\"97\",\"78\",\"102\",\"62\",\"97\",\"105\",\"90\",\"107\",\"105\",\"99\",\"108\",\"66\",\"75\",\"96\",\"95\",\"32\",\"70\",\"94\",\"78\",\"91\",\"75\",\"105\",\"96\",\"132\",\"60\",\"171\",\"116\",\"169\",\"134\",\"159\",\"87\",\"103\",\"78\",\"62\",\"97\",\"102\",\"95\",\"115\",\"102\",\"99\",\"74\",\"100\",\"150\",\"87\",\"129\",\"91\",\"115\",\"140\",\"79\",\"104\",\"121\",\"94\",\"58\",\"51\",\"69\",\"104\",\"94\",\"166\",\"155\",\"145\",\"106\",\"94\",\"127\",\"87\",\"185\",\"75\",\"89\",\"81\",\"47\",\"46\",\"125\",\"160\",\"110\",\"67\",\"105\",\"127\",\"109\",\"134\",\"60\",\"96\",\"65\",\"133\",\"96\",\"95\",\"97\",\"102\",\"116\",\"102\",\"117\",\"96\",\"69\",\"108\",\"102\",\"61\",\"49\",\"87\",\"59\",\"63\",\"62\",\"108\",\"95\",\"99\",\"62\",\"147\",\"153\",\"87\",\"124\",\"94\",\"71\",\"135\",\"97\",\"86\",\"82\",\"102\",\"105\",\"106\",\"91\",\"61\",\"80\",\"118\",\"94\",\"84\",\"103\",\"69\",\"105\",\"128\",\"86\",\"109\",\"70\",\"89\",\"162\",\"163\",\"27\",\"67\",\"142\",\"78\",\"26\",\"81\",\"119\",\"99\",\"96\",\"128\",\"101\",\"109\",\"51\",\"61\",\"73\",\"92\",\"94\",\"135\",\"66\",\"126\",\"54\",\"100\",\"81\",\"123\",\"153\",\"141\",\"104\",\"97\",\"82\",\"98\",\"84\",\"76\",\"75\",\"93\",\"98\",\"91\",\"168\",\"68\",\"103\",\"82\",\"94\",\"66\",\"135\",\"144\",\"90\",\"158\",\"83\",\"102\",\"52\",\"85\",\"113\",\"88\",\"89\",\"59\",\"66\",\"135\",\"93\",\"47\",\"118\",\"81\",\"103\",\"103\",\"104\",\"82\",\"112\",\"102\",\"101\",\"119\",\"62\",\"64\",\"137\",\"78\",\"71\",\"99\",\"60\",\"98\",\"70\",\"148\",\"92\",\"107\",\"90\",\"151\",\"132\",\"95\",\"162\",\"163\",\"89\",\"103\",\"160\",\"113\",\"86\",\"83\",\"113\",\"86\",\"57\",\"98\",\"116\",\"100\",\"51\",\"113\",\"124\",\"63\",\"56\",\"94\",\"90\",\"71\",\"97\",\"83\",\"92\",\"165\",\"159\",\"22\",\"105\",\"54\",\"121\",\"103\",\"129\",\"95\",\"80\",\"84\",\"97\",\"86\",\"114\",\"84\",\"67\",\"63\",\"116\",\"104\",\"14\",\"108\",\"59\",\"74\",\"84\",\"97\",\"95\",\"116\",\"86\",\"153\",\"104\",\"163\",\"106\",\"148\",\"105\",\"121\",\"66\",\"102\",\"89\",\"161\",\"24\",\"66\",\"104\",\"73\",\"47\",\"102\",\"87\",\"117\",\"119\",\"130\",\"102\",\"154\",\"44\",\"96\",\"47\",\"44\",\"109\",\"89\",\"92\",\"122\",\"154\",\"152\",\"161\",\"123\",\"44\",\"71\",\"153\",\"143\",\"123\",\"80\",\"106\",\"101\",\"59\",\"164\",\"151\",\"84\",\"142\",\"110\",\"86\",\"101\",\"88\",\"86\",\"61\",\"81\",\"72\",\"98\",\"64\",\"111\",\"148\",\"163\",\"95\",\"99\",\"93\",\"89\",\"83\",\"104\",\"53\",\"95\",\"149\",\"106\",\"108\",\"66\",\"113\",\"83\",\"50\",\"97\",\"105\",\"107\",\"99\",\"101\",\"81\",\"92\",\"131\",\"101\",\"96\",\"85\",\"110\",\"89\",null,\"88\",\"88\",\"143\",\"83\",\"107\",\"134\",\"78\",\"81\",\"106\",\"102\",\"63\",\"91\",\"93\",\"93\",\"97\",\"92\",\"137\",\"143\",\"168\",\"117\",\"87\",\"160\",\"62\",\"109\",\"102\",\"118\",\"57\",\"94\",\"71\",\"123\",\"97\",\"99\",\"97\",\"67\",\"105\",\"78\",\"99\",\"119\",\"109\",\"92\",\"88\",\"71\",\"64\",\"97\",\"54\",\"78\",\"86\",\"154\",\"179\",\"93\",\"97\",\"108\",\"92\",\"78\",\"87\",\"99\",\"91\",\"102\",\"67\",\"57\",\"130\",\"80\",\"66\",\"105\",\"98\",\"91\",\"123\",\"104\",\"109\",\"74\",\"84\",\"98\",\"22\",\"100\",\"75\",\"69\",\"97\",\"92\",\"92\",\"146\",\"97\",\"93\",\"62\",\"22\",\"88\",\"105\",\"88\",\"93\",\"98\",\"88\",\"31\",\"83\",\"38\",\"108\",\"97\",\"81\",\"70\",\"62\",\"99\",\"112\",\"90\",\"89\",\"24\",\"100\",\"116\",\"92\",\"79\",\"72\",\"92\",\"61\",\"88\",\"113\",\"67\",\"65\",\"62\",\"107\",\"69\",\"77\",\"98\",\"71\",\"64\",\"59\",\"91\",\"107\",\"92\",\"89\",\"107\",\"94\",\"110\",\"81\",\"77\",\"64\",\"97\",\"77\",\"94\",\"94\",\"91\",\"80\",\"95\",\"90\",\"73\",\"108\",\"25\",\"86\",\"105\",\"100\",\"96\",\"97\",\"73\",\"132\",\"96\",\"92\",\"99\",\"78\",\"89\",\"60\",null,\"83\",\"75\",\"92\",\"80\",null,\"72\",\"71\",\"77\",\"70\",\"73\",\"81\",\"45\",\"46\",\"112\",\"101\",\"117\",\"114\",\"96\",\"87\",\"105\",\"80\",\"97\",\"105\",\"60\",\"109\",\"60\",\"101\",\"127\",\"82\",\"23\",\"97\",\"62\",\"84\",\"90\",\"101\",\"74\",\"68\",\"92\",\"107\",\"108\",\"74\",\"29\",\"60\",\"120\",\"74\",\"57\",\"91\",\"62\",\"85\",\"90\",\"105\",\"59\",\"137\",\"86\",\"64\",\"82\",\"90\",\"80\",\"62\",\"92\",\"78\",\"92\",\"69\",\"92\",\"143\",\"78\",\"84\",\"84\",\"58\",\"82\",\"83\",\"81\",\"75\",\"68\",\"71\",\"94\",\"80\",\"93\",\"105\",\"130\",\"100\",\"80\",\"76\",\"95\",\"96\",\"94\",\"94\",\"93\",\"96\",\"94\",\"94\",\"93\",\"95\",\"93\",\"75\",\"103\",\"29\",\"104\",\"81\",\"80\",\"123\",\"119\",\"118\",\"143\",\"149\",\"144\",\"124\",\"128\",\"117\",\"100\",\"105\",\"106\",\"99\",\"93\",\"89\",\"105\",\"109\",\"90\",\"90\",\"93\",\"113\",\"89\",\"102\",\"102\",\"90\",\"94\",\"91\",\"95\",\"119\",\"93\",\"101\",\"93\",\"82\",\"70\",\"104\",\"92\",\"124\",\"91\",\"83\",\"93\",\"81\",\"86\",\"97\",\"99\",\"100\",\"126\",\"94\",\"103\",\"96\",\"137\",\"104\",\"104\",\"94\",\"176\",\"137\",\"101\",\"111\",\"110\",\"142\",\"86\",\"86\",\"80\",\"92\",\"96\",\"125\",\"82\",\"111\",\"92\",\"94\",\"91\",\"44\",\"108\",\"123\",\"106\",\"89\",\"98\",\"108\",\"92\",\"102\",\"103\",\"110\",\"77\",\"99\",\"122\",\"150\",\"126\",\"164\",\"115\",\"133\",\"127\",\"131\",\"44\",\"101\",\"90\",\"89\",\"88\",\"133\",\"110\",\"112\",\"87\",\"91\",\"111\",\"99\",\"86\",\"107\",\"89\",\"92\",\"122\",\"91\",\"127\",\"153\",\"106\",\"102\",\"112\",\"63\",\"90\",\"101\",\"85\",\"83\",\"92\",\"84\",\"91\",\"100\",\"103\",\"103\",\"45\",\"45\",\"98\",\"92\",\"172\",\"125\",\"81\",\"112\",\"122\",\"53\",\"53\",\"99\",\"95\",\"119\",\"163\",\"55\",\"102\",\"106\",\"128\",\"80\",\"75\",\"75\",\"79\",\"87\",\"97\",\"85\",\"111\",\"113\",\"90\",\"103\",\"105\",\"104\",\"127\",\"92\",\"72\",\"118\",\"110\",\"90\",\"134\",\"86\",\"87\",\"107\",\"79\",\"87\",\"113\",\"110\",\"98\",\"93\",\"139\",\"94\",\"133\",\"81\",\"91\",\"122\",\"102\",\"88\",\"49\",\"110\",\"150\",\"97\",\"129\",\"99\",\"112\",\"143\",\"95\",\"92\",\"97\",\"90\",\"119\",\"147\",\"83\",\"83\",\"91\",\"117\",\"78\",\"75\",\"78\",\"149\",\"103\",\"94\",\"95\",\"122\",\"107\",\"126\",\"122\",\"95\",\"74\",\"74\",\"74\",\"83\",\"79\",\"72\",\"80\",\"75\",\"75\",\"72\",\"99\",\"91\",\"166\",\"103\",\"128\",\"87\",\"125\",\"121\",\"110\",\"88\",\"89\",\"81\",\"73\",\"75\",\"99\",\"121\",\"100\",\"97\",\"100\",\"115\",\"99\",\"91\",\"90\",\"100\",\"25\",\"99\",\"104\",\"149\",\"112\",\"98\",\"120\",\"151\",\"148\",\"114\",\"123\",\"87\",\"93\",\"88\",\"126\",\"90\",\"95\",\"108\",\"65\",\"110\",\"66\",\"127\",\"131\",\"88\",\"97\",\"116\",\"117\",\"79\",\"144\",\"135\",\"88\",\"116\",\"91\",\"90\",\"129\",\"120\",\"91\",\"85\",\"88\",\"123\",\"180\",\"98\",\"90\",\"90\",\"94\",\"112\",\"97\",\"47\",\"99\",\"168\",\"99\",\"92\",\"99\",\"89\",\"88\",\"111\",\"79\",\"86\",\"74\",\"84\",\"80\",\"86\",\"90\",\"102\",\"92\",\"81\",\"116\",\"110\",\"95\",\"133\",\"120\",\"91\",\"90\",\"90\",\"103\",\"98\",\"119\",\"148\",\"94\",\"108\",\"114\",\"98\",\"151\",\"78\",\"125\",\"126\",\"104\",\"104\",\"117\",\"101\",\"99\",\"126\",\"92\",\"131\",\"119\",\"98\",\"85\",\"84\",\"145\",\"125\",\"108\",\"108\",\"82\",\"77\",\"156\",\"116\",\"126\",\"129\",\"132\",\"118\",\"87\",\"95\",\"86\",\"106\",\"115\",\"106\",\"94\",\"121\",\"113\",\"129\",\"99\",\"116\",\"88\",\"112\",\"113\",\"82\",\"98\",\"87\",\"111\",\"105\",\"146\",\"96\",\"80\",\"99\",\"87\",\"88\",\"99\",\"104\",\"104\",\"118\",\"127\",\"109\",\"130\",\"110\",\"88\",\"106\",\"91\",\"103\",\"89\",\"108\",\"124\",\"96\",\"172\",\"124\",\"85\",\"137\",\"91\",\"120\",\"118\",\"110\",\"114\",\"112\",\"137\",\"84\",\"96\",\"112\",\"90\",\"106\",\"116\",\"127\",\"96\",\"101\",\"88\",\"75\",\"112\",\"110\",\"120\",\"90\",\"82\",\"118\",\"153\",\"117\",\"93\",\"82\",\"115\",\"151\",\"103\",\"117\",\"100\",\"70\",\"103\",\"108\",\"91\",\"93\",\"113\",\"116\",\"121\",\"112\",\"76\",\"81\",\"110\",\"90\",\"97\",\"86\",\"94\",\"83\",\"43\",\"92\",\"93\",\"88\",\"53\",\"156\",\"79\",\"96\",\"140\",\"62\",\"76\",\"99\",\"97\",\"87\",\"108\",\"94\",\"123\",\"128\",\"132\",\"93\",\"96\",\"133\",\"176\",\"115\",\"90\",\"111\",\"87\",\"112\",\"200\",\"93\",\"90\",\"107\",\"89\",\"83\",\"96\",\"99\",\"95\",\"88\",\"94\",\"93\",\"93\",\"92\",\"127\",\"105\",\"94\",\"104\",\"82\",\"86\",\"103\",\"97\",\"84\",\"98\",\"42\",\"89\",\"93\",\"162\",\"85\",\"52\",\"91\",\"106\",\"92\",\"140\",\"69\",\"153\",\"124\",\"120\",\"134\",\"105\",\"119\",\"196\",\"109\",\"93\",\"102\",\"82\",\"74\",\"94\",\"108\",\"151\",\"109\",\"91\",\"93\",\"85\",\"103\",\"102\",\"107\",\"88\",\"95\",\"100\",\"110\",\"96\",\"96\",\"98\",\"133\",\"102\",\"108\",\"133\",\"79\",\"101\",\"81\",\"99\",\"106\",\"103\",\"92\",\"89\",\"150\",\"80\",\"124\",\"99\",\"91\",\"102\",\"94\",\"118\",\"70\",\"181\",\"101\",\"29\",\"92\",\"94\",\"118\",\"98\",\"90\",\"93\",\"114\",\"99\",\"96\",\"102\",\"90\",\"61\",\"104\",\"119\",\"102\",\"83\",\"88\",\"86\",\"134\",\"145\",\"95\",\"93\",\"84\",\"81\",\"98\",\"88\",\"118\",\"113\",\"86\",\"91\",\"115\",\"112\",\"103\",\"116\",\"72\",\"104\",\"97\",\"92\",\"93\",\"93\",\"99\",\"97\",\"88\",\"97\",\"88\",\"88\",\"132\",\"108\",\"111\",\"167\",\"96\",\"95\",\"107\",\"118\",\"130\",\"87\",\"109\",\"103\",\"110\",\"85\",\"163\",\"100\",\"58\",\"110\",\"58\",\"56\",\"161\",\"141\",\"115\",\"90\",\"103\",\"111\",\"103\",\"129\",\"113\",\"106\",\"105\",\"137\",\"130\",\"89\",\"110\",\"148\",\"100\",\"90\",\"103\",\"75\",\"99\",\"93\",\"90\",\"145\",\"95\",\"92\",\"90\",\"137\",\"98\",\"109\",\"117\",\"93\",\"57\",\"110\",\"95\",\"102\",\"57\",\"91\",\"100\",\"101\",\"95\",\"116\",\"117\",\"65\",\"158\",\"110\",\"79\",\"99\",\"86\",\"138\",\"91\",\"79\",\"79\",\"96\",\"101\",\"88\",\"95\",\"87\",\"83\",\"90\",\"151\",\"99\",\"86\",\"85\",\"93\",\"89\",\"89\",\"90\",\"104\",\"107\",\"124\",\"87\",\"94\",\"86\",\"102\",\"122\",\"126\",\"87\",\"156\",\"97\",\"89\",\"88\",\"96\",\"104\",\"95\",\"97\",\"118\",\"118\",\"170\",\"118\",\"128\",\"106\",\"92\",\"102\",\"126\",\"111\",\"100\",\"86\",\"95\",\"79\",\"81\",\"120\",\"85\",\"134\",\"93\",\"82\",\"88\",\"96\",\"97\",\"101\",\"88\",\"84\",\"110\",\"105\",\"116\",\"94\",\"116\",\"103\",\"83\",\"176\",\"149\",\"79\",\"97\",\"91\",\"85\",\"85\",\"117\",\"84\",\"106\",\"107\",\"98\",\"54\",\"139\",\"93\",\"91\",\"89\",\"116\",\"100\",\"96\",\"119\",\"108\",\"104\",\"124\",\"87\",\"75\",\"108\",\"103\",\"103\",\"89\",\"103\",\"89\",\"119\",\"106\",\"118\",\"95\",\"123\",\"127\",\"116\",\"119\",\"99\",\"90\",\"153\",\"106\",\"141\",\"122\",\"87\",\"102\",\"88\",\"99\",\"99\",\"134\",\"88\",\"127\",\"137\",\"77\",\"71\",\"130\",\"140\",\"101\",\"91\",\"84\",\"88\",\"163\",\"93\",\"154\",\"92\",\"132\",\"132\",\"94\",\"132\",\"105\",\"97\",\"109\",\"134\",\"53\",\"84\",\"102\",\"79\",\"133\",\"125\",\"101\",\"135\",\"133\",\"91\",\"123\",\"113\",\"107\",\"128\",\"94\",\"95\",\"106\",\"138\",\"139\",\"132\",\"173\",\"105\",\"148\",\"120\",\"85\",\"113\",\"99\",\"41\",\"137\",\"118\",\"140\",\"85\",\"116\",\"133\",\"89\",\"75\",\"67\",\"90\",\"170\",\"124\",\"120\",\"157\",\"124\",\"110\",\"90\",\"97\",\"108\",\"95\",\"111\",\"137\",\"100\",\"53\",\"87\",\"106\",\"86\",\"100\",\"103\",\"109\",\"81\",\"98\",\"114\",\"87\",\"132\",\"116\",\"92\",\"99\",\"63\",\"121\",\"56\",\"96\",\"115\",\"117\",\"65\",\"81\",\"85\",\"93\",\"126\",\"99\",\"79\",\"26\",\"107\",\"95\",\"100\",\"149\",\"52\",\"165\",\"104\",\"109\",\"88\",\"143\",\"112\",\"101\",\"110\",\"145\",\"87\",\"86\",\"115\",\"93\",\"121\",\"100\",\"37\",\"33\",\"35\",\"147\",\"110\",\"97\",\"108\",\"101\",\"100\",\"78\",\"58\",\"90\",\"89\",\"84\",\"104\",\"99\",\"105\",\"94\",\"150\",\"111\",\"92\",\"23\",\"25\",\"85\",\"90\",\"91\",\"87\",\"98\",\"108\",\"85\",\"95\",\"103\",\"118\",\"153\",\"96\",\"88\",\"116\",\"155\",\"98\",\"103\",\"163\",\"93\",\"77\",\"97\",\"115\",\"103\",\"77\",\"79\",\"98\",\"131\",\"110\",\"100\",\"117\",\"107\",\"76\",\"118\",\"93\",\"99\",\"84\",\"102\",\"134\",\"78\",\"95\",\"73\",\"110\",\"75\",\"119\",\"92\",\"137\",\"192\",\"132\",\"91\",\"105\",\"88\",\"155\",\"103\",\"97\",\"92\",\"98\",\"89\",\"112\",\"75\",\"89\",\"99\",\"107\",\"94\",\"90\",\"104\",\"55\",\"72\",\"103\",\"131\",\"138\",\"143\",\"80\",\"132\",\"84\",\"99\",\"93\",\"114\",\"132\",\"83\",\"105\",\"112\",\"94\",\"90\",\"110\",\"84\",\"118\",\"98\",\"88\",\"81\",\"112\",\"106\",\"148\",\"105\",\"92\",\"112\",\"128\",\"128\",\"136\",\"106\",\"129\",\"90\",\"130\",\"85\",\"94\",\"86\",\"107\",\"93\",\"109\",\"109\",\"92\",\"93\",\"100\",\"141\",\"119\",\"84\",\"96\",\"83\",\"117\",\"93\",\"73\",\"72\",\"46\",\"74\",\"46\",\"46\",\"74\",\"71\",\"72\",\"23\",\"60\",\"46\",\"101\",\"97\",\"111\",\"96\",\"135\",\"91\",\"121\",\"109\",\"94\",\"105\",\"97\",\"102\",\"86\",\"88\",\"90\",\"131\",\"158\",\"85\",\"110\",\"79\",\"185\",\"80\",\"116\",\"95\",\"99\",\"77\",\"91\",\"115\",\"68\",\"72\",\"73\",\"90\",\"99\",\"109\",\"108\",\"99\",\"88\",\"92\",\"85\",\"171\",\"80\",\"102\",\"76\",\"42\",\"131\",\"165\",\"91\",\"101\",\"108\",\"89\",\"91\",\"96\",\"124\",\"87\",\"113\",\"118\",\"97\",\"161\",\"116\",\"104\",\"89\",\"92\",\"90\",\"113\",\"53\",\"54\",\"53\",\"54\",\"113\",\"53\",\"53\",\"52\",\"54\",\"54\",\"53\",\"53\",\"53\",\"86\",\"102\",\"114\",\"99\",\"117\",\"124\",\"122\",\"84\",\"84\",\"120\",\"127\",\"122\",\"125\",\"107\",\"91\",\"103\",\"103\",\"97\",\"89\",\"92\",\"107\",\"86\",\"70\",\"66\",\"111\",\"166\",\"135\",\"92\",\"92\",\"93\",\"90\",\"76\",\"86\",\"111\",\"124\",\"139\",\"91\",\"86\",\"122\",\"96\",\"88\",\"93\",\"90\",\"102\",\"105\",\"117\",\"126\",\"89\",\"82\",\"98\",\"96\",\"108\",\"163\",\"112\",\"137\",\"89\",\"86\",\"187\",\"109\",\"84\",\"140\",\"117\",\"105\",\"91\",\"104\",\"114\",\"112\",\"48\",\"95\",\"89\",\"108\",\"72\",\"109\",\"105\",\"92\",\"95\",\"85\",\"126\",\"118\",\"125\",\"112\",\"96\",\"81\",\"92\",\"127\",\"81\",\"133\",\"81\",\"108\",\"120\",\"149\",\"96\",\"114\",\"77\",\"90\",\"55\",\"24\",\"106\",\"127\",\"86\",\"131\",\"93\",\"97\",\"84\",\"83\",\"165\",\"154\",\"158\",\"89\",\"149\",\"106\",\"128\",\"98\",\"99\",\"113\",\"83\",\"129\",\"117\",\"124\",\"177\",\"104\",\"113\",\"178\",\"90\",\"154\",\"122\",\"115\",\"126\",\"99\",\"144\",\"111\",\"73\",\"81\",\"114\",\"112\",\"80\",\"100\",\"96\",\"88\",\"95\",\"112\",\"112\",\"97\",\"97\",\"94\",\"97\",\"118\",\"95\",\"120\",\"84\",\"101\",\"103\",\"83\",\"107\",\"136\",\"96\",\"45\",\"92\",\"120\",\"119\",\"100\",\"92\",\"104\",\"93\",\"98\",\"122\",\"118\",\"89\",\"26\",\"137\",\"121\",\"103\",\"92\",\"89\",\"97\",\"134\",\"116\",\"110\",\"88\",\"93\",\"72\",\"141\",\"117\",\"118\",\"105\",\"94\",\"137\",\"61\",\"86\",\"118\",\"173\",\"152\",\"99\",\"110\",\"116\",\"107\",\"109\",\"122\",\"228\",\"86\",\"72\",\"102\",\"140\",\"145\",\"126\",\"133\",\"141\",\"78\",\"150\",\"153\",\"83\",\"95\",\"93\",\"126\",\"95\",\"99\",\"93\",\"93\",\"88\",\"88\",\"195\",\"120\",\"77\",\"112\",\"121\",\"117\",\"90\",\"110\",\"86\",\"95\",\"101\",\"111\",\"54\",\"54\",\"54\",\"55\",\"54\",\"55\",\"55\",\"55\",\"55\",\"55\",\"102\",\"106\",\"69\",\"85\",\"146\",\"145\",\"103\",\"111\",\"125\",\"115\",\"168\",\"109\",\"148\",\"92\",\"91\",\"135\",\"112\",\"128\",\"168\",\"45\",\"75\",\"71\",\"122\",\"97\",\"89\",\"98\",\"115\",\"96\",\"119\",\"105\",\"88\",\"94\",\"143\",\"127\",\"92\",\"87\",\"83\",\"95\",\"96\",\"107\",\"100\",\"94\",\"101\",\"89\",\"135\",\"107\",\"84\",\"110\",\"95\",\"83\",\"86\",\"137\",\"142\",\"94\",\"135\",\"135\",\"104\",\"97\",\"128\",\"109\",\"106\",\"94\",\"98\",\"96\",\"139\",\"117\",\"95\",\"129\",\"94\",\"112\",\"88\",\"100\",\"83\",\"93\",\"103\",\"88\",\"86\",\"152\",\"106\",\"52\",\"98\",\"89\",\"86\",\"106\",\"100\",\"91\",\"113\",\"132\",\"96\",\"96\",\"113\",\"95\",\"106\",\"117\",\"123\",\"78\",\"95\",\"135\",\"130\",\"115\",\"114\",\"107\",\"93\",\"94\",\"85\",\"63\",\"104\",\"127\",\"113\",\"91\",\"154\",\"82\",\"98\",\"103\",\"86\",\"123\",\"116\",\"93\",\"97\",\"108\",\"101\",\"177\",\"95\",\"97\",\"111\",\"81\",\"89\",\"72\",\"112\",\"48\",\"137\",\"89\",\"87\",\"88\",\"125\",\"108\",\"102\",\"109\",\"115\",\"98\",\"84\",\"133\",\"121\",\"117\",\"87\",\"88\",\"93\",\"107\",\"99\",\"140\",\"113\",\"89\",\"97\",\"108\",\"80\",\"90\",\"117\",\"95\",\"86\",\"100\",\"87\",\"83\",\"89\",\"18\",\"72\",\"95\",\"95\",\"98\",\"118\",\"98\",\"111\",\"116\",\"97\",\"95\",\"122\",\"95\",\"93\",\"107\",\"119\",\"119\",\"97\",\"96\",\"106\",\"109\",\"112\",\"96\",\"60\",\"113\",\"126\",\"109\",\"93\",\"101\",\"111\",\"107\",\"100\",\"92\",\"103\",\"105\",\"103\",\"101\",\"123\",\"114\",\"101\",\"99\",\"102\",\"66\",\"112\",\"101\",\"99\",\"105\",\"93\",\"121\",\"95\",\"100\",\"151\",\"78\",\"85\",\"84\",\"86\",\"121\",\"99\",\"110\",\"104\",\"95\",\"96\",\"106\",\"112\",\"85\",\"107\",\"76\",\"88\",\"116\",\"121\",\"82\",\"87\",\"46\",\"103\",\"97\",\"91\",\"91\",\"101\",\"104\",\"113\",\"89\",\"115\",\"84\",\"106\",\"124\",\"107\",\"158\",\"95\",\"97\",\"97\",\"89\",\"161\",\"205\",\"161\",\"133\",\"119\",\"94\",\"85\",\"108\",\"147\",\"88\",\"99\",\"96\",\"97\",\"92\",\"94\",\"123\",\"103\",\"111\",\"123\",\"100\",\"75\",\"118\",\"96\",\"108\",\"99\",\"103\",\"99\",\"100\",\"105\",\"106\",\"90\",\"95\",\"118\",\"98\",\"86\",\"84\",\"93\",\"88\",\"131\",\"44\",\"96\",\"88\",\"118\",\"89\",\"85\",\"107\",\"138\",\"119\",\"93\",\"121\",\"95\",\"201\",\"179\",\"87\",\"82\",\"85\",\"90\",\"68\",\"138\",\"136\",\"138\",\"129\",\"116\",\"130\",\"94\",\"104\",\"91\",\"70\",\"104\",\"115\",\"85\",\"138\",\"82\",\"99\",\"91\",\"106\",\"108\",\"94\",\"87\",\"124\",\"141\",\"103\",\"141\",\"155\",\"93\",\"78\",\"118\",\"88\",\"140\",\"124\",\"110\",\"100\",\"116\",\"91\",\"111\",\"98\",\"125\",\"76\",\"117\",\"90\",\"119\",\"136\",\"81\",\"77\",\"102\",\"90\",\"92\",\"93\",\"116\",\"107\",\"87\",\"111\",\"101\",\"91\",\"103\",\"120\",\"90\",\"92\",\"99\",\"124\",\"111\",\"86\",\"123\",\"105\",\"97\",\"97\",\"90\",\"163\",\"121\",\"120\",\"95\",\"84\",\"94\",\"122\",\"90\",\"89\",\"106\",\"139\",\"83\",\"96\",\"94\",\"58\",\"96\",\"107\",\"104\",\"94\",\"108\",\"91\",\"58\",\"99\",\"96\",\"93\",\"106\",\"103\",\"91\",\"98\",\"111\",\"112\",\"90\",\"101\",\"98\",\"92\",\"88\",\"100\",\"114\",\"128\",\"53\",\"89\",\"83\",\"85\",\"94\",\"104\",\"89\",\"107\",\"123\",\"122\",\"131\",\"77\",\"125\",\"125\",\"88\",\"93\",\"42\",\"108\",\"151\",\"125\",\"78\",\"97\",\"108\",\"119\",\"87\",\"104\",\"94\",\"94\",\"130\",\"88\",\"118\",\"94\",\"114\",\"119\",\"114\",\"94\",\"96\",\"104\",\"101\",\"99\",\"98\",\"100\",\"134\",\"173\",\"113\",\"91\",\"90\",\"128\",\"108\",\"124\",\"89\",\"162\",\"76\",\"96\",\"102\",\"53\",\"86\",\"80\",\"95\",\"90\",\"125\",\"94\",\"90\",\"40\",\"108\",\"94\",\"94\",\"105\",\"83\",\"110\",\"121\",\"95\",\"130\",\"132\",\"90\",\"117\",\"130\",\"106\",\"110\",\"91\",\"113\",\"101\",\"125\",\"116\",\"106\",\"113\",\"99\",\"130\",\"120\",\"94\",\"94\",\"109\",\"94\",\"96\",\"103\",\"109\",\"147\",\"98\",\"73\",\"92\",\"96\",\"83\",\"91\",\"93\",\"94\",\"91\",\"95\",\"124\",\"73\",\"108\",\"84\",\"93\",\"102\",\"130\",\"91\",\"110\",\"89\",\"86\",\"97\",\"89\",\"91\",\"78\",\"90\",\"50\",\"106\",\"105\",\"100\",\"86\",\"100\",\"106\",\"108\",\"74\",\"109\",\"129\",\"93\",\"133\",\"140\",\"191\",\"81\",\"124\",\"101\",\"106\",\"137\",\"171\",\"132\",\"147\",\"151\",\"97\",\"90\",\"111\",\"112\",\"107\",\"96\",\"88\",\"87\",\"85\",\"157\",\"116\",\"113\",\"94\",\"81\",\"88\",\"98\",\"131\",\"120\",\"96\",\"158\",\"88\",\"88\",\"111\"],\"x\":[\"125\",\"104\",\"127\",\"166\",\"103\",\"97\",\"106\",\"96\",\"124\",\"116\",\"98\",\"91\",\"115\",\"122\",\"99\",\"99\",\"88\",\"100\",\"102\",\"93\",\"96\",\"95\",\"85\",\"97\",\"95\",\"83\",\"182\",\"106\",\"147\",\"95\",\"90\",\"97\",\"128\",\"90\",\"143\",\"119\",\"114\",\"106\",\"118\",\"115\",\"95\",\"108\",\"117\",\"121\",\"142\",\"113\",\"154\",\"95\",\"108\",\"120\",\"100\",\"82\",\"124\",\"114\",\"104\",\"94\",\"94\",\"93\",\"97\",\"109\",\"88\",\"101\",\"105\",\"102\",\"101\",\"103\",\"106\",\"118\",\"86\",\"121\",\"229\",\"76\",\"95\",\"98\",\"89\",\"120\",\"110\",\"83\",\"121\",\"105\",\"94\",\"156\",\"112\",\"95\",\"114\",\"129\",\"97\",\"125\",\"107\",\"127\",\"128\",\"135\",\"124\",\"136\",\"165\",\"124\",\"136\",\"150\",\"112\",\"119\",\"133\",\"142\",\"93\",\"113\",\"116\",\"106\",\"145\",\"95\",\"108\",\"90\",\"92\",\"110\",\"91\",\"135\",\"82\",\"94\",\"121\",\"110\",\"64\",\"59\",\"101\",\"127\",\"114\",\"108\",\"98\",\"86\",\"111\",\"115\",\"102\",\"100\",\"135\",\"95\",\"97\",\"124\",\"118\",\"115\",\"115\",\"104\",\"106\",\"87\",\"88\",\"114\",\"90\",\"142\",\"90\",\"105\",\"103\",\"116\",\"113\",\"99\",\"148\",\"189\",\"97\",\"102\",\"99\",\"85\",\"112\",\"91\",\"91\",\"141\",\"130\",\"98\",\"105\",\"101\",\"105\",\"118\",\"97\",\"102\",\"114\",\"111\",\"125\",\"103\",\"94\",\"92\",\"143\",\"117\",\"165\",\"91\",\"111\",\"64\",\"68\",\"99\",\"105\",\"102\",\"91\",\"88\",\"101\",\"94\",\"105\",\"117\",\"115\",\"124\",\"131\",\"122\",\"113\",\"86\",\"95\",\"87\",\"96\",\"94\",\"104\",\"97\",\"91\",\"106\",\"90\",\"104\",\"92\",\"95\",\"105\",\"116\",\"124\",\"101\",\"95\",\"128\",\"143\",\"136\",\"136\",\"126\",\"116\",\"100\",\"115\",\"125\",\"94\",\"90\",\"95\",\"155\",\"98\",\"108\",\"96\",\"117\",\"103\",\"94\",\"93\",\"115\",\"120\",\"145\",\"126\",\"101\",\"118\",\"109\",\"89\",\"106\",\"101\",\"123\",\"106\",\"89\",\"128\",\"85\",\"89\",\"108\",\"105\",\"133\",\"129\",\"127\",\"113\",\"112\",\"130\",\"100\",\"103\",\"85\",\"124\",\"103\",\"121\",\"89\",\"92\",\"112\",\"114\",\"116\",\"98\",\"100\",\"97\",\"83\",\"101\",\"109\",\"87\",\"96\",\"84\",\"125\",\"119\",\"105\",\"111\",\"119\",\"13\",\"101\",\"96\",\"122\",\"89\",\"98\",\"119\",\"104\",\"101\",\"99\",\"84\",\"89\",\"113\",\"110\",\"102\",\"86\",\"91\",\"117\",\"99\",\"77\",\"97\",\"106\",\"97\",\"104\",\"110\",\"98\",\"74\",\"103\",\"94\",\"112\",\"49\",\"111\",\"72\",\"78\",\"101\",\"110\",\"94\",\"70\",\"118\",\"103\",\"95\",\"93\",\"101\",\"101\",\"89\",\"109\",\"104\",\"90\",\"109\",\"145\",\"88\",\"132\",\"109\",\"133\",\"85\",\"104\",\"99\",\"93\",\"98\",\"101\",\"94\",\"99\",\"108\",\"128\",\"104\",\"127\",\"136\",\"97\",\"88\",\"97\",\"97\",\"88\",\"97\",\"97\",\"118\",\"70\",\"91\",\"92\",\"94\",\"131\",\"148\",\"92\",\"88\",\"109\",\"92\",\"101\",\"140\",\"89\",\"81\",\"99\",\"107\",\"107\",\"90\",\"104\",\"100\",\"102\",\"105\",\"107\",\"99\",\"102\",\"119\",\"86\",\"122\",\"95\",\"104\",\"118\",\"98\",\"99\",\"107\",\"97\",\"112\",\"118\",\"109\",\"109\",\"88\",\"97\",\"97\",\"95\",\"91\",\"115\",\"93\",\"109\",\"96\",\"138\",\"113\",\"94\",\"89\",\"121\",\"127\",\"94\",\"89\",\"136\",\"89\",\"99\",\"93\",\"85\",\"102\",\"101\",\"128\",\"85\",\"95\",\"121\",\"116\",\"91\",\"149\",\"113\",\"127\",\"101\",\"102\",\"102\",\"107\",\"123\",\"98\",\"95\",\"101\",\"104\",\"104\",\"111\",\"102\",\"15\",\"120\",\"106\",\"116\",\"116\",\"86\",\"97\",\"132\",\"126\",\"101\",\"102\",\"147\",\"224\",\"141\",\"109\",\"162\",\"142\",\"93\",\"60\",\"119\",\"96\",\"116\",\"102\",\"123\",\"102\",\"127\",\"88\",\"106\",\"65\",\"96\",\"88\",\"143\",\"137\",\"75\",\"103\",\"130\",\"145\",\"118\",\"102\",\"132\",\"108\",\"133\",\"107\",\"32\",\"78\",\"140\",\"143\",\"88\",\"89\",\"93\",\"97\",\"94\",\"112\",\"100\",\"120\",\"91\",\"98\",\"113\",\"98\",\"91\",\"158\",\"164\",\"133\",\"103\",\"90\",\"116\",\"96\",\"121\",\"101\",\"173\",\"89\",\"181\",\"99\",\"88\",\"107\",\"114\",\"96\",\"149\",\"102\",\"83\",\"98\",\"83\",\"104\",\"111\",\"98\",\"93\",\"73\",\"141\",\"116\",\"98\",\"95\",\"93\",\"97\",\"114\",\"100\",\"105\",\"60\",\"98\",\"108\",\"90\",\"102\",\"120\",\"106\",\"115\",\"98\",\"60\",\"113\",\"101\",\"24\",\"80\",\"100\",\"139\",\"74\",\"131\",\"131\",\"118\",\"97\",\"92\",\"136\",\"97\",\"110\",\"105\",\"90\",\"107\",\"92\",\"94\",\"99\",\"97\",\"151\",\"108\",\"113\",\"81\",\"116\",\"119\",\"116\",\"112\",\"121\",\"115\",\"98\",\"181\",\"100\",\"22\",\"134\",\"94\",\"88\",\"119\",\"107\",\"112\",\"103\",\"90\",\"120\",\"97\",\"102\",\"106\",\"119\",\"58\",\"143\",\"112\",\"134\",\"123\",\"123\",\"118\",\"91\",\"97\",\"85\",\"139\",\"162\",\"92\",\"86\",\"107\",\"85\",\"83\",\"104\",\"116\",\"87\",\"91\",\"119\",\"102\",\"86\",\"102\",\"98\",\"99\",\"108\",\"114\",\"104\",\"88\",\"104\",\"123\",\"106\",\"138\",\"107\",\"133\",\"97\",\"116\",\"123\",\"89\",\"93\",\"139\",\"112\",\"101\",\"113\",\"89\",\"107\",\"123\",\"113\",\"90\",\"52\",\"127\",\"95\",\"121\",\"95\",\"133\",\"127\",\"95\",\"101\",\"123\",\"89\",\"100\",\"108\",\"94\",\"103\",\"105\",\"116\",\"92\",\"65\",\"115\",\"96\",\"32\",\"102\",\"102\",\"101\",\"71\",\"81\",\"112\",\"161\",\"129\",\"85\",\"148\",\"99\",\"101\",\"89\",\"128\",\"99\",\"126\",\"106\",\"101\",\"87\",\"111\",\"90\",\"91\",\"101\",\"96\",\"96\",\"148\",\"96\",\"98\",\"104\",\"53\",\"113\",\"102\",\"118\",\"83\",\"116\",\"116\",\"106\",\"105\",\"8\",\"110\",\"71\",\"91\",\"46\",\"109\",\"102\",\"101\",\"94\",\"110\",\"117\",\"85\",\"119\",\"115\",\"105\",\"68\",\"57\",\"28\",\"98\",\"95\",\"96\",\"66\",\"112\",\"84\",\"94\",\"98\",\"85\",\"120\",\"83\",\"94\",\"102\",\"111\",\"90\",\"110\",\"87\",\"132\",\"117\",\"50\",\"106\",\"125\",\"107\",\"91\",\"132\",\"133\",\"109\",\"107\",\"111\",\"108\",\"105\",\"119\",\"104\",\"83\",\"79\",\"115\",\"97\",\"26\",\"46\",\"106\",\"133\",\"93\",\"108\",\"96\",\"101\",\"106\",\"54\",\"118\",\"117\",\"48\",\"139\",\"115\",\"109\",\"91\",\"60\",\"102\",\"120\",\"149\",\"91\",\"99\",\"106\",\"108\",\"45\",\"93\",\"22\",\"81\",\"98\",\"100\",\"112\",\"114\",\"68\",\"103\",\"121\",\"95\",\"87\",\"115\",\"171\",\"46\",\"117\",\"84\",\"98\",\"83\",\"97\",\"99\",\"108\",\"93\",\"42\",\"64\",\"162\",\"130\",\"108\",\"129\",\"105\",\"133\",\"142\",\"128\",\"97\",\"107\",\"135\",\"84\",\"70\",\"124\",\"84\",\"95\",\"84\",\"120\",\"87\",\"75\",\"124\",\"95\",\"107\",\"123\",\"85\",\"150\",\"97\",\"88\",\"93\",\"151\",\"82\",\"148\",\"95\",\"90\",\"103\",\"87\",\"102\",\"96\",\"86\",\"136\",\"60\",\"127\",\"100\",\"87\",\"28\",\"27\",\"90\",\"102\",\"94\",\"81\",\"134\",\"114\",\"107\",\"107\",\"130\",\"87\",\"93\",\"114\",\"91\",\"116\",\"93\",\"106\",\"105\",\"93\",\"103\",\"50\",\"150\",\"100\",\"117\",\"87\",\"100\",\"86\",\"87\",\"103\",\"112\",\"120\",\"111\",\"78\",\"51\",\"123\",\"46\",\"102\",\"106\",\"112\",\"101\",\"96\",\"103\",\"94\",\"69\",\"81\",\"76\",\"108\",\"94\",\"106\",\"98\",\"93\",\"99\",\"93\",\"82\",\"107\",\"104\",\"130\",\"83\",\"99\",\"77\",\"94\",\"118\",\"87\",\"101\",\"80\",\"117\",\"47\",\"165\",\"134\",\"140\",\"150\",\"156\",\"86\",\"126\",\"100\",\"124\",\"100\",\"106\",\"104\",\"96\",\"90\",\"33\",\"81\",\"84\",\"44\",\"115\",\"94\",\"107\",\"115\",\"93\",\"107\",\"86\",\"112\",\"102\",\"91\",\"83\",\"73\",\"139\",\"101\",\"87\",\"120\",\"123\",\"95\",\"29\",\"28\",\"122\",\"59\",\"80\",\"103\",\"104\",\"146\",\"135\",\"129\",\"115\",\"143\",\"173\",\"129\",\"149\",\"98\",\"127\",\"124\",\"85\",\"102\",\"129\",\"124\",\"118\",\"111\",\"94\",\"130\",\"117\",\"137\",\"139\",\"111\",\"103\",\"120\",\"98\",\"130\",\"96\",\"61\",\"90\",\"139\",\"94\",\"92\",\"63\",\"88\",\"105\",\"140\",\"103\",\"102\",\"93\",\"133\",\"157\",\"116\",\"112\",\"96\",\"127\",\"130\",\"93\",\"138\",\"138\",\"92\",\"110\",\"102\",\"113\",\"96\",\"108\",\"94\",\"99\",\"98\",\"97\",\"135\",\"93\",\"94\",\"117\",\"63\",\"73\",\"91\",\"93\",\"101\",\"93\",\"96\",\"112\",\"72\",\"112\",\"72\",\"92\",\"109\",\"155\",\"109\",\"115\",\"97\",\"103\",\"24\",\"110\",\"97\",\"94\",\"107\",\"97\",\"103\",\"88\",\"111\",\"94\",\"33\",\"110\",\"98\",\"81\",\"104\",\"121\",\"100\",\"97\",\"75\",\"102\",\"158\",\"102\",\"203\",\"92\",\"104\",\"72\",\"113\",\"93\",\"119\",\"105\",\"113\",\"93\",\"44\",\"110\",\"90\",\"82\",\"69\",\"46\",\"94\",\"72\",\"95\",\"71\",\"64\",\"92\",\"80\",\"104\",\"25\",\"111\",\"99\",\"83\",\"150\",\"108\",\"44\",\"102\",\"137\",\"112\",\"102\",\"103\",\"136\",\"84\",\"114\",\"110\",\"103\",\"106\",\"46\",\"115\",\"140\",\"124\",\"133\",\"91\",\"30\",\"105\",\"58\",\"87\",\"95\",\"90\",\"102\",\"98\",\"104\",\"89\",\"62\",\"104\",\"101\",\"126\",\"89\",\"96\",\"91\",\"86\",\"89\",\"151\",\"116\",\"110\",\"123\",\"139\",\"95\",\"121\",\"127\",\"162\",\"128\",\"112\",\"125\",\"128\",\"120\",\"86\",\"107\",\"129\",\"135\",\"97\",\"125\",\"162\",\"136\",\"138\",\"126\",\"137\",\"114\",\"96\",\"107\",\"89\",\"94\",\"148\",\"82\",\"95\",\"120\",\"115\",\"107\",\"105\",\"134\",\"128\",\"103\",\"114\",\"102\",\"52\",\"86\",\"104\",\"76\",\"99\",\"124\",\"117\",\"107\",\"135\",\"126\",\"164\",\"166\",\"94\",\"92\",\"52\",\"112\",\"90\",\"101\",\"84\",\"112\",\"136\",\"110\",\"93\",\"90\",\"130\",\"128\",\"104\",\"131\",\"109\",\"129\",\"73\",\"104\",\"114\",\"86\",\"194\",\"76\",\"116\",\"130\",\"85\",\"108\",\"81\",\"76\",\"92\",\"85\",\"108\",\"120\",\"117\",\"100\",\"101\",\"156\",\"55\",\"96\",\"104\",\"101\",\"113\",\"126\",\"98\",\"114\",\"132\",\"92\",\"90\",\"86\",\"103\",\"114\",\"115\",\"149\",\"102\",\"105\",\"114\",\"94\",\"106\",\"116\",\"109\",\"100\",\"116\",\"111\",\"95\",\"135\",\"95\",\"92\",\"100\",\"80\",\"98\",\"104\",\"98\",\"104\",\"99\",\"68\",\"106\",\"71\",\"80\",\"116\",\"112\",\"73\",\"110\",\"135\",\"128\",\"93\",\"149\",\"54\",\"87\",\"102\",\"177\",\"98\",\"237\",\"195\",\"253\",\"157\",\"97\",\"85\",\"94\",\"80\",\"94\",\"92\",\"105\",\"120\",\"96\",\"107\",\"93\",\"101\",\"110\",\"112\",\"93\",\"109\",\"105\",\"97\",\"91\",\"88\",\"109\",\"118\",\"109\",\"131\",\"152\",\"67\",\"72\",\"83\",\"90\",\"106\",\"190\",\"129\",\"160\",\"86\",\"92\",\"114\",\"90\",\"94\",\"86\",\"89\",\"61\",\"93\",\"81\",\"120\",\"94\",\"91\",\"104\",\"76\",\"90\",\"103\",\"122\",\"97\",\"98\",\"42\",\"91\",\"94\",\"107\",\"143\",\"105\",\"116\",\"105\",\"97\",\"105\",\"109\",\"111\",\"132\",\"102\",\"107\",\"100\",\"115\",\"104\",\"110\",\"100\",\"108\",\"104\",\"116\",\"106\",\"96\",\"140\",\"107\",\"138\",\"132\",\"208\",\"105\",\"101\",\"124\",\"93\",\"110\",\"115\",\"107\",\"72\",\"107\",\"95\",\"180\",\"135\",\"94\",\"105\",\"93\",\"92\",\"144\",\"101\",\"81\",\"95\",\"119\",\"121\",\"88\",\"106\",\"119\",\"63\",\"82\",\"95\",\"93\",\"120\",\"147\",\"55\",\"107\",\"92\",\"98\",\"101\",\"112\",\"103\",\"91\",\"96\",\"104\",\"66\",\"83\",\"111\",\"90\",\"121\",\"121\",\"88\",\"107\",\"91\",\"174\",\"155\",\"87\",\"77\",\"142\",\"170\",\"165\",\"161\",\"144\",\"149\",\"135\",\"131\",\"126\",\"192\",\"209\",\"187\",\"138\",\"185\",\"143\",\"172\",\"103\",\"83\",\"107\",\"114\",\"93\",\"85\",\"131\",\"101\",\"107\",\"84\",\"104\",\"160\",\"103\",\"46\",\"112\",\"83\",\"72\",\"24\",\"104\",\"72\",\"113\",\"100\",\"99\",\"104\",\"70\",\"95\",\"109\",\"91\",\"75\",\"100\",\"95\",\"113\",\"62\",\"93\",\"135\",\"101\",\"98\",\"103\",\"106\",\"95\",\"132\",\"82\",\"71\",\"79\",\"120\",\"82\",\"115\",\"111\",\"110\",\"121\",\"108\",\"186\",\"116\",\"154\",\"105\",\"71\",\"61\",\"133\",\"98\",\"119\",\"61\",\"130\",\"87\",\"127\",\"87\",\"88\",\"158\",\"93\",\"109\",\"162\",\"98\",\"103\",\"97\",\"94\",\"101\",\"109\",\"50\",\"110\",\"92\",\"120\",\"101\",\"116\",\"117\",\"95\",\"122\",\"102\",\"96\",\"93\",\"93\",\"87\",\"95\",\"33\",\"113\",\"118\",\"171\",\"100\",\"103\",\"86\",\"102\",\"101\",\"96\",\"106\",\"88\",\"103\",\"139\",\"89\",\"104\",\"124\",\"112\",\"70\",\"106\",\"97\",\"106\",\"60\",\"148\",\"122\",\"86\",\"193\",\"92\",\"94\",\"82\",\"89\",\"176\",\"116\",\"86\",\"93\",\"85\",\"62\",\"112\",\"121\",\"133\",\"76\",\"82\",\"156\",\"90\",\"97\",\"51\",\"98\",\"61\",\"116\",\"132\",\"17\",\"91\",\"121\",\"78\",\"95\",\"86\",\"132\",\"107\",\"122\",\"95\",\"108\",\"99\",\"103\",\"66\",\"132\",\"56\",\"128\",\"119\",\"97\",\"92\",\"102\",\"90\",\"129\",\"106\",\"105\",\"78\",\"79\",\"78\",\"145\",\"71\",\"83\",\"119\",\"98\",\"102\",\"97\",\"110\",\"85\",\"90\",\"89\",\"120\",\"102\",\"73\",\"79\",\"97\",\"91\",\"96\",\"103\",\"95\",\"83\",\"117\",\"70\",\"90\",\"86\",\"86\",\"113\",\"141\",\"126\",\"63\",\"136\",\"120\",\"134\",\"185\",\"174\",\"169\",\"148\",\"135\",\"135\",\"119\",\"98\",\"135\",\"185\",\"156\",\"104\",\"139\",\"140\",\"154\",\"129\",\"99\",\"100\",\"95\",\"65\",\"143\",\"101\",\"60\",\"29\",\"92\",\"172\",\"97\",\"108\",\"137\",\"106\",\"115\",\"92\",\"93\",\"85\",\"56\",\"86\",\"127\",\"93\",\"94\",\"120\",\"135\",\"134\",\"137\",\"103\",\"133\",\"95\",\"126\",\"67\",\"135\",\"106\",\"107\",\"81\",\"107\",\"110\",\"104\",\"93\",\"94\",\"137\",\"134\",\"106\",\"209\",\"86\",\"24\",\"117\",\"121\",\"97\",\"121\",\"119\",\"93\",\"86\",\"134\",\"28\",\"131\",\"78\",\"84\",\"107\",\"101\",\"107\",\"74\",\"60\",\"143\",\"105\",\"110\",\"98\",\"74\",\"46\",\"54\",\"59\",\"100\",\"93\",\"94\",\"121\",\"78\",\"116\",\"87\",\"61\",\"98\",\"123\",\"85\",\"78\",\"103\",\"68\",\"68\",\"69\",\"81\",\"69\",\"68\",\"68\",\"86\",\"40\",\"94\",\"90\",\"112\",\"101\",\"119\",\"86\",\"92\",\"91\",\"141\",\"107\",\"89\",\"65\",\"126\",\"63\",\"20\",\"106\",\"118\",\"86\",\"94\",\"82\",\"92\",\"52\",\"108\",\"67\",\"91\",\"118\",\"87\",\"98\",\"95\",\"100\",\"101\",\"96\",\"99\",\"112\",\"127\",\"63\",\"97\",\"86\",\"62\",\"96\",\"104\",\"123\",\"100\",\"99\",\"151\",\"102\",\"106\",\"87\",\"70\",\"101\",\"109\",\"110\",\"102\",\"102\",\"24\",\"98\",\"90\",\"64\",\"79\",\"81\",\"81\",\"64\",\"90\",\"102\",\"116\",\"133\",\"108\",\"106\",\"58\",\"152\",\"87\",\"121\",\"83\",\"111\",\"171\",\"88\",\"76\",\"64\",\"94\",\"157\",\"83\",\"65\",\"105\",\"107\",\"103\",\"67\",\"125\",\"142\",\"133\",\"100\",\"128\",\"93\",\"82\",\"47\",\"95\",\"91\",\"102\",\"100\",\"98\",\"110\",\"85\",\"66\",\"92\",\"133\",\"135\",\"120\",\"118\",\"98\",\"104\",\"52\",\"117\",\"100\",\"86\",\"69\",\"119\",\"123\",\"93\",\"107\",\"46\",\"117\",\"67\",\"114\",\"67\",\"77\",\"63\",\"59\",\"102\",\"81\",\"116\",\"177\",\"130\",\"111\",\"100\",\"77\",\"93\",\"58\",\"56\",\"110\",\"98\",\"106\",\"102\",\"81\",\"98\",\"136\",\"161\",\"32\",\"105\",\"106\",\"90\",\"87\",\"65\",\"66\",\"122\",\"141\",\"176\",\"73\",\"87\",\"15\",\"55\",\"122\",\"63\",\"96\",\"113\",\"69\",\"87\",\"116\",\"116\",\"110\",\"59\",\"88\",\"91\",\"113\",\"90\",\"95\",\"98\",\"61\",\"117\",\"60\",\"142\",\"74\",\"119\",\"114\",\"125\",\"71\",\"110\",\"127\",\"118\",\"90\",\"130\",\"12\",\"62\",\"114\",\"128\",\"109\",\"109\",\"101\",\"103\",\"98\",\"123\",\"101\",\"99\",\"91\",\"137\",\"66\",\"90\",\"53\",\"87\",\"90\",\"96\",\"94\",\"108\",\"102\",\"70\",\"88\",\"100\",\"111\",\"128\",\"98\",\"104\",\"126\",\"125\",\"79\",\"110\",\"128\",\"110\",\"116\",\"119\",\"90\",\"88\",\"104\",\"140\",\"92\",\"64\",\"119\",\"91\",\"122\",\"125\",\"168\",\"102\",\"92\",\"111\",\"113\",\"54\",\"123\",\"102\",\"141\",\"111\",\"131\",\"116\",\"119\",\"146\",\"101\",\"87\",\"94\",\"133\",\"135\",\"91\",\"59\",\"91\",\"131\",\"88\",\"170\",\"92\",\"126\",\"120\",\"76\",\"60\",\"103\",\"124\",\"91\",\"88\",\"81\",\"124\",\"102\",\"132\",\"75\",\"126\",\"61\",\"126\",\"108\",\"100\",\"129\",\"108\",\"105\",\"115\",\"118\",\"130\",\"115\",\"69\",\"97\",\"61\",\"92\",\"108\",\"104\",\"65\",\"106\",\"69\",\"97\",\"80\",\"85\",\"98\",\"115\",\"117\",\"132\",\"127\",\"125\",\"128\",\"126\",\"116\",\"90\",\"111\",\"100\",\"99\",\"105\",\"128\",\"91\",\"127\",\"94\",\"124\",\"103\",\"118\",\"89\",\"103\",\"87\",\"93\",\"90\",\"114\",\"107\",\"97\",\"103\",\"125\",\"130\",\"119\",\"110\",\"120\",\"102\",\"125\",\"127\",\"121\",\"113\",\"118\",\"132\",\"61\",\"80\",\"110\",\"70\",\"117\",\"89\",\"84\",\"131\",\"139\",\"42\",\"79\",\"96\",\"114\",\"111\",\"112\",\"103\",\"104\",\"102\",\"97\",\"132\",\"120\",\"137\",\"82\",\"115\",\"130\",\"62\",\"91\",\"63\",\"74\",\"136\",\"59\",\"91\",\"93\",\"100\",\"22\",\"22\",\"113\",\"110\",\"120\",\"127\",\"74\",\"137\",\"86\",\"125\",\"114\",\"143\",\"121\",\"119\",\"150\",\"88\",\"105\",\"96\",\"96\",\"96\",\"90\",\"97\",\"88\",\"127\",\"125\",\"116\",\"102\",\"65\",\"106\",\"117\",\"136\",\"104\",\"91\",\"99\",\"91\",\"117\",\"95\",\"101\",\"102\",\"95\",\"92\",\"111\",\"115\",\"61\",\"97\",\"120\",\"148\",\"48\",\"28\",\"61\",\"56\",\"81\",\"50\",\"49\",\"71\",\"100\",\"30\",\"146\",\"127\",\"46\",\"57\",\"122\",\"109\",\"96\",\"105\",\"124\",\"78\",\"22\",\"95\",\"82\",\"89\",\"90\",\"85\",\"29\",\"137\",\"27\",\"112\",\"112\",\"153\",\"123\",\"90\",\"84\",\"79\",\"83\",\"145\",\"135\",\"68\",\"96\",\"110\",\"105\",\"98\",\"155\",\"122\",\"87\",\"98\",\"130\",\"105\",\"110\",\"81\",\"115\",\"113\",\"146\",\"118\",\"109\",\"117\",\"95\",\"124\",\"96\",\"96\",\"93\",\"30\",\"82\",\"127\",\"114\",\"119\",\"101\",\"96\",\"44\",\"104\",\"91\",\"91\",\"114\",\"91\",\"64\",\"89\",\"95\",\"94\",\"133\",\"122\",\"86\",\"111\",\"111\",\"121\",\"119\",\"115\",\"128\",\"99\",\"106\",\"122\",\"129\",\"116\",\"95\",\"122\",\"98\",\"117\",\"95\",\"146\",\"136\",\"91\",\"123\",\"144\",\"121\",\"91\",\"158\",\"157\",\"124\",\"106\",\"92\",\"80\",\"126\",\"129\",\"133\",\"109\",\"143\",\"140\",\"150\",\"128\",\"120\",\"154\",\"45\",\"132\",\"126\",\"95\",\"135\",\"139\",\"131\",\"118\",\"129\",\"131\",\"146\",\"123\",\"141\",\"93\",\"91\",\"106\",\"131\",\"104\",\"126\",\"118\",\"94\",\"126\",\"90\",\"115\",\"93\",\"74\",\"102\",\"104\",\"51\",\"86\",\"140\",\"122\",\"95\",\"121\",\"131\",\"63\",\"150\",\"159\",\"131\",\"130\",\"99\",\"106\",\"97\",\"144\",\"110\",\"57\",\"119\",\"94\",\"89\",\"124\",\"121\",\"88\",\"111\",\"81\",\"137\",\"56\",\"80\",\"94\",\"94\",\"72\",\"140\",\"91\",\"97\",\"146\",\"118\",\"128\",\"137\",\"145\",\"106\",\"137\",\"129\",\"99\",\"155\",\"142\",\"214\",\"137\",\"128\",\"151\",\"121\",\"101\",\"145\",\"147\",\"90\",\"129\",\"129\",\"136\",\"117\",\"150\",\"134\",\"100\",\"44\",\"44\",\"111\",\"147\",\"115\",\"121\",\"103\",\"73\",\"129\",\"102\",\"122\",\"155\",\"139\",\"131\",\"127\",\"156\",\"132\",\"130\",\"137\",\"156\",\"132\",\"119\",\"140\",\"126\",\"107\",\"111\",\"130\",\"126\",\"108\",\"101\",\"124\",\"114\",\"98\",\"100\",\"123\",\"106\",\"106\",\"102\",\"146\",\"96\",\"104\",\"109\",\"110\",\"110\",\"101\",\"94\",\"101\",\"141\",\"120\",\"140\",\"50\",\"31\",\"90\",\"110\",\"162\",\"139\",\"130\",\"145\",\"114\",\"100\",\"54\",\"150\",\"105\",\"124\",\"95\",\"12\",\"104\",\"143\",\"127\",\"100\",\"74\",\"104\",\"148\",\"127\",\"158\",\"124\",\"163\",\"121\",\"154\",\"127\",\"128\",\"98\",\"109\",\"168\",\"162\",\"159\",\"137\",\"133\",\"127\",\"131\",\"90\",\"88\",\"87\",\"82\",\"86\",\"100\",\"57\",\"95\",\"124\",\"72\",\"93\",\"92\",\"133\",\"105\",\"101\",\"88\",\"113\",\"71\",\"75\",\"66\",\"83\",\"110\",\"88\",\"77\",\"58\",\"69\",\"61\",\"88\",\"122\",\"60\",\"166\",\"107\",\"94\",\"87\",\"92\",\"130\",\"88\",\"128\",\"94\",\"69\",\"90\",\"101\",\"77\",\"89\",\"98\",\"66\",\"103\",\"95\",\"89\",\"119\",\"70\",\"121\",\"106\",\"106\",\"113\",\"119\",\"100\",\"110\",\"66\",\"126\",\"130\",\"110\",\"85\",\"117\",\"63\",\"94\",\"74\",\"58\",\"117\",\"89\",\"158\",\"100\",\"64\",\"92\",\"63\",\"105\",\"67\",\"91\",\"92\",\"87\",\"100\",\"113\",\"105\",\"94\",\"109\",\"99\",\"89\",\"92\",\"105\",\"130\",\"98\",\"90\",\"65\",\"92\",\"25\",\"101\",\"90\",\"96\",\"115\",\"92\",\"93\",\"95\",\"117\",\"66\",\"97\",\"78\",\"102\",\"62\",\"97\",\"105\",\"90\",\"107\",\"105\",\"99\",\"108\",\"66\",\"75\",\"96\",\"95\",\"32\",\"70\",\"94\",\"78\",\"91\",\"75\",\"105\",\"96\",\"132\",\"60\",\"171\",\"116\",\"169\",\"134\",\"159\",\"87\",\"103\",\"78\",\"62\",\"97\",\"102\",\"95\",\"115\",\"102\",\"99\",\"74\",\"100\",\"150\",\"87\",\"129\",\"91\",\"115\",\"140\",\"79\",\"104\",\"121\",\"94\",\"58\",\"51\",\"69\",\"104\",\"94\",\"166\",\"155\",\"145\",\"106\",\"94\",\"127\",\"87\",\"185\",\"75\",\"89\",\"81\",\"47\",\"46\",\"125\",\"160\",\"110\",\"67\",\"105\",\"127\",\"109\",\"134\",\"60\",\"96\",\"65\",\"133\",\"96\",\"95\",\"97\",\"102\",\"116\",\"102\",\"117\",\"96\",\"69\",\"108\",\"102\",\"61\",\"49\",\"87\",\"59\",\"63\",\"62\",\"108\",\"95\",\"99\",\"62\",\"147\",\"153\",\"87\",\"124\",\"94\",\"71\",\"135\",\"97\",\"86\",\"82\",\"102\",\"105\",\"106\",\"91\",\"61\",\"80\",\"118\",\"94\",\"84\",\"103\",\"69\",\"105\",\"128\",\"86\",\"109\",\"70\",\"89\",\"162\",\"163\",\"27\",\"67\",\"142\",\"78\",\"26\",\"81\",\"119\",\"99\",\"96\",\"128\",\"101\",\"109\",\"51\",\"61\",\"73\",\"92\",\"94\",\"135\",\"66\",\"126\",\"54\",\"100\",\"81\",\"123\",\"153\",\"141\",\"104\",\"97\",\"82\",\"98\",\"84\",\"76\",\"75\",\"93\",\"98\",\"91\",\"168\",\"68\",\"103\",\"82\",\"94\",\"66\",\"135\",\"144\",\"90\",\"158\",\"83\",\"102\",\"52\",\"85\",\"113\",\"88\",\"89\",\"59\",\"66\",\"135\",\"93\",\"47\",\"118\",\"81\",\"103\",\"103\",\"104\",\"82\",\"112\",\"102\",\"101\",\"119\",\"62\",\"64\",\"137\",\"78\",\"71\",\"99\",\"60\",\"98\",\"70\",\"148\",\"92\",\"107\",\"90\",\"151\",\"132\",\"95\",\"162\",\"163\",\"89\",\"103\",\"160\",\"113\",\"86\",\"83\",\"113\",\"86\",\"57\",\"98\",\"116\",\"100\",\"51\",\"113\",\"124\",\"63\",\"56\",\"94\",\"90\",\"71\",\"97\",\"83\",\"92\",\"165\",\"159\",\"22\",\"105\",\"54\",\"121\",\"103\",\"129\",\"95\",\"80\",\"84\",\"97\",\"86\",\"114\",\"84\",\"67\",\"63\",\"116\",\"104\",\"14\",\"108\",\"59\",\"74\",\"84\",\"97\",\"95\",\"116\",\"86\",\"153\",\"104\",\"163\",\"106\",\"148\",\"105\",\"121\",\"66\",\"102\",\"89\",\"161\",\"24\",\"66\",\"104\",\"73\",\"47\",\"102\",\"87\",\"117\",\"119\",\"130\",\"102\",\"154\",\"44\",\"96\",\"47\",\"44\",\"109\",\"89\",\"92\",\"122\",\"154\",\"152\",\"161\",\"123\",\"44\",\"71\",\"153\",\"143\",\"123\",\"80\",\"106\",\"101\",\"59\",\"164\",\"151\",\"84\",\"142\",\"110\",\"86\",\"101\",\"88\",\"86\",\"61\",\"81\",\"72\",\"98\",\"64\",\"111\",\"148\",\"163\",\"95\",\"99\",\"93\",\"89\",\"83\",\"104\",\"53\",\"95\",\"149\",\"106\",\"108\",\"66\",\"113\",\"83\",\"50\",\"97\",\"105\",\"107\",\"99\",\"101\",\"81\",\"92\",\"131\",\"101\",\"96\",\"85\",\"110\",\"89\",null,\"88\",\"88\",\"143\",\"83\",\"107\",\"134\",\"78\",\"81\",\"106\",\"102\",\"63\",\"91\",\"93\",\"93\",\"97\",\"92\",\"137\",\"143\",\"168\",\"117\",\"87\",\"160\",\"62\",\"109\",\"102\",\"118\",\"57\",\"94\",\"71\",\"123\",\"97\",\"99\",\"97\",\"67\",\"105\",\"78\",\"99\",\"119\",\"109\",\"92\",\"88\",\"71\",\"64\",\"97\",\"54\",\"78\",\"86\",\"154\",\"179\",\"93\",\"97\",\"108\",\"92\",\"78\",\"87\",\"99\",\"91\",\"102\",\"67\",\"57\",\"130\",\"80\",\"66\",\"105\",\"98\",\"91\",\"123\",\"104\",\"109\",\"74\",\"84\",\"98\",\"22\",\"100\",\"75\",\"69\",\"97\",\"92\",\"92\",\"146\",\"97\",\"93\",\"62\",\"22\",\"88\",\"105\",\"88\",\"93\",\"98\",\"88\",\"31\",\"83\",\"38\",\"108\",\"97\",\"81\",\"70\",\"62\",\"99\",\"112\",\"90\",\"89\",\"24\",\"100\",\"116\",\"92\",\"79\",\"72\",\"92\",\"61\",\"88\",\"113\",\"67\",\"65\",\"62\",\"107\",\"69\",\"77\",\"98\",\"71\",\"64\",\"59\",\"91\",\"107\",\"92\",\"89\",\"107\",\"94\",\"110\",\"81\",\"77\",\"64\",\"97\",\"77\",\"94\",\"94\",\"91\",\"80\",\"95\",\"90\",\"73\",\"108\",\"25\",\"86\",\"105\",\"100\",\"96\",\"97\",\"73\",\"132\",\"96\",\"92\",\"99\",\"78\",\"89\",\"60\",null,\"83\",\"75\",\"92\",\"80\",null,\"72\",\"71\",\"77\",\"70\",\"73\",\"81\",\"45\",\"46\",\"112\",\"101\",\"117\",\"114\",\"96\",\"87\",\"105\",\"80\",\"97\",\"105\",\"60\",\"109\",\"60\",\"101\",\"127\",\"82\",\"23\",\"97\",\"62\",\"84\",\"90\",\"101\",\"74\",\"68\",\"92\",\"107\",\"108\",\"74\",\"29\",\"60\",\"120\",\"74\",\"57\",\"91\",\"62\",\"85\",\"90\",\"105\",\"59\",\"137\",\"86\",\"64\",\"82\",\"90\",\"80\",\"62\",\"92\",\"78\",\"92\",\"69\",\"92\",\"143\",\"78\",\"84\",\"84\",\"58\",\"82\",\"83\",\"81\",\"75\",\"68\",\"71\",\"94\",\"80\",\"93\",\"105\",\"130\",\"100\",\"80\",\"76\",\"95\",\"96\",\"94\",\"94\",\"93\",\"96\",\"94\",\"94\",\"93\",\"95\",\"93\",\"75\",\"103\",\"29\",\"104\",\"81\",\"80\",\"123\",\"119\",\"118\",\"143\",\"149\",\"144\",\"124\",\"128\",\"117\",\"100\",\"105\",\"106\",\"99\",\"93\",\"89\",\"105\",\"109\",\"90\",\"90\",\"93\",\"113\",\"89\",\"102\",\"102\",\"90\",\"94\",\"91\",\"95\",\"119\",\"93\",\"101\",\"93\",\"82\",\"70\",\"104\",\"92\",\"124\",\"91\",\"83\",\"93\",\"81\",\"86\",\"97\",\"99\",\"100\",\"126\",\"94\",\"103\",\"96\",\"137\",\"104\",\"104\",\"94\",\"176\",\"137\",\"101\",\"111\",\"110\",\"142\",\"86\",\"86\",\"80\",\"92\",\"96\",\"125\",\"82\",\"111\",\"92\",\"94\",\"91\",\"44\",\"108\",\"123\",\"106\",\"89\",\"98\",\"108\",\"92\",\"102\",\"103\",\"110\",\"77\",\"99\",\"122\",\"150\",\"126\",\"164\",\"115\",\"133\",\"127\",\"131\",\"44\",\"101\",\"90\",\"89\",\"88\",\"133\",\"110\",\"112\",\"87\",\"91\",\"111\",\"99\",\"86\",\"107\",\"89\",\"92\",\"122\",\"91\",\"127\",\"153\",\"106\",\"102\",\"112\",\"63\",\"90\",\"101\",\"85\",\"83\",\"92\",\"84\",\"91\",\"100\",\"103\",\"103\",\"45\",\"45\",\"98\",\"92\",\"172\",\"125\",\"81\",\"112\",\"122\",\"53\",\"53\",\"99\",\"95\",\"119\",\"163\",\"55\",\"102\",\"106\",\"128\",\"80\",\"75\",\"75\",\"79\",\"87\",\"97\",\"85\",\"111\",\"113\",\"90\",\"103\",\"105\",\"104\",\"127\",\"92\",\"72\",\"118\",\"110\",\"90\",\"134\",\"86\",\"87\",\"107\",\"79\",\"87\",\"113\",\"110\",\"98\",\"93\",\"139\",\"94\",\"133\",\"81\",\"91\",\"122\",\"102\",\"88\",\"49\",\"110\",\"150\",\"97\",\"129\",\"99\",\"112\",\"143\",\"95\",\"92\",\"97\",\"90\",\"119\",\"147\",\"83\",\"83\",\"91\",\"117\",\"78\",\"75\",\"78\",\"149\",\"103\",\"94\",\"95\",\"122\",\"107\",\"126\",\"122\",\"95\",\"74\",\"74\",\"74\",\"83\",\"79\",\"72\",\"80\",\"75\",\"75\",\"72\",\"99\",\"91\",\"166\",\"103\",\"128\",\"87\",\"125\",\"121\",\"110\",\"88\",\"89\",\"81\",\"73\",\"75\",\"99\",\"121\",\"100\",\"97\",\"100\",\"115\",\"99\",\"91\",\"90\",\"100\",\"25\",\"99\",\"104\",\"149\",\"112\",\"98\",\"120\",\"151\",\"148\",\"114\",\"123\",\"87\",\"93\",\"88\",\"126\",\"90\",\"95\",\"108\",\"65\",\"110\",\"66\",\"127\",\"131\",\"88\",\"97\",\"116\",\"117\",\"79\",\"144\",\"135\",\"88\",\"116\",\"91\",\"90\",\"129\",\"120\",\"91\",\"85\",\"88\",\"123\",\"180\",\"98\",\"90\",\"90\",\"94\",\"112\",\"97\",\"47\",\"99\",\"168\",\"99\",\"92\",\"99\",\"89\",\"88\",\"111\",\"79\",\"86\",\"74\",\"84\",\"80\",\"86\",\"90\",\"102\",\"92\",\"81\",\"116\",\"110\",\"95\",\"133\",\"120\",\"91\",\"90\",\"90\",\"103\",\"98\",\"119\",\"148\",\"94\",\"108\",\"114\",\"98\",\"151\",\"78\",\"125\",\"126\",\"104\",\"104\",\"117\",\"101\",\"99\",\"126\",\"92\",\"131\",\"119\",\"98\",\"85\",\"84\",\"145\",\"125\",\"108\",\"108\",\"82\",\"77\",\"156\",\"116\",\"126\",\"129\",\"132\",\"118\",\"87\",\"95\",\"86\",\"106\",\"115\",\"106\",\"94\",\"121\",\"113\",\"129\",\"99\",\"116\",\"88\",\"112\",\"113\",\"82\",\"98\",\"87\",\"111\",\"105\",\"146\",\"96\",\"80\",\"99\",\"87\",\"88\",\"99\",\"104\",\"104\",\"118\",\"127\",\"109\",\"130\",\"110\",\"88\",\"106\",\"91\",\"103\",\"89\",\"108\",\"124\",\"96\",\"172\",\"124\",\"85\",\"137\",\"91\",\"120\",\"118\",\"110\",\"114\",\"112\",\"137\",\"84\",\"96\",\"112\",\"90\",\"106\",\"116\",\"127\",\"96\",\"101\",\"88\",\"75\",\"112\",\"110\",\"120\",\"90\",\"82\",\"118\",\"153\",\"117\",\"93\",\"82\",\"115\",\"151\",\"103\",\"117\",\"100\",\"70\",\"103\",\"108\",\"91\",\"93\",\"113\",\"116\",\"121\",\"112\",\"76\",\"81\",\"110\",\"90\",\"97\",\"86\",\"94\",\"83\",\"43\",\"92\",\"93\",\"88\",\"53\",\"156\",\"79\",\"96\",\"140\",\"62\",\"76\",\"99\",\"97\",\"87\",\"108\",\"94\",\"123\",\"128\",\"132\",\"93\",\"96\",\"133\",\"176\",\"115\",\"90\",\"111\",\"87\",\"112\",\"200\",\"93\",\"90\",\"107\",\"89\",\"83\",\"96\",\"99\",\"95\",\"88\",\"94\",\"93\",\"93\",\"92\",\"127\",\"105\",\"94\",\"104\",\"82\",\"86\",\"103\",\"97\",\"84\",\"98\",\"42\",\"89\",\"93\",\"162\",\"85\",\"52\",\"91\",\"106\",\"92\",\"140\",\"69\",\"153\",\"124\",\"120\",\"134\",\"105\",\"119\",\"196\",\"109\",\"93\",\"102\",\"82\",\"74\",\"94\",\"108\",\"151\",\"109\",\"91\",\"93\",\"85\",\"103\",\"102\",\"107\",\"88\",\"95\",\"100\",\"110\",\"96\",\"96\",\"98\",\"133\",\"102\",\"108\",\"133\",\"79\",\"101\",\"81\",\"99\",\"106\",\"103\",\"92\",\"89\",\"150\",\"80\",\"124\",\"99\",\"91\",\"102\",\"94\",\"118\",\"70\",\"181\",\"101\",\"29\",\"92\",\"94\",\"118\",\"98\",\"90\",\"93\",\"114\",\"99\",\"96\",\"102\",\"90\",\"61\",\"104\",\"119\",\"102\",\"83\",\"88\",\"86\",\"134\",\"145\",\"95\",\"93\",\"84\",\"81\",\"98\",\"88\",\"118\",\"113\",\"86\",\"91\",\"115\",\"112\",\"103\",\"116\",\"72\",\"104\",\"97\",\"92\",\"93\",\"93\",\"99\",\"97\",\"88\",\"97\",\"88\",\"88\",\"132\",\"108\",\"111\",\"167\",\"96\",\"95\",\"107\",\"118\",\"130\",\"87\",\"109\",\"103\",\"110\",\"85\",\"163\",\"100\",\"58\",\"110\",\"58\",\"56\",\"161\",\"141\",\"115\",\"90\",\"103\",\"111\",\"103\",\"129\",\"113\",\"106\",\"105\",\"137\",\"130\",\"89\",\"110\",\"148\",\"100\",\"90\",\"103\",\"75\",\"99\",\"93\",\"90\",\"145\",\"95\",\"92\",\"90\",\"137\",\"98\",\"109\",\"117\",\"93\",\"57\",\"110\",\"95\",\"102\",\"57\",\"91\",\"100\",\"101\",\"95\",\"116\",\"117\",\"65\",\"158\",\"110\",\"79\",\"99\",\"86\",\"138\",\"91\",\"79\",\"79\",\"96\",\"101\",\"88\",\"95\",\"87\",\"83\",\"90\",\"151\",\"99\",\"86\",\"85\",\"93\",\"89\",\"89\",\"90\",\"104\",\"107\",\"124\",\"87\",\"94\",\"86\",\"102\",\"122\",\"126\",\"87\",\"156\",\"97\",\"89\",\"88\",\"96\",\"104\",\"95\",\"97\",\"118\",\"118\",\"170\",\"118\",\"128\",\"106\",\"92\",\"102\",\"126\",\"111\",\"100\",\"86\",\"95\",\"79\",\"81\",\"120\",\"85\",\"134\",\"93\",\"82\",\"88\",\"96\",\"97\",\"101\",\"88\",\"84\",\"110\",\"105\",\"116\",\"94\",\"116\",\"103\",\"83\",\"176\",\"149\",\"79\",\"97\",\"91\",\"85\",\"85\",\"117\",\"84\",\"106\",\"107\",\"98\",\"54\",\"139\",\"93\",\"91\",\"89\",\"116\",\"100\",\"96\",\"119\",\"108\",\"104\",\"124\",\"87\",\"75\",\"108\",\"103\",\"103\",\"89\",\"103\",\"89\",\"119\",\"106\",\"118\",\"95\",\"123\",\"127\",\"116\",\"119\",\"99\",\"90\",\"153\",\"106\",\"141\",\"122\",\"87\",\"102\",\"88\",\"99\",\"99\",\"134\",\"88\",\"127\",\"137\",\"77\",\"71\",\"130\",\"140\",\"101\",\"91\",\"84\",\"88\",\"163\",\"93\",\"154\",\"92\",\"132\",\"132\",\"94\",\"132\",\"105\",\"97\",\"109\",\"134\",\"53\",\"84\",\"102\",\"79\",\"133\",\"125\",\"101\",\"135\",\"133\",\"91\",\"123\",\"113\",\"107\",\"128\",\"94\",\"95\",\"106\",\"138\",\"139\",\"132\",\"173\",\"105\",\"148\",\"120\",\"85\",\"113\",\"99\",\"41\",\"137\",\"118\",\"140\",\"85\",\"116\",\"133\",\"89\",\"75\",\"67\",\"90\",\"170\",\"124\",\"120\",\"157\",\"124\",\"110\",\"90\",\"97\",\"108\",\"95\",\"111\",\"137\",\"100\",\"53\",\"87\",\"106\",\"86\",\"100\",\"103\",\"109\",\"81\",\"98\",\"114\",\"87\",\"132\",\"116\",\"92\",\"99\",\"63\",\"121\",\"56\",\"96\",\"115\",\"117\",\"65\",\"81\",\"85\",\"93\",\"126\",\"99\",\"79\",\"26\",\"107\",\"95\",\"100\",\"149\",\"52\",\"165\",\"104\",\"109\",\"88\",\"143\",\"112\",\"101\",\"110\",\"145\",\"87\",\"86\",\"115\",\"93\",\"121\",\"100\",\"37\",\"33\",\"35\",\"147\",\"110\",\"97\",\"108\",\"101\",\"100\",\"78\",\"58\",\"90\",\"89\",\"84\",\"104\",\"99\",\"105\",\"94\",\"150\",\"111\",\"92\",\"23\",\"25\",\"85\",\"90\",\"91\",\"87\",\"98\",\"108\",\"85\",\"95\",\"103\",\"118\",\"153\",\"96\",\"88\",\"116\",\"155\",\"98\",\"103\",\"163\",\"93\",\"77\",\"97\",\"115\",\"103\",\"77\",\"79\",\"98\",\"131\",\"110\",\"100\",\"117\",\"107\",\"76\",\"118\",\"93\",\"99\",\"84\",\"102\",\"134\",\"78\",\"95\",\"73\",\"110\",\"75\",\"119\",\"92\",\"137\",\"192\",\"132\",\"91\",\"105\",\"88\",\"155\",\"103\",\"97\",\"92\",\"98\",\"89\",\"112\",\"75\",\"89\",\"99\",\"107\",\"94\",\"90\",\"104\",\"55\",\"72\",\"103\",\"131\",\"138\",\"143\",\"80\",\"132\",\"84\",\"99\",\"93\",\"114\",\"132\",\"83\",\"105\",\"112\",\"94\",\"90\",\"110\",\"84\",\"118\",\"98\",\"88\",\"81\",\"112\",\"106\",\"148\",\"105\",\"92\",\"112\",\"128\",\"128\",\"136\",\"106\",\"129\",\"90\",\"130\",\"85\",\"94\",\"86\",\"107\",\"93\",\"109\",\"109\",\"92\",\"93\",\"100\",\"141\",\"119\",\"84\",\"96\",\"83\",\"117\",\"93\",\"73\",\"72\",\"46\",\"74\",\"46\",\"46\",\"74\",\"71\",\"72\",\"23\",\"60\",\"46\",\"101\",\"97\",\"111\",\"96\",\"135\",\"91\",\"121\",\"109\",\"94\",\"105\",\"97\",\"102\",\"86\",\"88\",\"90\",\"131\",\"158\",\"85\",\"110\",\"79\",\"185\",\"80\",\"116\",\"95\",\"99\",\"77\",\"91\",\"115\",\"68\",\"72\",\"73\",\"90\",\"99\",\"109\",\"108\",\"99\",\"88\",\"92\",\"85\",\"171\",\"80\",\"102\",\"76\",\"42\",\"131\",\"165\",\"91\",\"101\",\"108\",\"89\",\"91\",\"96\",\"124\",\"87\",\"113\",\"118\",\"97\",\"161\",\"116\",\"104\",\"89\",\"92\",\"90\",\"113\",\"53\",\"54\",\"53\",\"54\",\"113\",\"53\",\"53\",\"52\",\"54\",\"54\",\"53\",\"53\",\"53\",\"86\",\"102\",\"114\",\"99\",\"117\",\"124\",\"122\",\"84\",\"84\",\"120\",\"127\",\"122\",\"125\",\"107\",\"91\",\"103\",\"103\",\"97\",\"89\",\"92\",\"107\",\"86\",\"70\",\"66\",\"111\",\"166\",\"135\",\"92\",\"92\",\"93\",\"90\",\"76\",\"86\",\"111\",\"124\",\"139\",\"91\",\"86\",\"122\",\"96\",\"88\",\"93\",\"90\",\"102\",\"105\",\"117\",\"126\",\"89\",\"82\",\"98\",\"96\",\"108\",\"163\",\"112\",\"137\",\"89\",\"86\",\"187\",\"109\",\"84\",\"140\",\"117\",\"105\",\"91\",\"104\",\"114\",\"112\",\"48\",\"95\",\"89\",\"108\",\"72\",\"109\",\"105\",\"92\",\"95\",\"85\",\"126\",\"118\",\"125\",\"112\",\"96\",\"81\",\"92\",\"127\",\"81\",\"133\",\"81\",\"108\",\"120\",\"149\",\"96\",\"114\",\"77\",\"90\",\"55\",\"24\",\"106\",\"127\",\"86\",\"131\",\"93\",\"97\",\"84\",\"83\",\"165\",\"154\",\"158\",\"89\",\"149\",\"106\",\"128\",\"98\",\"99\",\"113\",\"83\",\"129\",\"117\",\"124\",\"177\",\"104\",\"113\",\"178\",\"90\",\"154\",\"122\",\"115\",\"126\",\"99\",\"144\",\"111\",\"73\",\"81\",\"114\",\"112\",\"80\",\"100\",\"96\",\"88\",\"95\",\"112\",\"112\",\"97\",\"97\",\"94\",\"97\",\"118\",\"95\",\"120\",\"84\",\"101\",\"103\",\"83\",\"107\",\"136\",\"96\",\"45\",\"92\",\"120\",\"119\",\"100\",\"92\",\"104\",\"93\",\"98\",\"122\",\"118\",\"89\",\"26\",\"137\",\"121\",\"103\",\"92\",\"89\",\"97\",\"134\",\"116\",\"110\",\"88\",\"93\",\"72\",\"141\",\"117\",\"118\",\"105\",\"94\",\"137\",\"61\",\"86\",\"118\",\"173\",\"152\",\"99\",\"110\",\"116\",\"107\",\"109\",\"122\",\"228\",\"86\",\"72\",\"102\",\"140\",\"145\",\"126\",\"133\",\"141\",\"78\",\"150\",\"153\",\"83\",\"95\",\"93\",\"126\",\"95\",\"99\",\"93\",\"93\",\"88\",\"88\",\"195\",\"120\",\"77\",\"112\",\"121\",\"117\",\"90\",\"110\",\"86\",\"95\",\"101\",\"111\",\"54\",\"54\",\"54\",\"55\",\"54\",\"55\",\"55\",\"55\",\"55\",\"55\",\"102\",\"106\",\"69\",\"85\",\"146\",\"145\",\"103\",\"111\",\"125\",\"115\",\"168\",\"109\",\"148\",\"92\",\"91\",\"135\",\"112\",\"128\",\"168\",\"45\",\"75\",\"71\",\"122\",\"97\",\"89\",\"98\",\"115\",\"96\",\"119\",\"105\",\"88\",\"94\",\"143\",\"127\",\"92\",\"87\",\"83\",\"95\",\"96\",\"107\",\"100\",\"94\",\"101\",\"89\",\"135\",\"107\",\"84\",\"110\",\"95\",\"83\",\"86\",\"137\",\"142\",\"94\",\"135\",\"135\",\"104\",\"97\",\"128\",\"109\",\"106\",\"94\",\"98\",\"96\",\"139\",\"117\",\"95\",\"129\",\"94\",\"112\",\"88\",\"100\",\"83\",\"93\",\"103\",\"88\",\"86\",\"152\",\"106\",\"52\",\"98\",\"89\",\"86\",\"106\",\"100\",\"91\",\"113\",\"132\",\"96\",\"96\",\"113\",\"95\",\"106\",\"117\",\"123\",\"78\",\"95\",\"135\",\"130\",\"115\",\"114\",\"107\",\"93\",\"94\",\"85\",\"63\",\"104\",\"127\",\"113\",\"91\",\"154\",\"82\",\"98\",\"103\",\"86\",\"123\",\"116\",\"93\",\"97\",\"108\",\"101\",\"177\",\"95\",\"97\",\"111\",\"81\",\"89\",\"72\",\"112\",\"48\",\"137\",\"89\",\"87\",\"88\",\"125\",\"108\",\"102\",\"109\",\"115\",\"98\",\"84\",\"133\",\"121\",\"117\",\"87\",\"88\",\"93\",\"107\",\"99\",\"140\",\"113\",\"89\",\"97\",\"108\",\"80\",\"90\",\"117\",\"95\",\"86\",\"100\",\"87\",\"83\",\"89\",\"18\",\"72\",\"95\",\"95\",\"98\",\"118\",\"98\",\"111\",\"116\",\"97\",\"95\",\"122\",\"95\",\"93\",\"107\",\"119\",\"119\",\"97\",\"96\",\"106\",\"109\",\"112\",\"96\",\"60\",\"113\",\"126\",\"109\",\"93\",\"101\",\"111\",\"107\",\"100\",\"92\",\"103\",\"105\",\"103\",\"101\",\"123\",\"114\",\"101\",\"99\",\"102\",\"66\",\"112\",\"101\",\"99\",\"105\",\"93\",\"121\",\"95\",\"100\",\"151\",\"78\",\"85\",\"84\",\"86\",\"121\",\"99\",\"110\",\"104\",\"95\",\"96\",\"106\",\"112\",\"85\",\"107\",\"76\",\"88\",\"116\",\"121\",\"82\",\"87\",\"46\",\"103\",\"97\",\"91\",\"91\",\"101\",\"104\",\"113\",\"89\",\"115\",\"84\",\"106\",\"124\",\"107\",\"158\",\"95\",\"97\",\"97\",\"89\",\"161\",\"205\",\"161\",\"133\",\"119\",\"94\",\"85\",\"108\",\"147\",\"88\",\"99\",\"96\",\"97\",\"92\",\"94\",\"123\",\"103\",\"111\",\"123\",\"100\",\"75\",\"118\",\"96\",\"108\",\"99\",\"103\",\"99\",\"100\",\"105\",\"106\",\"90\",\"95\",\"118\",\"98\",\"86\",\"84\",\"93\",\"88\",\"131\",\"44\",\"96\",\"88\",\"118\",\"89\",\"85\",\"107\",\"138\",\"119\",\"93\",\"121\",\"95\",\"201\",\"179\",\"87\",\"82\",\"85\",\"90\",\"68\",\"138\",\"136\",\"138\",\"129\",\"116\",\"130\",\"94\",\"104\",\"91\",\"70\",\"104\",\"115\",\"85\",\"138\",\"82\",\"99\",\"91\",\"106\",\"108\",\"94\",\"87\",\"124\",\"141\",\"103\",\"141\",\"155\",\"93\",\"78\",\"118\",\"88\",\"140\",\"124\",\"110\",\"100\",\"116\",\"91\",\"111\",\"98\",\"125\",\"76\",\"117\",\"90\",\"119\",\"136\",\"81\",\"77\",\"102\",\"90\",\"92\",\"93\",\"116\",\"107\",\"87\",\"111\",\"101\",\"91\",\"103\",\"120\",\"90\",\"92\",\"99\",\"124\",\"111\",\"86\",\"123\",\"105\",\"97\",\"97\",\"90\",\"163\",\"121\",\"120\",\"95\",\"84\",\"94\",\"122\",\"90\",\"89\",\"106\",\"139\",\"83\",\"96\",\"94\",\"58\",\"96\",\"107\",\"104\",\"94\",\"108\",\"91\",\"58\",\"99\",\"96\",\"93\",\"106\",\"103\",\"91\",\"98\",\"111\",\"112\",\"90\",\"101\",\"98\",\"92\",\"88\",\"100\",\"114\",\"128\",\"53\",\"89\",\"83\",\"85\",\"94\",\"104\",\"89\",\"107\",\"123\",\"122\",\"131\",\"77\",\"125\",\"125\",\"88\",\"93\",\"42\",\"108\",\"151\",\"125\",\"78\",\"97\",\"108\",\"119\",\"87\",\"104\",\"94\",\"94\",\"130\",\"88\",\"118\",\"94\",\"114\",\"119\",\"114\",\"94\",\"96\",\"104\",\"101\",\"99\",\"98\",\"100\",\"134\",\"173\",\"113\",\"91\",\"90\",\"128\",\"108\",\"124\",\"89\",\"162\",\"76\",\"96\",\"102\",\"53\",\"86\",\"80\",\"95\",\"90\",\"125\",\"94\",\"90\",\"40\",\"108\",\"94\",\"94\",\"105\",\"83\",\"110\",\"121\",\"95\",\"130\",\"132\",\"90\",\"117\",\"130\",\"106\",\"110\",\"91\",\"113\",\"101\",\"125\",\"116\",\"106\",\"113\",\"99\",\"130\",\"120\",\"94\",\"94\",\"109\",\"94\",\"96\",\"103\",\"109\",\"147\",\"98\",\"73\",\"92\",\"96\",\"83\",\"91\",\"93\",\"94\",\"91\",\"95\",\"124\",\"73\",\"108\",\"84\",\"93\",\"102\",\"130\",\"91\",\"110\",\"89\",\"86\",\"97\",\"89\",\"91\",\"78\",\"90\",\"50\",\"106\",\"105\",\"100\",\"86\",\"100\",\"106\",\"108\",\"74\",\"109\",\"129\",\"93\",\"133\",\"140\",\"191\",\"81\",\"124\",\"101\",\"106\",\"137\",\"171\",\"132\",\"147\",\"151\",\"97\",\"90\",\"111\",\"112\",\"107\",\"96\",\"88\",\"87\",\"85\",\"157\",\"116\",\"113\",\"94\",\"81\",\"88\",\"98\",\"131\",\"120\",\"96\",\"158\",\"88\",\"88\",\"111\"],\"type\":\"box\"}],                        {\"template\":{\"data\":{\"barpolar\":[{\"marker\":{\"line\":{\"color\":\"#E5ECF6\",\"width\":0.5},\"pattern\":{\"fillmode\":\"overlay\",\"size\":10,\"solidity\":0.2}},\"type\":\"barpolar\"}],\"bar\":[{\"error_x\":{\"color\":\"#2a3f5f\"},\"error_y\":{\"color\":\"#2a3f5f\"},\"marker\":{\"line\":{\"color\":\"#E5ECF6\",\"width\":0.5},\"pattern\":{\"fillmode\":\"overlay\",\"size\":10,\"solidity\":0.2}},\"type\":\"bar\"}],\"carpet\":[{\"aaxis\":{\"endlinecolor\":\"#2a3f5f\",\"gridcolor\":\"white\",\"linecolor\":\"white\",\"minorgridcolor\":\"white\",\"startlinecolor\":\"#2a3f5f\"},\"baxis\":{\"endlinecolor\":\"#2a3f5f\",\"gridcolor\":\"white\",\"linecolor\":\"white\",\"minorgridcolor\":\"white\",\"startlinecolor\":\"#2a3f5f\"},\"type\":\"carpet\"}],\"choropleth\":[{\"colorbar\":{\"outlinewidth\":0,\"ticks\":\"\"},\"type\":\"choropleth\"}],\"contourcarpet\":[{\"colorbar\":{\"outlinewidth\":0,\"ticks\":\"\"},\"type\":\"contourcarpet\"}],\"contour\":[{\"colorbar\":{\"outlinewidth\":0,\"ticks\":\"\"},\"colorscale\":[[0.0,\"#0d0887\"],[0.1111111111111111,\"#46039f\"],[0.2222222222222222,\"#7201a8\"],[0.3333333333333333,\"#9c179e\"],[0.4444444444444444,\"#bd3786\"],[0.5555555555555556,\"#d8576b\"],[0.6666666666666666,\"#ed7953\"],[0.7777777777777778,\"#fb9f3a\"],[0.8888888888888888,\"#fdca26\"],[1.0,\"#f0f921\"]],\"type\":\"contour\"}],\"heatmapgl\":[{\"colorbar\":{\"outlinewidth\":0,\"ticks\":\"\"},\"colorscale\":[[0.0,\"#0d0887\"],[0.1111111111111111,\"#46039f\"],[0.2222222222222222,\"#7201a8\"],[0.3333333333333333,\"#9c179e\"],[0.4444444444444444,\"#bd3786\"],[0.5555555555555556,\"#d8576b\"],[0.6666666666666666,\"#ed7953\"],[0.7777777777777778,\"#fb9f3a\"],[0.8888888888888888,\"#fdca26\"],[1.0,\"#f0f921\"]],\"type\":\"heatmapgl\"}],\"heatmap\":[{\"colorbar\":{\"outlinewidth\":0,\"ticks\":\"\"},\"colorscale\":[[0.0,\"#0d0887\"],[0.1111111111111111,\"#46039f\"],[0.2222222222222222,\"#7201a8\"],[0.3333333333333333,\"#9c179e\"],[0.4444444444444444,\"#bd3786\"],[0.5555555555555556,\"#d8576b\"],[0.6666666666666666,\"#ed7953\"],[0.7777777777777778,\"#fb9f3a\"],[0.8888888888888888,\"#fdca26\"],[1.0,\"#f0f921\"]],\"type\":\"heatmap\"}],\"histogram2dcontour\":[{\"colorbar\":{\"outlinewidth\":0,\"ticks\":\"\"},\"colorscale\":[[0.0,\"#0d0887\"],[0.1111111111111111,\"#46039f\"],[0.2222222222222222,\"#7201a8\"],[0.3333333333333333,\"#9c179e\"],[0.4444444444444444,\"#bd3786\"],[0.5555555555555556,\"#d8576b\"],[0.6666666666666666,\"#ed7953\"],[0.7777777777777778,\"#fb9f3a\"],[0.8888888888888888,\"#fdca26\"],[1.0,\"#f0f921\"]],\"type\":\"histogram2dcontour\"}],\"histogram2d\":[{\"colorbar\":{\"outlinewidth\":0,\"ticks\":\"\"},\"colorscale\":[[0.0,\"#0d0887\"],[0.1111111111111111,\"#46039f\"],[0.2222222222222222,\"#7201a8\"],[0.3333333333333333,\"#9c179e\"],[0.4444444444444444,\"#bd3786\"],[0.5555555555555556,\"#d8576b\"],[0.6666666666666666,\"#ed7953\"],[0.7777777777777778,\"#fb9f3a\"],[0.8888888888888888,\"#fdca26\"],[1.0,\"#f0f921\"]],\"type\":\"histogram2d\"}],\"histogram\":[{\"marker\":{\"pattern\":{\"fillmode\":\"overlay\",\"size\":10,\"solidity\":0.2}},\"type\":\"histogram\"}],\"mesh3d\":[{\"colorbar\":{\"outlinewidth\":0,\"ticks\":\"\"},\"type\":\"mesh3d\"}],\"parcoords\":[{\"line\":{\"colorbar\":{\"outlinewidth\":0,\"ticks\":\"\"}},\"type\":\"parcoords\"}],\"pie\":[{\"automargin\":true,\"type\":\"pie\"}],\"scatter3d\":[{\"line\":{\"colorbar\":{\"outlinewidth\":0,\"ticks\":\"\"}},\"marker\":{\"colorbar\":{\"outlinewidth\":0,\"ticks\":\"\"}},\"type\":\"scatter3d\"}],\"scattercarpet\":[{\"marker\":{\"colorbar\":{\"outlinewidth\":0,\"ticks\":\"\"}},\"type\":\"scattercarpet\"}],\"scattergeo\":[{\"marker\":{\"colorbar\":{\"outlinewidth\":0,\"ticks\":\"\"}},\"type\":\"scattergeo\"}],\"scattergl\":[{\"marker\":{\"colorbar\":{\"outlinewidth\":0,\"ticks\":\"\"}},\"type\":\"scattergl\"}],\"scattermapbox\":[{\"marker\":{\"colorbar\":{\"outlinewidth\":0,\"ticks\":\"\"}},\"type\":\"scattermapbox\"}],\"scatterpolargl\":[{\"marker\":{\"colorbar\":{\"outlinewidth\":0,\"ticks\":\"\"}},\"type\":\"scatterpolargl\"}],\"scatterpolar\":[{\"marker\":{\"colorbar\":{\"outlinewidth\":0,\"ticks\":\"\"}},\"type\":\"scatterpolar\"}],\"scatter\":[{\"marker\":{\"colorbar\":{\"outlinewidth\":0,\"ticks\":\"\"}},\"type\":\"scatter\"}],\"scatterternary\":[{\"marker\":{\"colorbar\":{\"outlinewidth\":0,\"ticks\":\"\"}},\"type\":\"scatterternary\"}],\"surface\":[{\"colorbar\":{\"outlinewidth\":0,\"ticks\":\"\"},\"colorscale\":[[0.0,\"#0d0887\"],[0.1111111111111111,\"#46039f\"],[0.2222222222222222,\"#7201a8\"],[0.3333333333333333,\"#9c179e\"],[0.4444444444444444,\"#bd3786\"],[0.5555555555555556,\"#d8576b\"],[0.6666666666666666,\"#ed7953\"],[0.7777777777777778,\"#fb9f3a\"],[0.8888888888888888,\"#fdca26\"],[1.0,\"#f0f921\"]],\"type\":\"surface\"}],\"table\":[{\"cells\":{\"fill\":{\"color\":\"#EBF0F8\"},\"line\":{\"color\":\"white\"}},\"header\":{\"fill\":{\"color\":\"#C8D4E3\"},\"line\":{\"color\":\"white\"}},\"type\":\"table\"}]},\"layout\":{\"annotationdefaults\":{\"arrowcolor\":\"#2a3f5f\",\"arrowhead\":0,\"arrowwidth\":1},\"autotypenumbers\":\"strict\",\"coloraxis\":{\"colorbar\":{\"outlinewidth\":0,\"ticks\":\"\"}},\"colorscale\":{\"diverging\":[[0,\"#8e0152\"],[0.1,\"#c51b7d\"],[0.2,\"#de77ae\"],[0.3,\"#f1b6da\"],[0.4,\"#fde0ef\"],[0.5,\"#f7f7f7\"],[0.6,\"#e6f5d0\"],[0.7,\"#b8e186\"],[0.8,\"#7fbc41\"],[0.9,\"#4d9221\"],[1,\"#276419\"]],\"sequential\":[[0.0,\"#0d0887\"],[0.1111111111111111,\"#46039f\"],[0.2222222222222222,\"#7201a8\"],[0.3333333333333333,\"#9c179e\"],[0.4444444444444444,\"#bd3786\"],[0.5555555555555556,\"#d8576b\"],[0.6666666666666666,\"#ed7953\"],[0.7777777777777778,\"#fb9f3a\"],[0.8888888888888888,\"#fdca26\"],[1.0,\"#f0f921\"]],\"sequentialminus\":[[0.0,\"#0d0887\"],[0.1111111111111111,\"#46039f\"],[0.2222222222222222,\"#7201a8\"],[0.3333333333333333,\"#9c179e\"],[0.4444444444444444,\"#bd3786\"],[0.5555555555555556,\"#d8576b\"],[0.6666666666666666,\"#ed7953\"],[0.7777777777777778,\"#fb9f3a\"],[0.8888888888888888,\"#fdca26\"],[1.0,\"#f0f921\"]]},\"colorway\":[\"#636efa\",\"#EF553B\",\"#00cc96\",\"#ab63fa\",\"#FFA15A\",\"#19d3f3\",\"#FF6692\",\"#B6E880\",\"#FF97FF\",\"#FECB52\"],\"font\":{\"color\":\"#2a3f5f\"},\"geo\":{\"bgcolor\":\"white\",\"lakecolor\":\"white\",\"landcolor\":\"#E5ECF6\",\"showlakes\":true,\"showland\":true,\"subunitcolor\":\"white\"},\"hoverlabel\":{\"align\":\"left\"},\"hovermode\":\"closest\",\"mapbox\":{\"style\":\"light\"},\"paper_bgcolor\":\"white\",\"plot_bgcolor\":\"#E5ECF6\",\"polar\":{\"angularaxis\":{\"gridcolor\":\"white\",\"linecolor\":\"white\",\"ticks\":\"\"},\"bgcolor\":\"#E5ECF6\",\"radialaxis\":{\"gridcolor\":\"white\",\"linecolor\":\"white\",\"ticks\":\"\"}},\"scene\":{\"xaxis\":{\"backgroundcolor\":\"#E5ECF6\",\"gridcolor\":\"white\",\"gridwidth\":2,\"linecolor\":\"white\",\"showbackground\":true,\"ticks\":\"\",\"zerolinecolor\":\"white\"},\"yaxis\":{\"backgroundcolor\":\"#E5ECF6\",\"gridcolor\":\"white\",\"gridwidth\":2,\"linecolor\":\"white\",\"showbackground\":true,\"ticks\":\"\",\"zerolinecolor\":\"white\"},\"zaxis\":{\"backgroundcolor\":\"#E5ECF6\",\"gridcolor\":\"white\",\"gridwidth\":2,\"linecolor\":\"white\",\"showbackground\":true,\"ticks\":\"\",\"zerolinecolor\":\"white\"}},\"shapedefaults\":{\"line\":{\"color\":\"#2a3f5f\"}},\"ternary\":{\"aaxis\":{\"gridcolor\":\"white\",\"linecolor\":\"white\",\"ticks\":\"\"},\"baxis\":{\"gridcolor\":\"white\",\"linecolor\":\"white\",\"ticks\":\"\"},\"bgcolor\":\"#E5ECF6\",\"caxis\":{\"gridcolor\":\"white\",\"linecolor\":\"white\",\"ticks\":\"\"}},\"title\":{\"x\":0.05},\"xaxis\":{\"automargin\":true,\"gridcolor\":\"white\",\"linecolor\":\"white\",\"ticks\":\"\",\"title\":{\"standoff\":15},\"zerolinecolor\":\"white\",\"zerolinewidth\":2},\"yaxis\":{\"automargin\":true,\"gridcolor\":\"white\",\"linecolor\":\"white\",\"ticks\":\"\",\"title\":{\"standoff\":15},\"zerolinecolor\":\"white\",\"zerolinewidth\":2}}}},                        {\"responsive\": true}                    ).then(function(){\n",
              "                            \n",
              "var gd = document.getElementById('f7929978-aa0b-447e-a75a-d052d3918358');\n",
              "var x = new MutationObserver(function (mutations, observer) {{\n",
              "        var display = window.getComputedStyle(gd).display;\n",
              "        if (!display || display === 'none') {{\n",
              "            console.log([gd, 'removed!']);\n",
              "            Plotly.purge(gd);\n",
              "            observer.disconnect();\n",
              "        }}\n",
              "}});\n",
              "\n",
              "// Listen for the removal of the full notebook cells\n",
              "var notebookContainer = gd.closest('#notebook-container');\n",
              "if (notebookContainer) {{\n",
              "    x.observe(notebookContainer, {childList: true});\n",
              "}}\n",
              "\n",
              "// Listen for the clearing of the current output cell\n",
              "var outputEl = gd.closest('.output');\n",
              "if (outputEl) {{\n",
              "    x.observe(outputEl, {childList: true});\n",
              "}}\n",
              "\n",
              "                        })                };                            </script>        </div>\n",
              "</body>\n",
              "</html>"
            ]
          },
          "metadata": {},
          "output_type": "display_data"
        }
      ],
      "source": [
        "import plotly.graph_objects as go\n",
        "from plotly.offline import iplot, init_notebook_mode\n",
        "\n",
        "fig = go.Figure()\n",
        "fig.add_box(x=df_movie[\"minute\"], text=df_movie[\"minute\"])\n",
        "iplot(fig)"
      ]
    },
    {
      "cell_type": "markdown",
      "metadata": {
        "id": "wNNLXbkN_NfS"
      },
      "source": [
        "- **Uso de barras para identificar los valores atípicos dentro de los datos categóricos:** En caso de que los datos sean categóricos, se pueden identificar las categorías con pocas observaciones mediante el trazado de barras."
      ]
    },
    {
      "cell_type": "code",
      "execution_count": null,
      "metadata": {
        "colab": {
          "base_uri": "https://localhost:8080/",
          "height": 297
        },
        "id": "at8osa3K_XMz",
        "outputId": "6ebffe49-c5a3-4227-cd30-3ae59c459b29"
      },
      "outputs": [
        {
          "data": {
            "image/png": "[encoded data removed]",
            "text/plain": [
              "<Figure size 432x288 with 1 Axes>"
            ]
          },
          "metadata": {
            "needs_background": "light"
          },
          "output_type": "display_data"
        }
      ],
      "source": [
        "fig=df_netflix_clear[\"rating\"].value_counts().plot.bar().get_figure()\n",
        "fig.tight_layout()"
      ]
    },
    {
      "cell_type": "markdown",
      "metadata": {
        "id": "VByiWqqOAF48"
      },
      "source": [
        "En el gráfico anterior, podemos ver que la moda (el valor que aparece con más frecuencia en la columna) es \"TV-MA\", mientras que \"NC-17\" y \"UR\" son poco comunes."
      ]
    },
    {
      "cell_type": "markdown",
      "metadata": {
        "id": "Ow3NQ1BGARs5"
      },
      "source": [
        "## Manejando los valores atípicos"
      ]
    },
    {
      "cell_type": "markdown",
      "metadata": {
        "id": "DPWbwSLpAVHM"
      },
      "source": [
        "Una vez identificados los valores atípicos, se pueden filtrar. En este ejemplo, se van a filtrar los valores atípicos tomando en cuenta en los valores revelados por el boxplot."
      ]
    },
    {
      "cell_type": "code",
      "execution_count": null,
      "metadata": {
        "id": "doPqna2FAn0i"
      },
      "outputs": [],
      "source": [
        "#outliers\n",
        "df_movie[(df_movie[\"minute\"].fillna(0).astype(int)<43) | (df_movie[\"minute\"].fillna(0).astype(int)>158)]\n",
        "#filtering outliers out\n",
        "df_movie = df_movie[(df_movie[\"minute\"].fillna(0).astype(int)>43) & (df_movie[\"minute\"].fillna(0).astype(int)<158)]"
      ]
    },
    {
      "cell_type": "markdown",
      "metadata": {
        "id": "Ru5SruGGCMzJ"
      },
      "source": [
        "El df_movie creado ahora sólo contiene películas que duran entre 43' y 158'."
      ]
    },
    {
      "cell_type": "markdown",
      "metadata": {
        "id": "NasNNe4ICPBY"
      },
      "source": []
    }
  ],
  "metadata": {
    "colab": {
      "provenance": []
    },
    "kernelspec": {
      "display_name": "Python 3",
      "name": "python3"
    },
    "language_info": {
      "codemirror_mode": {
        "name": "ipython",
        "version": 3
      },
      "file_extension": ".py",
      "mimetype": "text/x-python",
      "name": "python",
      "nbconvert_exporter": "python",
      "pygments_lexer": "ipython3",
      "version": "3.8.18"
    }
  },
  "nbformat": 4,
  "nbformat_minor": 0
}
