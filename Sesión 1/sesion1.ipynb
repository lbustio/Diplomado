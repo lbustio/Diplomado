{
 "cells": [
  {
   "cell_type": "markdown",
   "metadata": {},
   "source": [
    "# Tarea Sesión 1"
   ]
  },
  {
   "cell_type": "markdown",
   "metadata": {},
   "source": [
    "## Suma de los dígitos de un número entero"
   ]
  },
  {
   "cell_type": "markdown",
   "metadata": {},
   "source": [
    "### Indicaciones\n",
    "\n",
    "Escribe un programa en Python que solicite al usuario ingresar un número entero positivo. El programa debe calcular y mostrar la suma de todos los dígitos del número ingresado. El programa debe seguir los siguientes pasos:\n",
    "\n",
    "1.\tEl programa debe solicitar al usuario que ingrese un número entero positivo.\n",
    "2.\tEl programa debe leer la entrada del usuario y validar que sea un número entero positivo. Si la entrada no cumple con esta condición, se debe mostrar un mensaje de error y solicitar al usuario que ingrese nuevamente el número.\n",
    "3.\tUtilizando un ciclo for, el programa debe iterar sobre cada dígito del número ingresado y sumarlos.\n",
    "4.\tDespués de sumar todos los dígitos, el programa debe mostrar la suma en pantalla.\n",
    "5.\tAsegúrate de utilizar la función input() para obtener la entrada del usuario y la función print() para mostrar el resultado.\n",
    "\n",
    "```Ingrese un número entero positivo: 12345```\n",
    "\n",
    "```La suma de los dígitos del número ingresado es: 15```\n"
   ]
  },
  {
   "cell_type": "code",
   "execution_count": 1,
   "metadata": {},
   "outputs": [
    {
     "name": "stdout",
     "output_type": "stream",
     "text": [
      "La suma de los digitos del numero ingresado es: 10\n"
     ]
    }
   ],
   "source": [
    "# Solicitar al usuario ingresar un número entero positivo\n",
    "numero_str = input(\"Ingrese un numero entero positivo: \")\n",
    "\n",
    "# Validar que la entrada sea un número entero positivo\n",
    "while not numero_str.isdigit():  # Comprueba si la entrada no es un número entero positivo\n",
    "    print(\"Error: La entrada debe ser un numero entero positivo.\")\n",
    "    numero_str = input(\"Ingrese un numero entero positivo: \")\n",
    "\n",
    "# Convertir la entrada a un número entero\n",
    "numero = int(numero_str)\n",
    "\n",
    "# Calcular la suma de los dígitos del número\n",
    "suma_digitos = 0\n",
    "for digito in str(numero):  # Itera sobre cada dígito del número\n",
    "    suma_digitos += int(digito)  # Suma los dígitos\n",
    "\n",
    "# Mostrar el resultado\n",
    "print(\"La suma de los digitos del numero ingresado es:\", suma_digitos)"
   ]
  }
 ],
 "metadata": {
  "kernelspec": {
   "display_name": ".venv",
   "language": "python",
   "name": "python3"
  },
  "language_info": {
   "codemirror_mode": {
    "name": "ipython",
    "version": 3
   },
   "file_extension": ".py",
   "mimetype": "text/x-python",
   "name": "python",
   "nbconvert_exporter": "python",
   "pygments_lexer": "ipython3",
   "version": "3.8.18"
  }
 },
 "nbformat": 4,
 "nbformat_minor": 2
}
